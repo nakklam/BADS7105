{
 "cells": [
  {
   "cell_type": "code",
   "execution_count": 1,
   "id": "4bd16929",
   "metadata": {},
   "outputs": [
    {
     "name": "stdout",
     "output_type": "stream",
     "text": [
      "loading model.....\n",
      "Success\n"
     ]
    }
   ],
   "source": [
    "import pandas as pd\n",
    "import numpy as np\n",
    "import matplotlib.pyplot as plt\n",
    "import seaborn as sns\n",
    "%matplotlib inline\n",
    "\n",
    "import pythainlp\n",
    "from pythainlp.tokenize import sent_tokenize, word_tokenize\n",
    "import gensim\n",
    "import string\n",
    "import pyLDAvis\n",
    "import pyLDAvis.gensim_models as gensimvis\n",
    "import re\n",
    "pyLDAvis.enable_notebook()\n",
    "import sefr_cut\n",
    "sefr_cut.load_model(engine='tl-deepcut-ws1000')\n",
    "\n",
    "import warnings\n",
    "warnings.filterwarnings('ignore')"
   ]
  },
  {
   "cell_type": "code",
   "execution_count": 2,
   "id": "5c4abdfa",
   "metadata": {},
   "outputs": [],
   "source": [
    "# Add Thai Font\n",
    "# ที่มา https://www.facebook.com/groups/colab.thailand/permalink/1421960354645985/\n",
    "import matplotlib as mpl\n",
    "plt.rcParams['font.family']='K2D'\n",
    "mpl.font_manager.fontManager.addfont('./fonts/K2D-Regular.ttf')\n",
    "mpl.rc('font', family='K2D', size=12, weight=200)"
   ]
  },
  {
   "cell_type": "markdown",
   "id": "c02502ea",
   "metadata": {},
   "source": [
    "# Load and View Dataset"
   ]
  },
  {
   "cell_type": "code",
   "execution_count": 3,
   "id": "a7ba14e3",
   "metadata": {},
   "outputs": [
    {
     "name": "stdout",
     "output_type": "stream",
     "text": [
      "Review Dimension (num reviews/num columns) :  (21, 7)\n"
     ]
    },
    {
     "data": {
      "text/html": [
       "<div>\n",
       "<style scoped>\n",
       "    .dataframe tbody tr th:only-of-type {\n",
       "        vertical-align: middle;\n",
       "    }\n",
       "\n",
       "    .dataframe tbody tr th {\n",
       "        vertical-align: top;\n",
       "    }\n",
       "\n",
       "    .dataframe thead th {\n",
       "        text-align: right;\n",
       "    }\n",
       "</style>\n",
       "<table border=\"1\" class=\"dataframe\">\n",
       "  <thead>\n",
       "    <tr style=\"text-align: right;\">\n",
       "      <th></th>\n",
       "      <th>Review ID</th>\n",
       "      <th>Restaurant_ID</th>\n",
       "      <th>Restaurant</th>\n",
       "      <th>User</th>\n",
       "      <th>Headline</th>\n",
       "      <th>Review</th>\n",
       "      <th>Rating</th>\n",
       "    </tr>\n",
       "  </thead>\n",
       "  <tbody>\n",
       "    <tr>\n",
       "      <th>0</th>\n",
       "      <td>1</td>\n",
       "      <td>352696Px-mo-mo-paradise-เดอะมอลล์-บางกะปิ</td>\n",
       "      <td>Mo-Mo-Paradise (โม โม พาราไดซ์) เดอะมอลล์ บางกะปิ</td>\n",
       "      <td>7b16469831074f7abc7824745ee75212</td>\n",
       "      <td>ที่สำคัญของร้านนี้คือบริการดีมากพนักงานน่ารักส...</td>\n",
       "      <td>ที่สำคัญของร้านนี้คือบริการดีมากพนักงานน่ารักส...</td>\n",
       "      <td>5.0</td>\n",
       "    </tr>\n",
       "    <tr>\n",
       "      <th>1</th>\n",
       "      <td>2</td>\n",
       "      <td>352696Px-mo-mo-paradise-เดอะมอลล์-บางกะปิ</td>\n",
       "      <td>Mo-Mo-Paradise (โม โม พาราไดซ์) เดอะมอลล์ บางกะปิ</td>\n",
       "      <td>pakkaramonpondej</td>\n",
       "      <td>รสชาติเหมือนทุกสาขา แต่สาขานี้ บริการดี ที่นั่งดี</td>\n",
       "      <td>นึกถึงชาบูญี่ปุ่นยังไงก็ต้อง คิดถึงโมโม่ พาราไ...</td>\n",
       "      <td>5.0</td>\n",
       "    </tr>\n",
       "    <tr>\n",
       "      <th>2</th>\n",
       "      <td>3</td>\n",
       "      <td>352696Px-mo-mo-paradise-เดอะมอลล์-บางกะปิ</td>\n",
       "      <td>Mo-Mo-Paradise (โม โม พาราไดซ์) เดอะมอลล์ บางกะปิ</td>\n",
       "      <td>saanowy</td>\n",
       "      <td>ชาบูพรีเมี่ยมสไตล์ญี่ปุ่น เนื้อดีมากกก</td>\n",
       "      <td>มาทานช่วงนี้ สามารถนั่งโต๊ะเดียวกัน หม้อเดียวก...</td>\n",
       "      <td>4.0</td>\n",
       "    </tr>\n",
       "    <tr>\n",
       "      <th>3</th>\n",
       "      <td>4</td>\n",
       "      <td>352696Px-mo-mo-paradise-เดอะมอลล์-บางกะปิ</td>\n",
       "      <td>Mo-Mo-Paradise (โม โม พาราไดซ์) เดอะมอลล์ บางกะปิ</td>\n",
       "      <td>ployynp</td>\n",
       "      <td>เนื้อดี ไอติมดี คุ้มค่าดี</td>\n",
       "      <td>ถ้านึกถึงชาบูที่มีเนื้อเน้นๆ ในราคาไม่โหดจนเกิ...</td>\n",
       "      <td>4.0</td>\n",
       "    </tr>\n",
       "    <tr>\n",
       "      <th>4</th>\n",
       "      <td>5</td>\n",
       "      <td>352696Px-mo-mo-paradise-เดอะมอลล์-บางกะปิ</td>\n",
       "      <td>Mo-Mo-Paradise (โม โม พาราไดซ์) เดอะมอลล์ บางกะปิ</td>\n",
       "      <td>665a902b335b434ab489f00f2fbb477e</td>\n",
       "      <td>อาหารมีคุณภาพ บริการดีค่ะ</td>\n",
       "      <td>เดินมาหน้าร้านแล้วได้กลิ่นชาบูหอมมาก ๆ  ประกอบ...</td>\n",
       "      <td>5.0</td>\n",
       "    </tr>\n",
       "  </tbody>\n",
       "</table>\n",
       "</div>"
      ],
      "text/plain": [
       "   Review ID                              Restaurant_ID  \\\n",
       "0          1  352696Px-mo-mo-paradise-เดอะมอลล์-บางกะปิ   \n",
       "1          2  352696Px-mo-mo-paradise-เดอะมอลล์-บางกะปิ   \n",
       "2          3  352696Px-mo-mo-paradise-เดอะมอลล์-บางกะปิ   \n",
       "3          4  352696Px-mo-mo-paradise-เดอะมอลล์-บางกะปิ   \n",
       "4          5  352696Px-mo-mo-paradise-เดอะมอลล์-บางกะปิ   \n",
       "\n",
       "                                          Restaurant  \\\n",
       "0  Mo-Mo-Paradise (โม โม พาราไดซ์) เดอะมอลล์ บางกะปิ   \n",
       "1  Mo-Mo-Paradise (โม โม พาราไดซ์) เดอะมอลล์ บางกะปิ   \n",
       "2  Mo-Mo-Paradise (โม โม พาราไดซ์) เดอะมอลล์ บางกะปิ   \n",
       "3  Mo-Mo-Paradise (โม โม พาราไดซ์) เดอะมอลล์ บางกะปิ   \n",
       "4  Mo-Mo-Paradise (โม โม พาราไดซ์) เดอะมอลล์ บางกะปิ   \n",
       "\n",
       "                               User  \\\n",
       "0  7b16469831074f7abc7824745ee75212   \n",
       "1                  pakkaramonpondej   \n",
       "2                           saanowy   \n",
       "3                           ployynp   \n",
       "4  665a902b335b434ab489f00f2fbb477e   \n",
       "\n",
       "                                            Headline  \\\n",
       "0  ที่สำคัญของร้านนี้คือบริการดีมากพนักงานน่ารักส...   \n",
       "1  รสชาติเหมือนทุกสาขา แต่สาขานี้ บริการดี ที่นั่งดี   \n",
       "2             ชาบูพรีเมี่ยมสไตล์ญี่ปุ่น เนื้อดีมากกก   \n",
       "3                          เนื้อดี ไอติมดี คุ้มค่าดี   \n",
       "4                          อาหารมีคุณภาพ บริการดีค่ะ   \n",
       "\n",
       "                                              Review  Rating  \n",
       "0  ที่สำคัญของร้านนี้คือบริการดีมากพนักงานน่ารักส...     5.0  \n",
       "1  นึกถึงชาบูญี่ปุ่นยังไงก็ต้อง คิดถึงโมโม่ พาราไ...     5.0  \n",
       "2  มาทานช่วงนี้ สามารถนั่งโต๊ะเดียวกัน หม้อเดียวก...     4.0  \n",
       "3  ถ้านึกถึงชาบูที่มีเนื้อเน้นๆ ในราคาไม่โหดจนเกิ...     4.0  \n",
       "4  เดินมาหน้าร้านแล้วได้กลิ่นชาบูหอมมาก ๆ  ประกอบ...     5.0  "
      ]
     },
     "execution_count": 3,
     "metadata": {},
     "output_type": "execute_result"
    }
   ],
   "source": [
    "review_df = pd.read_csv('./data/CustomerReviews.csv')\n",
    "print(\"Review Dimension (num reviews/num columns) : \",review_df.shape)\n",
    "review_df.head()"
   ]
  },
  {
   "cell_type": "markdown",
   "id": "60c3695c",
   "metadata": {},
   "source": [
    "# Basic Text Wrangling"
   ]
  },
  {
   "cell_type": "code",
   "execution_count": 4,
   "id": "1a8de8c4",
   "metadata": {},
   "outputs": [
    {
     "name": "stdout",
     "output_type": "stream",
     "text": [
      "0     ที่สำคัญของร้านนี้คือบริการดีมากพนักงานน่ารักส...\n",
      "1     รสชาติิเหมือนทุกสาขา แต่สาขานี้ บริการดี ที่นั...\n",
      "2     ชาบูพรีเมียมสไตล์ญี่ปุ่น เนื้อดีมากก มาทานช่วง...\n",
      "3     เนื้อดี icecreamดี คุ้มค่าดี ถ้านึกถึงชาบูที่ม...\n",
      "4     อาหารมีคุณภาพ บริการดีค่ะ เดินมาหน้าร้านแล้วได...\n",
      "5     กินให้อิ่ม ที่ momo ร้านบุฟเฟ่ต์่ต์ ชาบูแนวญี่...\n",
      "6     ชาบู   สุกกี้สไลด์ญี่ปุ่นที่แท้ทรู  Number    ...\n",
      "7     ร้านชาบูแฟรนไชส์ ที่ราคาเหมาะสมกับคุณภาพ ถือว่...\n",
      "8     อร่อยคุ้ม ของทานเล่นเยอะมาก มา านที่ขาบูชิต้อง...\n",
      "9     ทานอีก ชอบกุ้งทอดเทมปุระ ใครชอบกุ้งทอดเทมปุระ ...\n",
      "10    บุฟเฟ่ต์่ต์ต์คุ้ม ในห้าง กลับมาupdateราคาshabu...\n",
      "11    เปลี่ยนจากกุ้งขาดสารอาหารเป็นกุ้งปอกเปลือกแล้ว...\n",
      "12    อิ่ม อร่อย ฝุดฝุด เมื่อหลายวันก่อนนัดหาข้าวทาน...\n",
      "13    จัดให้เต็มคราบกับชั่วโมงครึ่ง Shabushi บอกตรง ...\n",
      "14    ชาบู shabushi สวัสดีครับวันนี้จะขอมารีวิวร้านs...\n",
      "15    บุฟเฟ่ต์ต์น้ำเดือด สายพานร่อน shabushi สาขาเดอ...\n",
      "16    บุฟเฟ่ต์่ต์ต์ชาบูและpizzaไม่อั้นในราคา     บาท...\n",
      "17    ร้านบุฟเฟ่ต์่ต์ต์ ราคามิตรภาพ อยู่ชั้น  ติดโรง...\n",
      "18    ของหลากหลาย ปน  งง  นิดหน่อย เคยรู้จักร้านนี้จ...\n",
      "19    อร่อยมากค่ะ คุ้มค่าสมราคา บุฟเฟ่ต์่ต์หมูผักต่า...\n",
      "20    แม้จะแปลกบ้าง แต่ก็ถือว่าอยู่ในเกณฑ์ที่ดี มีอา...\n",
      "Name: review_text, dtype: object\n"
     ]
    }
   ],
   "source": [
    "# Text Cleansing\n",
    "# to correct misspelling word and remove the unwanted word or character\n",
    "correct_word_list = {\n",
    "    'โมโม่' : 'momo', 'มากก' : 'มาก', 'กกก' : 'ก', 'แวท' : 'vat', 'พิซเซอเรีย' : 'pizzeria', 'พิซซ่า' : 'pizza', \n",
    "    'เก้บ' : 'เก็บ', 'ชูชิ' : 'ซูชิ', 'ซึป' : 'ซุป', 'ชาบูชิ' : 'shabushi', 'อารามณ์' : 'อารมณ์', 'ส่งน' : 'ส่วน', \n",
    "    'สไลต์' : 'สไลด์', 'ประยุคก์' : 'ประยุกต์', 'ไอติม' : 'icecream', 'พาราไดส์' : 'paradise', 'พาราไดซ์' : 'paradise', \n",
    "    'อัพเดท' : 'update', 'นาราย' : 'narai ', 'พรีเมี่ยม' : 'พรีเมียม','บ๋วย' : 'บ๊วย', 'เฟรนไชส์' : 'แฟรนไชส์',\n",
    "    'บุฟเฟ่ต์่ต์ต์ต์':'บุฟเฟ่ต์','บุฟเฟ่ต์่ต์ต์':'บุฟเฟ่ต์','บุฟเฟ่ต์ต์':'บุฟเฟ่ต์',\n",
    "    'บุพเฟ่' : 'บุฟเฟ่ต์','บุฟเฟ่' : 'บุฟเฟ่ต์','บุฟเฟ' : 'บุฟเฟ่ต์', 'บุฟเฟต' : 'บุฟเฟ่ต์',\n",
    "    'รสชาต' : 'รสชาติ'\n",
    "}\n",
    "\n",
    "unwanted_words = ['(', ')' ,'😆','🤣','\"','','%','\\u200b','::']\n",
    "\n",
    "def do_text_preprocessing(text):\n",
    "    # 1. correct some misspelling in text\n",
    "    for old,new in correct_word_list.items():\n",
    "        text = text.replace(old, new)\n",
    "        \n",
    "    # 2. remove unwanted word\n",
    "    for word in unwanted_words:\n",
    "        text = text.replace(word, '')\n",
    "        \n",
    "    # 3. remove punctuations character in text\n",
    "    text = re.sub(r'[ๆฯ!#$&%\\\"\\'()*+,-./:;<=>?@\\[\\]\\\\^_`{}|~]',' ', text)\n",
    "    \n",
    "\n",
    "    # 4. remove digit character in text\n",
    "    text = re.sub(r'\\d',' ', text)\n",
    "    \n",
    "    return text.strip()\n",
    "\n",
    "# the review text is the review's headline and contents\n",
    "review_df['review_text'] = review_df.apply(lambda x: do_text_preprocessing(x['Headline'] + ' ' + x['Review']), axis=1)\n",
    "print(review_df['review_text'])"
   ]
  },
  {
   "cell_type": "code",
   "execution_count": 5,
   "id": "01cc83ea",
   "metadata": {},
   "outputs": [
    {
     "name": "stdout",
     "output_type": "stream",
     "text": [
      "CPU times: user 33.6 s, sys: 2.39 s, total: 36 s\n",
      "Wall time: 29 s\n",
      "0     [บริการ, พนักงาน, น่ารัก, สะอาด, สะอ้าน, ใส่, ...\n",
      "1     [รสชาติิ, เหมือน, สาขา, สาขา, บริการ, นั่ง, นึ...\n",
      "2     [ชาบูพรีเมียม, สไตล์, ญี่ปุ่น, เนื้อ, มากก, นั...\n",
      "3     [เนื้อ, icecream, คุ้ม, ค่า, นึก, ชาบู, เนื้อ,...\n",
      "4     [ภาพ, บริการ, เดิน, หน้า, กลิ่น, ชาบูหอม, โปรบ...\n",
      "5     [อิ่ม, momo, บุฟเฟ่ต์่ต์, ชา, บู, แนว, ญี่ปุ่น...\n",
      "6     [ชาบู, สุก, กี้, สไลด์, ญี่ปุ่น, ทรู, Number, ...\n",
      "7     [ชาบูแฟรนไชส์, ราคา, เหมาะสม, คุณภาพ, คุ้ม, น้...\n",
      "8     [อร่อย, คุ้ม, เล่น, าน, ขา, บูชิ, หิว, งั้น, ค...\n",
      "9     [ชอบ, กุ้ง, ทอด, เทมปุระ, ชอบ, กุ้ง, ทอด, เทมป...\n",
      "10    [บุฟเฟ่ต์่ต์ต์, คุ้ม, ห้าง, update, ราคา, shab...\n",
      "11    [กุ้ง, สาร, กุ้ง, ปอก, เปลือก, รู้, ห่างหาย, s...\n",
      "12    [อิ่ม, อร่อย, ฝุดฝุด, นัด, หา, ข้าว, เดอะแกงค์...\n",
      "13    [เต็ม, คราบ, ชั่วโมง, ครึ่ง, Shabushi, บุฟเฟ่ต...\n",
      "14    [ชาบู, shabushi, สวัสดี, รี, วิว, shabushi, บุ...\n",
      "15    [บุฟเฟ่ต์ต์, น้ำ, เดือด, สายพานร่อน, shabushi,...\n",
      "16    [บุฟเฟ่ต์่ต์ต์, ชาบู, pizza, อั้น, ราคา, อิ่ม,...\n",
      "17    [บุฟเฟ่ต์่ต์ต์, ราคา, มิตรภาพ, ชั้น, ติด, โรงห...\n",
      "18    [หลาก, ปน, งง, รู้จัก, union, mall, ขึ้นใจ, ชา...\n",
      "19    [อร่อย, คุ้ม, ค่า, สมราคา, บุฟเฟ่ต์่ต์, หมู, ผ...\n",
      "20    [แปลก, เกณฑ์, สมควร, สั่ง, ราคา, น้ำ, vat, โอเ...\n",
      "Name: review_token, dtype: object\n"
     ]
    }
   ],
   "source": [
    "# word segmentation and remove the common words(stop words)\n",
    "thai_stopwords = list(pythainlp.corpus.thai_stopwords())\n",
    "unwanted_word = ['ร้าน','บาท','สำหรับ','ชื่อ','ทาน','ดี','กิน','อาหาร',\n",
    "                 'ดู','คน','ตัว','ลอง','ตอน','เลือก','ใจ','ที่']\n",
    "remove_word_list = thai_stopwords + unwanted_word\n",
    "\n",
    "def do_word_tokenization(text):\n",
    "    word_list = []\n",
    "    for sentence in sent_tokenize(text, engine='whitespace+newline'):\n",
    "        for words in sefr_cut.tokenize(sentence,k=100):\n",
    "            for word in words:\n",
    "                if len(word) >1 and word not in remove_word_list:\n",
    "                    word_list.append(word)\n",
    "    return word_list\n",
    "\n",
    "%time review_df['review_token'] = review_df['review_text'].apply(do_word_tokenization)\n",
    "print(review_df['review_token'])"
   ]
  },
  {
   "cell_type": "code",
   "execution_count": 6,
   "id": "3418e893",
   "metadata": {},
   "outputs": [
    {
     "name": "stdout",
     "output_type": "stream",
     "text": [
      "CPU times: user 32.2 s, sys: 2.33 s, total: 34.6 s\n",
      "Wall time: 27.7 s\n",
      "0     [บริการ, พนักงาน, น่ารัก, สะอาด, สะอ้าน, ใส่, ...\n",
      "1     [รสชาติิ, เหมือน, สาขา, สาขา, บริการ, นั่ง, นึ...\n",
      "2     [ชาบูพรีเมียม, สไตล์, ญี่ปุ่น, เนื้อ, มากก, นั...\n",
      "3     [เนื้อ, icecream, คุ้ม, ค่า, นึก, ชาบู, เนื้อ,...\n",
      "4     [ภาพ, บริการ, เดิน, หน้า, กลิ่น, ชาบูหอม, โปรบ...\n",
      "5     [อิ่ม, momo, บุฟเฟ่ต์่ต์, ชา, บู, แนว, ญี่ปุ่น...\n",
      "6     [ชาบู, สุก, กี้, สไลด์, ญี่ปุ่น, ทรู, Number, ...\n",
      "7     [ชาบูแฟรนไชส์, ราคา, เหมาะสม, คุณภาพ, คุ้ม, น้...\n",
      "8     [อร่อย, คุ้ม, เล่น, าน, ขา, บูชิ, หิว, งั้น, ค...\n",
      "9     [ชอบ, กุ้ง, ทอด, เทมปุระ, ชอบ, กุ้ง, ทอด, เทมป...\n",
      "10    [บุฟเฟ่ต์่ต์ต์, คุ้ม, ห้าง, update, ราคา, shab...\n",
      "11    [กุ้ง, สาร, กุ้ง, ปอก, เปลือก, รู้, ห่างหาย, s...\n",
      "12    [อิ่ม, อร่อย, ฝุดฝุด, นัด, หา, ข้าว, เดอะแกงค์...\n",
      "13    [เต็ม, คราบ, ชั่วโมง, ครึ่ง, Shabushi, บุฟเฟ่ต...\n",
      "14    [ชาบู, shabushi, สวัสดี, รี, วิว, shabushi, บุ...\n",
      "15    [บุฟเฟ่ต์ต์, น้ำ, เดือด, สายพานร่อน, shabushi,...\n",
      "16    [บุฟเฟ่ต์่ต์ต์, ชาบู, pizza, อั้น, ราคา, อิ่ม,...\n",
      "17    [บุฟเฟ่ต์่ต์ต์, ราคา, มิตรภาพ, ชั้น, ติด, โรงห...\n",
      "18    [หลาก, ปน, งง, รู้จัก, union, mall, ขึ้นใจ, ชา...\n",
      "19    [อร่อย, คุ้ม, ค่า, สมราคา, บุฟเฟ่ต์่ต์, หมู, ผ...\n",
      "20    [แปลก, เกณฑ์, สมควร, สั่ง, ราคา, น้ำ, vat, โอเ...\n",
      "Name: review_token, dtype: object\n"
     ]
    }
   ],
   "source": [
    "# word segmentation and remove the common words(stop words)\n",
    "thai_stopwords = list(pythainlp.corpus.thai_stopwords())\n",
    "unwanted_word = ['(', ')' ,'😆','🤣','\"','','%','\\u200b','::',\n",
    "                 'ร้าน','บาท','สำหรับ','ชื่อ','ทาน','ดี','กิน','อาหาร',\n",
    "                 'ดู','คน','ตัว','ลอง','ตอน','เลือก','ใจ','ที่']\n",
    "remove_word_list = thai_stopwords + unwanted_word\n",
    "\n",
    "def do_word_tokenization(text):\n",
    "    word_list = []\n",
    "    for sentence in sent_tokenize(text, engine='whitespace+newline'):\n",
    "        for words in sefr_cut.tokenize(sentence,k=100):\n",
    "            for word in words:\n",
    "                if len(word) >1 and word not in remove_word_list:\n",
    "                    word_list.append(word)\n",
    "    return word_list\n",
    "\n",
    "%time review_df['review_token'] = review_df['review_text'].apply(do_word_tokenization)\n",
    "print(review_df['review_token'])"
   ]
  },
  {
   "cell_type": "markdown",
   "id": "c5fc82b8",
   "metadata": {},
   "source": [
    "# Topic Models with Gensim\n",
    "Gensim เป็น framework สำหรับทำ Topic Model, Text Similarity, Sematic Analytics และ Text Summarization โดย Gensim มีความยืดหยุ่นกว่า scikit-learn"
   ]
  },
  {
   "cell_type": "markdown",
   "id": "fba6bf3f",
   "metadata": {},
   "source": [
    "### Create a dictionary representation of the user's reviews."
   ]
  },
  {
   "cell_type": "code",
   "execution_count": 7,
   "id": "803dc0d3",
   "metadata": {},
   "outputs": [
    {
     "name": "stdout",
     "output_type": "stream",
     "text": [
      "Number of Vocabulary : 478 \n",
      "\n",
      "Dictionary Items : [(0, 'icecream'), (1, 'คอ'), (2, 'คุณภาพ'), (3, 'คุ้ม'), (4, 'จำกัด'), (5, 'ซุป'), (6, 'ดำ'), (7, 'ต้องการ'), (8, 'ถาด'), (9, 'ถาม'), (10, 'น่ารัก'), (11, 'น้ำ'), (12, 'น้ำจิ้ม'), (13, 'บริการ'), (14, 'ประทับใจ'), (15, 'พนักงาน'), (16, 'รสชาติิ'), (17, 'ราคา'), (18, 'ร่อย'), (19, 'ละกัน'), (20, 'สรุป'), (21, 'สะอาด'), (22, 'สะอ้าน'), (23, 'สัน'), (24, 'หลากหลาย'), (25, 'อร่อย'), (26, 'เคลม'), (27, 'เจี้ยว'), (28, 'เซ็ท'), (29, 'เต้า')]\n",
      "\n"
     ]
    }
   ],
   "source": [
    "review_token_list = review_df['review_token'].tolist()\n",
    "dictionary = gensim.corpora.Dictionary(review_token_list)\n",
    "print(f'Number of Vocabulary : {len(dictionary)} \\n')\n",
    "print(f'Dictionary Items : {list(dictionary.items())[:30]}\\n')"
   ]
  },
  {
   "cell_type": "code",
   "execution_count": 8,
   "id": "1047905b",
   "metadata": {},
   "outputs": [
    {
     "name": "stdout",
     "output_type": "stream",
     "text": [
      "[(0, 1), (1, 1), (2, 2), (3, 1), (4, 1), (5, 1), (6, 1), (7, 1), (8, 1), (9, 1), (10, 2), (11, 1), (12, 1), (13, 5), (14, 3), (15, 2), (16, 4), (17, 1), (18, 1), (19, 1), (20, 1), (21, 2), (22, 2), (23, 1), (24, 1), (25, 2), (26, 1), (27, 1), (28, 1), (29, 1), (30, 2), (31, 1), (32, 1), (33, 2), (34, 1), (35, 1), (36, 2)]\n"
     ]
    }
   ],
   "source": [
    "# Transforming review list into bag of words vectors\n",
    "bow_corpus = [dictionary.doc2bow(text) for text in review_token_list]\n",
    "print(bow_corpus[0])"
   ]
  },
  {
   "cell_type": "code",
   "execution_count": 9,
   "id": "03432e47",
   "metadata": {
    "scrolled": true
   },
   "outputs": [
    {
     "name": "stdout",
     "output_type": "stream",
     "text": [
      "Total number of corpus: 21\n",
      "[('icecream', 1), ('คอ', 1), ('คุณภาพ', 2), ('คุ้ม', 1), ('จำกัด', 1), ('ซุป', 1), ('ดำ', 1), ('ต้องการ', 1), ('ถาด', 1), ('ถาม', 1), ('น่ารัก', 2), ('น้ำ', 1), ('น้ำจิ้ม', 1), ('บริการ', 5), ('ประทับใจ', 3), ('พนักงาน', 2), ('รสชาติิ', 4), ('ราคา', 1), ('ร่อย', 1), ('ละกัน', 1), ('สรุป', 1), ('สะอาด', 2), ('สะอ้าน', 2), ('สัน', 1), ('หลากหลาย', 1), ('อร่อย', 2), ('เคลม', 1), ('เจี้ยว', 1), ('เซ็ท', 1), ('เต้า', 1), ('เนื้อ', 2), ('เป็ด', 1), ('เผ็ด', 1), ('แปลก', 2), ('แฟน', 1), ('โมจิอ', 1), ('ใส่', 2)]\n"
     ]
    }
   ],
   "source": [
    "# total papers in the corpus\n",
    "print('Total number of corpus:', len(bow_corpus))\n",
    "\n",
    "# viewing actual terms and their counts\n",
    "print([(dictionary[idx] , freq) for idx, freq in bow_corpus[0]])"
   ]
  },
  {
   "cell_type": "markdown",
   "id": "55aa1eb2",
   "metadata": {},
   "source": [
    "# Topic Models with Latent Dirichlet Allocation (LDA)"
   ]
  },
  {
   "cell_type": "code",
   "execution_count": 10,
   "id": "0cc3cc91",
   "metadata": {},
   "outputs": [
    {
     "name": "stdout",
     "output_type": "stream",
     "text": [
      "CPU times: user 177 ms, sys: 11.9 ms, total: 189 ms\n",
      "Wall time: 184 ms\n"
     ]
    }
   ],
   "source": [
    "%%time\n",
    "TOTAL_TOPICS = 10\n",
    "lda_model = gensim.models.LdaModel(corpus=bow_corpus, \n",
    "                                   id2word=dictionary, \n",
    "                                   chunksize=1000, \n",
    "                                   alpha='auto', \n",
    "                                   eta='auto', \n",
    "                                   random_state=42,\n",
    "                                   iterations=500, \n",
    "                                   num_topics=TOTAL_TOPICS, \n",
    "                                   passes=20, \n",
    "                                   eval_every=None)"
   ]
  },
  {
   "cell_type": "code",
   "execution_count": 11,
   "id": "f798c193",
   "metadata": {
    "scrolled": false
   },
   "outputs": [
    {
     "name": "stdout",
     "output_type": "stream",
     "text": [
      "Topic #1:\n",
      "0.031*\"กุ้ง\" + 0.031*\"คุ้ม\" + 0.025*\"เทมปุระ\" + 0.019*\"ทอด\" + 0.019*\"น้ำ\" + 0.019*\"ซุป\" + 0.019*\"ราคา\" + 0.019*\"ชอบ\" + 0.013*\"แนะนำ\" + 0.013*\"เหมาะสม\" + 0.013*\"รสชาติิดี\" + 0.013*\"ชาบูแฟรนไชส์\" + 0.013*\"เล่น\" + 0.013*\"อร่อย\" + 0.013*\"ชาบู\" + 0.013*\"ปุระ\" + 0.013*\"ซูชิ\" + 0.013*\"งั้น\" + 0.013*\"เมนู\" + 0.007*\"shabushi\"\n",
      "\n",
      "Topic #2:\n",
      "0.033*\"น้ำ\" + 0.033*\"ราคา\" + 0.020*\"รสชาติิ\" + 0.020*\"ชาบู\" + 0.020*\"สาขา\" + 0.020*\"ซุป\" + 0.020*\"pizza\" + 0.013*\"ชาบูน้ำดำ\" + 0.013*\"สุกี้\" + 0.013*\"ญี่ปุ่น\" + 0.013*\"น้ำจิ้ม\" + 0.013*\"โมโม\" + 0.013*\"เนื้อ\" + 0.013*\"หมู\" + 0.013*\"เมนู\" + 0.013*\"บุฟเฟ่ต์่ต์ต์\" + 0.013*\"คุ้ม\" + 0.013*\"จ่าย\" + 0.013*\"อิ่ม\" + 0.007*\"paradise\"\n",
      "\n",
      "Topic #3:\n",
      "0.039*\"เนื้อ\" + 0.029*\"นั่ง\" + 0.020*\"บริการ\" + 0.020*\"สาขา\" + 0.020*\"ชอบ\" + 0.020*\"สั่ง\" + 0.020*\"นึก\" + 0.010*\"ค่า\" + 0.010*\"เหมือน\" + 0.010*\"รส\" + 0.010*\"เดิน\" + 0.010*\"โปรบัตร\" + 0.010*\"เนื้อต่าง\" + 0.010*\"แคบ\" + 0.010*\"เส้น\" + 0.010*\"ลูก\" + 0.010*\"ชิ้น\" + 0.010*\"ผัก\" + 0.010*\"บู\" + 0.010*\"ข้าว\"\n",
      "\n",
      "Topic #4:\n",
      "0.037*\"สั่ง\" + 0.037*\"ราคา\" + 0.025*\"แปลก\" + 0.025*\"โอเค\" + 0.025*\"ซูชิ\" + 0.025*\"อร่อย\" + 0.025*\"จ่าย\" + 0.025*\"น้ำ\" + 0.013*\"มาลงสด\" + 0.013*\"สด\" + 0.013*\"ร้อน\" + 0.013*\"หวาน\" + 0.013*\"pizza\" + 0.013*\"vat\" + 0.013*\"เงิน\" + 0.013*\"VAT\" + 0.013*\"เนื้อ\" + 0.013*\"หน้า\" + 0.013*\"วัว\" + 0.013*\"ทดแทน\"\n",
      "\n",
      "Topic #5:\n",
      "0.040*\"บริการ\" + 0.027*\"อร่อย\" + 0.027*\"รสชาติิ\" + 0.020*\"เนื้อ\" + 0.020*\"ซุป\" + 0.020*\"ประทับใจ\" + 0.020*\"คุ้ม\" + 0.020*\"shabushi\" + 0.014*\"ใส่\" + 0.014*\"แปลก\" + 0.014*\"น่ารัก\" + 0.014*\"สะอาด\" + 0.014*\"ราคา\" + 0.014*\"นํ้า\" + 0.014*\"สะอ้าน\" + 0.014*\"พนักงาน\" + 0.014*\"ต้องการ\" + 0.014*\"คุณภาพ\" + 0.014*\"บุฟเฟ่ต์่ต์ต์\" + 0.014*\"น้ำ\"\n",
      "\n",
      "Topic #6:\n",
      "0.052*\"เนื้อ\" + 0.035*\"น้ำ\" + 0.024*\"ซุป\" + 0.018*\"อร่อย\" + 0.018*\"หวาน\" + 0.016*\"ค่า\" + 0.016*\"หม้อ\" + 0.016*\"วัว\" + 0.016*\"สั่ง\" + 0.015*\"คุ้ม\" + 0.015*\"icecream\" + 0.015*\"ชอบ\" + 0.012*\"หน้า\" + 0.012*\"โต๊ะ\" + 0.012*\"ชาบูน้ำดำ\" + 0.012*\"เห็ด\" + 0.012*\"ไก่\" + 0.012*\"แนว\" + 0.012*\"หมู\" + 0.012*\"ญี่ปุ่น\"\n",
      "\n",
      "Topic #7:\n",
      "0.002*\"ราคา\" + 0.002*\"คุ้ม\" + 0.002*\"ซุป\" + 0.002*\"เนื้อ\" + 0.002*\"อร่อย\" + 0.002*\"บริการ\" + 0.002*\"น้ำ\" + 0.002*\"เบคอน\" + 0.002*\"เปลือก\" + 0.002*\"เพื่อน\" + 0.002*\"เลิก\" + 0.002*\"เวลา\" + 0.002*\"แก้ว\" + 0.002*\"เปรี้ยว\" + 0.002*\"แถม\" + 0.002*\"แน่น\" + 0.002*\"แป้ง\" + 0.002*\"แย่\" + 0.002*\"เสาร์\" + 0.002*\"โดน\"\n",
      "\n",
      "Topic #8:\n",
      "0.027*\"สาขา\" + 0.022*\"บุฟเฟ่ต์่ต์ต์\" + 0.022*\"บริการ\" + 0.018*\"ราคา\" + 0.018*\"น้ำ\" + 0.018*\"พนักงาน\" + 0.013*\"ซุป\" + 0.013*\"รอ\" + 0.013*\"เต็ม\" + 0.013*\"ชั่วโมง\" + 0.013*\"อร่อย\" + 0.009*\"pizza\" + 0.009*\"ชั้น\" + 0.009*\"ธรรมดา\" + 0.009*\"pizzeria\" + 0.009*\"หลาก\" + 0.009*\"ชุด\" + 0.009*\"แนะนำ\" + 0.009*\"คุณภาพ\" + 0.009*\"หวย\"\n",
      "\n",
      "Topic #9:\n",
      "0.032*\"กุ้ง\" + 0.024*\"สด\" + 0.024*\"เวลา\" + 0.018*\"หวาน\" + 0.016*\"นุ่ม\" + 0.015*\"เนื้อ\" + 0.015*\"ราคา\" + 0.014*\"อร่อย\" + 0.012*\"ปอก\" + 0.012*\"เปลือก\" + 0.012*\"สาขา\" + 0.008*\"อิ่ม\" + 0.008*\"รสชาติิ\" + 0.008*\"ชั้น\" + 0.008*\"หา\" + 0.008*\"บุฟเฟ่ต์่ต์ต์\" + 0.008*\"โซน\" + 0.008*\"ซูชิ\" + 0.008*\"เช็ค\" + 0.008*\"รู้สึก\"\n",
      "\n",
      "Topic #10:\n",
      "0.032*\"หวาน\" + 0.032*\"บุฟเฟ่ต์่ต์\" + 0.032*\"อร่อย\" + 0.022*\"หมู\" + 0.022*\"ผัก\" + 0.022*\"สมราคา\" + 0.022*\"คุ้ม\" + 0.022*\"ท้าย\" + 0.022*\"ท่าน\" + 0.022*\"น้ำ\" + 0.022*\"ค่า\" + 0.022*\"จบ\" + 0.011*\"งาน\" + 0.011*\"โปรโมชั่น\" + 0.011*\"กาไก่\" + 0.011*\"หอม\" + 0.011*\"โชค\" + 0.011*\"บราวนี่\" + 0.011*\"บุฟเฟ่ต์่ต์ต์\" + 0.011*\"icecream\"\n",
      "\n"
     ]
    }
   ],
   "source": [
    "for topic_id, topic in lda_model.print_topics(num_topics=10, num_words=20):\n",
    "    print('Topic #'+str(topic_id+1)+':')\n",
    "    print(topic)\n",
    "    print()"
   ]
  },
  {
   "cell_type": "code",
   "execution_count": 12,
   "id": "22fa703a",
   "metadata": {},
   "outputs": [
    {
     "name": "stdout",
     "output_type": "stream",
     "text": [
      "Avg. Coherence Score: -3.8516292657868596\n"
     ]
    }
   ],
   "source": [
    "topics_coherences = lda_model.top_topics(bow_corpus, topn=20)\n",
    "avg_coherence_score = np.mean([item[1] for item in topics_coherences])\n",
    "print('Avg. Coherence Score:', avg_coherence_score)"
   ]
  },
  {
   "cell_type": "code",
   "execution_count": 13,
   "id": "282af023",
   "metadata": {
    "scrolled": false
   },
   "outputs": [
    {
     "name": "stdout",
     "output_type": "stream",
     "text": [
      "LDA Topics with Weights\n",
      "==================================================\n",
      "Topic #1:\n",
      "[('หวาน', 0.032), ('บุฟเฟ่ต์่ต์', 0.032), ('อร่อย', 0.032), ('หมู', 0.022), ('ผัก', 0.022), ('สมราคา', 0.022), ('คุ้ม', 0.022), ('ท้าย', 0.022), ('ท่าน', 0.022), ('น้ำ', 0.022), ('ค่า', 0.022), ('จบ', 0.022), ('งาน', 0.011), ('โปรโมชั่น', 0.011), ('กาไก่', 0.011), ('หอม', 0.011), ('โชค', 0.011), ('บราวนี่', 0.011), ('บุฟเฟ่ต์่ต์ต์', 0.011), ('icecream', 0.011)]\n",
      "\n",
      "Topic #2:\n",
      "[('สั่ง', 0.037), ('ราคา', 0.037), ('แปลก', 0.025), ('โอเค', 0.025), ('ซูชิ', 0.025), ('อร่อย', 0.025), ('จ่าย', 0.025), ('น้ำ', 0.025), ('มาลงสด', 0.013), ('สด', 0.013), ('ร้อน', 0.013), ('หวาน', 0.013), ('pizza', 0.013), ('vat', 0.013), ('เงิน', 0.013), ('VAT', 0.013), ('เนื้อ', 0.013), ('หน้า', 0.013), ('วัว', 0.013), ('ทดแทน', 0.013)]\n",
      "\n",
      "Topic #3:\n",
      "[('กุ้ง', 0.032), ('สด', 0.024), ('เวลา', 0.024), ('หวาน', 0.018), ('นุ่ม', 0.016), ('เนื้อ', 0.015), ('ราคา', 0.015), ('อร่อย', 0.014), ('ปอก', 0.012), ('เปลือก', 0.012), ('สาขา', 0.012), ('อิ่ม', 0.008), ('รสชาติิ', 0.008), ('ชั้น', 0.008), ('หา', 0.008), ('บุฟเฟ่ต์่ต์ต์', 0.008), ('โซน', 0.008), ('ซูชิ', 0.008), ('เช็ค', 0.008), ('รู้สึก', 0.008)]\n",
      "\n",
      "Topic #4:\n",
      "[('เนื้อ', 0.052), ('น้ำ', 0.035), ('ซุป', 0.024), ('อร่อย', 0.018), ('หวาน', 0.018), ('ค่า', 0.016), ('หม้อ', 0.016), ('วัว', 0.016), ('สั่ง', 0.016), ('คุ้ม', 0.015), ('icecream', 0.015), ('ชอบ', 0.015), ('หน้า', 0.012), ('โต๊ะ', 0.012), ('ชาบูน้ำดำ', 0.012), ('เห็ด', 0.012), ('ไก่', 0.012), ('แนว', 0.012), ('หมู', 0.012), ('ญี่ปุ่น', 0.012)]\n",
      "\n",
      "Topic #5:\n",
      "[('น้ำ', 0.033), ('ราคา', 0.033), ('รสชาติิ', 0.02), ('ชาบู', 0.02), ('สาขา', 0.02), ('ซุป', 0.02), ('pizza', 0.02), ('ชาบูน้ำดำ', 0.013), ('สุกี้', 0.013), ('ญี่ปุ่น', 0.013), ('น้ำจิ้ม', 0.013), ('โมโม', 0.013), ('เนื้อ', 0.013), ('หมู', 0.013), ('เมนู', 0.013), ('บุฟเฟ่ต์่ต์ต์', 0.013), ('คุ้ม', 0.013), ('จ่าย', 0.013), ('อิ่ม', 0.013), ('paradise', 0.007)]\n",
      "\n",
      "Topic #6:\n",
      "[('บริการ', 0.04), ('อร่อย', 0.027), ('รสชาติิ', 0.027), ('เนื้อ', 0.02), ('ซุป', 0.02), ('ประทับใจ', 0.02), ('คุ้ม', 0.02), ('shabushi', 0.02), ('ใส่', 0.014), ('แปลก', 0.014), ('น่ารัก', 0.014), ('สะอาด', 0.014), ('ราคา', 0.014), ('นํ้า', 0.014), ('สะอ้าน', 0.014), ('พนักงาน', 0.014), ('ต้องการ', 0.014), ('คุณภาพ', 0.014), ('บุฟเฟ่ต์่ต์ต์', 0.014), ('น้ำ', 0.014)]\n",
      "\n",
      "Topic #7:\n",
      "[('สาขา', 0.027), ('บุฟเฟ่ต์่ต์ต์', 0.022), ('บริการ', 0.022), ('ราคา', 0.018), ('น้ำ', 0.018), ('พนักงาน', 0.018), ('ซุป', 0.013), ('รอ', 0.013), ('เต็ม', 0.013), ('ชั่วโมง', 0.013), ('อร่อย', 0.013), ('pizza', 0.009), ('ชั้น', 0.009), ('ธรรมดา', 0.009), ('pizzeria', 0.009), ('หลาก', 0.009), ('ชุด', 0.009), ('แนะนำ', 0.009), ('คุณภาพ', 0.009), ('หวย', 0.009)]\n",
      "\n",
      "Topic #8:\n",
      "[('ราคา', 0.002), ('คุ้ม', 0.002), ('ซุป', 0.002), ('เนื้อ', 0.002), ('อร่อย', 0.002), ('บริการ', 0.002), ('น้ำ', 0.002), ('เบคอน', 0.002), ('เปลือก', 0.002), ('เพื่อน', 0.002), ('เลิก', 0.002), ('เวลา', 0.002), ('แก้ว', 0.002), ('เปรี้ยว', 0.002), ('แถม', 0.002), ('แน่น', 0.002), ('แป้ง', 0.002), ('แย่', 0.002), ('เสาร์', 0.002), ('โดน', 0.002)]\n",
      "\n",
      "Topic #9:\n",
      "[('กุ้ง', 0.031), ('คุ้ม', 0.031), ('เทมปุระ', 0.025), ('ทอด', 0.019), ('น้ำ', 0.019), ('ซุป', 0.019), ('ราคา', 0.019), ('ชอบ', 0.019), ('แนะนำ', 0.013), ('เหมาะสม', 0.013), ('รสชาติิดี', 0.013), ('ชาบูแฟรนไชส์', 0.013), ('เล่น', 0.013), ('อร่อย', 0.013), ('ชาบู', 0.013), ('ปุระ', 0.013), ('ซูชิ', 0.013), ('งั้น', 0.013), ('เมนู', 0.013), ('shabushi', 0.007)]\n",
      "\n",
      "Topic #10:\n",
      "[('เนื้อ', 0.039), ('นั่ง', 0.029), ('บริการ', 0.02), ('สาขา', 0.02), ('ชอบ', 0.02), ('สั่ง', 0.02), ('นึก', 0.02), ('ค่า', 0.01), ('เหมือน', 0.01), ('รส', 0.01), ('เดิน', 0.01), ('โปรบัตร', 0.01), ('เนื้อต่าง', 0.01), ('แคบ', 0.01), ('เส้น', 0.01), ('ลูก', 0.01), ('ชิ้น', 0.01), ('ผัก', 0.01), ('บู', 0.01), ('ข้าว', 0.01)]\n",
      "\n"
     ]
    }
   ],
   "source": [
    "topics_with_wts = [item[0] for item in topics_coherences]\n",
    "print('LDA Topics with Weights')\n",
    "print('='*50)\n",
    "for idx, topic in enumerate(topics_with_wts):\n",
    "    print('Topic #'+str(idx+1)+':')\n",
    "    print([(term, round(wt, 3)) for wt, term in topic])\n",
    "    print()"
   ]
  },
  {
   "cell_type": "code",
   "execution_count": 14,
   "id": "be00150e",
   "metadata": {
    "scrolled": false
   },
   "outputs": [
    {
     "name": "stdout",
     "output_type": "stream",
     "text": [
      "LDA Topics without Weights\n",
      "==================================================\n",
      "Topic #1:\n",
      "['หวาน', 'บุฟเฟ่ต์่ต์', 'อร่อย', 'หมู', 'ผัก', 'สมราคา', 'คุ้ม', 'ท้าย', 'ท่าน', 'น้ำ', 'ค่า', 'จบ', 'งาน', 'โปรโมชั่น', 'กาไก่', 'หอม', 'โชค', 'บราวนี่', 'บุฟเฟ่ต์่ต์ต์', 'icecream']\n",
      "\n",
      "Topic #2:\n",
      "['สั่ง', 'ราคา', 'แปลก', 'โอเค', 'ซูชิ', 'อร่อย', 'จ่าย', 'น้ำ', 'มาลงสด', 'สด', 'ร้อน', 'หวาน', 'pizza', 'vat', 'เงิน', 'VAT', 'เนื้อ', 'หน้า', 'วัว', 'ทดแทน']\n",
      "\n",
      "Topic #3:\n",
      "['กุ้ง', 'สด', 'เวลา', 'หวาน', 'นุ่ม', 'เนื้อ', 'ราคา', 'อร่อย', 'ปอก', 'เปลือก', 'สาขา', 'อิ่ม', 'รสชาติิ', 'ชั้น', 'หา', 'บุฟเฟ่ต์่ต์ต์', 'โซน', 'ซูชิ', 'เช็ค', 'รู้สึก']\n",
      "\n",
      "Topic #4:\n",
      "['เนื้อ', 'น้ำ', 'ซุป', 'อร่อย', 'หวาน', 'ค่า', 'หม้อ', 'วัว', 'สั่ง', 'คุ้ม', 'icecream', 'ชอบ', 'หน้า', 'โต๊ะ', 'ชาบูน้ำดำ', 'เห็ด', 'ไก่', 'แนว', 'หมู', 'ญี่ปุ่น']\n",
      "\n",
      "Topic #5:\n",
      "['น้ำ', 'ราคา', 'รสชาติิ', 'ชาบู', 'สาขา', 'ซุป', 'pizza', 'ชาบูน้ำดำ', 'สุกี้', 'ญี่ปุ่น', 'น้ำจิ้ม', 'โมโม', 'เนื้อ', 'หมู', 'เมนู', 'บุฟเฟ่ต์่ต์ต์', 'คุ้ม', 'จ่าย', 'อิ่ม', 'paradise']\n",
      "\n",
      "Topic #6:\n",
      "['บริการ', 'อร่อย', 'รสชาติิ', 'เนื้อ', 'ซุป', 'ประทับใจ', 'คุ้ม', 'shabushi', 'ใส่', 'แปลก', 'น่ารัก', 'สะอาด', 'ราคา', 'นํ้า', 'สะอ้าน', 'พนักงาน', 'ต้องการ', 'คุณภาพ', 'บุฟเฟ่ต์่ต์ต์', 'น้ำ']\n",
      "\n",
      "Topic #7:\n",
      "['สาขา', 'บุฟเฟ่ต์่ต์ต์', 'บริการ', 'ราคา', 'น้ำ', 'พนักงาน', 'ซุป', 'รอ', 'เต็ม', 'ชั่วโมง', 'อร่อย', 'pizza', 'ชั้น', 'ธรรมดา', 'pizzeria', 'หลาก', 'ชุด', 'แนะนำ', 'คุณภาพ', 'หวย']\n",
      "\n",
      "Topic #8:\n",
      "['ราคา', 'คุ้ม', 'ซุป', 'เนื้อ', 'อร่อย', 'บริการ', 'น้ำ', 'เบคอน', 'เปลือก', 'เพื่อน', 'เลิก', 'เวลา', 'แก้ว', 'เปรี้ยว', 'แถม', 'แน่น', 'แป้ง', 'แย่', 'เสาร์', 'โดน']\n",
      "\n",
      "Topic #9:\n",
      "['กุ้ง', 'คุ้ม', 'เทมปุระ', 'ทอด', 'น้ำ', 'ซุป', 'ราคา', 'ชอบ', 'แนะนำ', 'เหมาะสม', 'รสชาติิดี', 'ชาบูแฟรนไชส์', 'เล่น', 'อร่อย', 'ชาบู', 'ปุระ', 'ซูชิ', 'งั้น', 'เมนู', 'shabushi']\n",
      "\n",
      "Topic #10:\n",
      "['เนื้อ', 'นั่ง', 'บริการ', 'สาขา', 'ชอบ', 'สั่ง', 'นึก', 'ค่า', 'เหมือน', 'รส', 'เดิน', 'โปรบัตร', 'เนื้อต่าง', 'แคบ', 'เส้น', 'ลูก', 'ชิ้น', 'ผัก', 'บู', 'ข้าว']\n",
      "\n"
     ]
    }
   ],
   "source": [
    "print('LDA Topics without Weights')\n",
    "print('='*50)\n",
    "for idx, topic in enumerate(topics_with_wts):\n",
    "    print('Topic #'+str(idx+1)+':')\n",
    "    print([term for wt, term in topic])\n",
    "    print()"
   ]
  },
  {
   "cell_type": "code",
   "execution_count": 15,
   "id": "15fdbfdb",
   "metadata": {},
   "outputs": [
    {
     "name": "stdout",
     "output_type": "stream",
     "text": [
      "Avg. Coherence Score (Cv): 0.417063082164708\n",
      "Avg. Coherence Score (UMass): -3.8516292657868596\n",
      "Model Perplexity: -6.168569140993512\n"
     ]
    }
   ],
   "source": [
    "cv_coherence_model_lda = gensim.models.CoherenceModel(model=lda_model, \n",
    "                                                      corpus=bow_corpus, \n",
    "                                                      texts=review_token_list,\n",
    "                                                      dictionary=dictionary, \n",
    "                                                      coherence='c_v')\n",
    "avg_coherence_cv = cv_coherence_model_lda.get_coherence()\n",
    "\n",
    "umass_coherence_model_lda = gensim.models.CoherenceModel(model=lda_model, \n",
    "                                                         corpus=bow_corpus, \n",
    "                                                         texts=review_token_list,\n",
    "                                                         dictionary=dictionary, \n",
    "                                                         coherence='u_mass')\n",
    "avg_coherence_umass = umass_coherence_model_lda.get_coherence()\n",
    "\n",
    "perplexity = lda_model.log_perplexity(bow_corpus)\n",
    "\n",
    "print('Avg. Coherence Score (Cv):', avg_coherence_cv)\n",
    "print('Avg. Coherence Score (UMass):', avg_coherence_umass)\n",
    "print('Model Perplexity:', perplexity)"
   ]
  },
  {
   "cell_type": "markdown",
   "id": "b0bffa66",
   "metadata": {},
   "source": [
    "# LDA Tuning - Finding Optimal Number of Topics"
   ]
  },
  {
   "cell_type": "code",
   "execution_count": 16,
   "id": "aea90b85",
   "metadata": {},
   "outputs": [],
   "source": [
    "from tqdm import tqdm\n",
    "\n",
    "def topic_model_coherence_generator(corpus, texts, dictionary, \n",
    "                                    start_topic_count=2, end_topic_count=10, step=1,\n",
    "                                    cpus=1):\n",
    "    \n",
    "    models = []\n",
    "    coherence_scores = []\n",
    "    for topic_nums in tqdm(range(start_topic_count, end_topic_count+1, step)):\n",
    "        lda_model = gensim.models.LdaModel(corpus=bow_corpus, \n",
    "                                           id2word=dictionary, \n",
    "                                           chunksize=1740,\n",
    "                                           alpha='auto', \n",
    "                                           eta='auto', \n",
    "                                           random_state=42,\n",
    "                                           iterations=500, \n",
    "                                           num_topics=topic_nums,\n",
    "                                           passes=20,\n",
    "                                           eval_every=None)\n",
    "        \n",
    "        cv_coherence_model_lda = gensim.models.CoherenceModel(model=lda_model, \n",
    "                                                      corpus=bow_corpus, \n",
    "                                                      texts=review_token_list,\n",
    "                                                      dictionary=dictionary, \n",
    "                                                      coherence='c_v')\n",
    "        coherence_score = cv_coherence_model_lda.get_coherence()\n",
    "        coherence_scores.append(coherence_score)\n",
    "        models.append(lda_model)\n",
    "    \n",
    "    return models, coherence_scores"
   ]
  },
  {
   "cell_type": "code",
   "execution_count": 17,
   "id": "bdf5726f",
   "metadata": {},
   "outputs": [
    {
     "name": "stderr",
     "output_type": "stream",
     "text": [
      "100%|██████████| 29/29 [01:16<00:00,  2.64s/it]\n"
     ]
    }
   ],
   "source": [
    "lda_models, coherence_scores = topic_model_coherence_generator(corpus=bow_corpus, \n",
    "                                                               texts=review_token_list,\n",
    "                                                               dictionary=dictionary, \n",
    "                                                               start_topic_count=2,\n",
    "                                                               end_topic_count=30, \n",
    "                                                               step=1, cpus=16)"
   ]
  },
  {
   "cell_type": "code",
   "execution_count": 18,
   "id": "4aaebc35",
   "metadata": {},
   "outputs": [
    {
     "data": {
      "text/html": [
       "<div>\n",
       "<style scoped>\n",
       "    .dataframe tbody tr th:only-of-type {\n",
       "        vertical-align: middle;\n",
       "    }\n",
       "\n",
       "    .dataframe tbody tr th {\n",
       "        vertical-align: top;\n",
       "    }\n",
       "\n",
       "    .dataframe thead th {\n",
       "        text-align: right;\n",
       "    }\n",
       "</style>\n",
       "<table border=\"1\" class=\"dataframe\">\n",
       "  <thead>\n",
       "    <tr style=\"text-align: right;\">\n",
       "      <th></th>\n",
       "      <th>Number of Topics</th>\n",
       "      <th>Coherence Score</th>\n",
       "    </tr>\n",
       "  </thead>\n",
       "  <tbody>\n",
       "    <tr>\n",
       "      <th>26</th>\n",
       "      <td>28</td>\n",
       "      <td>0.6798</td>\n",
       "    </tr>\n",
       "    <tr>\n",
       "      <th>27</th>\n",
       "      <td>29</td>\n",
       "      <td>0.6729</td>\n",
       "    </tr>\n",
       "    <tr>\n",
       "      <th>28</th>\n",
       "      <td>30</td>\n",
       "      <td>0.6719</td>\n",
       "    </tr>\n",
       "    <tr>\n",
       "      <th>21</th>\n",
       "      <td>23</td>\n",
       "      <td>0.6699</td>\n",
       "    </tr>\n",
       "    <tr>\n",
       "      <th>25</th>\n",
       "      <td>27</td>\n",
       "      <td>0.6662</td>\n",
       "    </tr>\n",
       "    <tr>\n",
       "      <th>17</th>\n",
       "      <td>19</td>\n",
       "      <td>0.6576</td>\n",
       "    </tr>\n",
       "    <tr>\n",
       "      <th>24</th>\n",
       "      <td>26</td>\n",
       "      <td>0.6574</td>\n",
       "    </tr>\n",
       "    <tr>\n",
       "      <th>23</th>\n",
       "      <td>25</td>\n",
       "      <td>0.6416</td>\n",
       "    </tr>\n",
       "    <tr>\n",
       "      <th>22</th>\n",
       "      <td>24</td>\n",
       "      <td>0.6415</td>\n",
       "    </tr>\n",
       "    <tr>\n",
       "      <th>20</th>\n",
       "      <td>22</td>\n",
       "      <td>0.6411</td>\n",
       "    </tr>\n",
       "    <tr>\n",
       "      <th>19</th>\n",
       "      <td>21</td>\n",
       "      <td>0.6395</td>\n",
       "    </tr>\n",
       "    <tr>\n",
       "      <th>18</th>\n",
       "      <td>20</td>\n",
       "      <td>0.6253</td>\n",
       "    </tr>\n",
       "    <tr>\n",
       "      <th>15</th>\n",
       "      <td>17</td>\n",
       "      <td>0.6188</td>\n",
       "    </tr>\n",
       "    <tr>\n",
       "      <th>13</th>\n",
       "      <td>15</td>\n",
       "      <td>0.5970</td>\n",
       "    </tr>\n",
       "    <tr>\n",
       "      <th>14</th>\n",
       "      <td>16</td>\n",
       "      <td>0.5870</td>\n",
       "    </tr>\n",
       "  </tbody>\n",
       "</table>\n",
       "</div>"
      ],
      "text/plain": [
       "    Number of Topics  Coherence Score\n",
       "26                28           0.6798\n",
       "27                29           0.6729\n",
       "28                30           0.6719\n",
       "21                23           0.6699\n",
       "25                27           0.6662\n",
       "17                19           0.6576\n",
       "24                26           0.6574\n",
       "23                25           0.6416\n",
       "22                24           0.6415\n",
       "20                22           0.6411\n",
       "19                21           0.6395\n",
       "18                20           0.6253\n",
       "15                17           0.6188\n",
       "13                15           0.5970\n",
       "14                16           0.5870"
      ]
     },
     "execution_count": 18,
     "metadata": {},
     "output_type": "execute_result"
    }
   ],
   "source": [
    "coherence_df = pd.DataFrame({'Number of Topics': range(2, 31, 1),\n",
    "                             'Coherence Score': np.round(coherence_scores, 4)})\n",
    "coherence_df.sort_values(by=['Coherence Score'], ascending=False).head(15)"
   ]
  },
  {
   "cell_type": "code",
   "execution_count": 19,
   "id": "ddc959df",
   "metadata": {},
   "outputs": [
    {
     "data": {
      "image/png": "[encoded data removed]",
      "text/plain": [
       "<Figure size 864x432 with 1 Axes>"
      ]
     },
     "metadata": {
      "needs_background": "light"
     },
     "output_type": "display_data"
    }
   ],
   "source": [
    "import matplotlib.pyplot as plt\n",
    "plt.style.use('fivethirtyeight')\n",
    "%matplotlib inline\n",
    "\n",
    "x_ax = range(2, 31, 1)\n",
    "y_ax = coherence_scores\n",
    "plt.figure(figsize=(12, 6))\n",
    "plt.plot(x_ax, y_ax, c='r')\n",
    "plt.axhline(y=0.6576, c='k', linestyle='--', linewidth=2)\n",
    "plt.rcParams['figure.facecolor'] = 'white'\n",
    "xl = plt.xlabel('Number of Topics')\n",
    "yl = plt.ylabel('Coherence Score')"
   ]
  },
  {
   "cell_type": "code",
   "execution_count": 32,
   "id": "cf9c7aa6",
   "metadata": {},
   "outputs": [
    {
     "data": {
      "text/plain": [
       "10"
      ]
     },
     "execution_count": 32,
     "metadata": {},
     "output_type": "execute_result"
    }
   ],
   "source": [
    "best_model_idx = coherence_df[coherence_df['Number of Topics'] == 19].index[0]\n",
    "best_lda_model = lda_models[best_model_idx]\n",
    "best_lda_model.num_topics"
   ]
  },
  {
   "cell_type": "code",
   "execution_count": 33,
   "id": "0ff86c98",
   "metadata": {},
   "outputs": [],
   "source": [
    "topics = [[(term, round(wt, 3)) \n",
    "               for term, wt in best_lda_model.show_topic(n, topn=20)] \n",
    "                   for n in range(0, best_lda_model.num_topics)]\n",
    "\n",
    "# for idx, topic in enumerate(topics):\n",
    "#     print('Topic #'+str(idx+1)+':')\n",
    "#     print([term for term, wt in topic])\n",
    "#     print()"
   ]
  },
  {
   "cell_type": "code",
   "execution_count": 34,
   "id": "fbbe3c82",
   "metadata": {},
   "outputs": [
    {
     "name": "stdout",
     "output_type": "stream",
     "text": [
      "[[('กุ้ง', 0.031), ('คุ้ม', 0.031), ('เทมปุระ', 0.025), ('ทอด', 0.019), ('น้ำ', 0.019), ('ซุป', 0.019), ('ราคา', 0.019), ('ชอบ', 0.019), ('แนะนำ', 0.013), ('เหมาะสม', 0.013), ('รสชาติิดี', 0.013), ('ชาบูแฟรนไชส์', 0.013), ('เล่น', 0.013), ('อร่อย', 0.013), ('ชาบู', 0.013), ('ปุระ', 0.013), ('ซูชิ', 0.013), ('งั้น', 0.013), ('เมนู', 0.013), ('shabushi', 0.007)], [('น้ำ', 0.033), ('ราคา', 0.033), ('รสชาติิ', 0.02), ('ชาบู', 0.02), ('สาขา', 0.02), ('ซุป', 0.02), ('pizza', 0.02), ('ชาบูน้ำดำ', 0.013), ('สุกี้', 0.013), ('ญี่ปุ่น', 0.013), ('น้ำจิ้ม', 0.013), ('โมโม', 0.013), ('เนื้อ', 0.013), ('หมู', 0.013), ('เมนู', 0.013), ('บุฟเฟ่ต์่ต์ต์', 0.013), ('คุ้ม', 0.013), ('จ่าย', 0.013), ('อิ่ม', 0.013), ('paradise', 0.007)], [('เนื้อ', 0.039), ('นั่ง', 0.029), ('บริการ', 0.02), ('สาขา', 0.02), ('ชอบ', 0.02), ('สั่ง', 0.02), ('นึก', 0.02), ('ค่า', 0.01), ('เหมือน', 0.01), ('รส', 0.01), ('เดิน', 0.01), ('โปรบัตร', 0.01), ('เนื้อต่าง', 0.01), ('แคบ', 0.01), ('เส้น', 0.01), ('ลูก', 0.01), ('ชิ้น', 0.01), ('ผัก', 0.01), ('บู', 0.01), ('ข้าว', 0.01)], [('สั่ง', 0.037), ('ราคา', 0.037), ('แปลก', 0.025), ('โอเค', 0.025), ('ซูชิ', 0.025), ('อร่อย', 0.025), ('จ่าย', 0.025), ('น้ำ', 0.025), ('มาลงสด', 0.013), ('สด', 0.013), ('ร้อน', 0.013), ('หวาน', 0.013), ('pizza', 0.013), ('vat', 0.013), ('เงิน', 0.013), ('VAT', 0.013), ('เนื้อ', 0.013), ('หน้า', 0.013), ('วัว', 0.013), ('ทดแทน', 0.013)], [('บริการ', 0.04), ('อร่อย', 0.027), ('รสชาติิ', 0.027), ('เนื้อ', 0.02), ('ซุป', 0.02), ('ประทับใจ', 0.02), ('คุ้ม', 0.02), ('shabushi', 0.02), ('ใส่', 0.014), ('แปลก', 0.014), ('น่ารัก', 0.014), ('สะอาด', 0.014), ('ราคา', 0.014), ('นํ้า', 0.014), ('สะอ้าน', 0.014), ('พนักงาน', 0.014), ('ต้องการ', 0.014), ('คุณภาพ', 0.014), ('บุฟเฟ่ต์่ต์ต์', 0.014), ('น้ำ', 0.014)], [('เนื้อ', 0.052), ('น้ำ', 0.035), ('ซุป', 0.024), ('อร่อย', 0.018), ('หวาน', 0.018), ('ค่า', 0.016), ('หม้อ', 0.016), ('วัว', 0.016), ('สั่ง', 0.016), ('คุ้ม', 0.015), ('icecream', 0.015), ('ชอบ', 0.015), ('หน้า', 0.012), ('โต๊ะ', 0.012), ('ชาบูน้ำดำ', 0.012), ('เห็ด', 0.012), ('ไก่', 0.012), ('แนว', 0.012), ('หมู', 0.012), ('ญี่ปุ่น', 0.012)], [('ราคา', 0.002), ('คุ้ม', 0.002), ('ซุป', 0.002), ('เนื้อ', 0.002), ('อร่อย', 0.002), ('บริการ', 0.002), ('น้ำ', 0.002), ('เบคอน', 0.002), ('เปลือก', 0.002), ('เพื่อน', 0.002), ('เลิก', 0.002), ('เวลา', 0.002), ('แก้ว', 0.002), ('เปรี้ยว', 0.002), ('แถม', 0.002), ('แน่น', 0.002), ('แป้ง', 0.002), ('แย่', 0.002), ('เสาร์', 0.002), ('โดน', 0.002)], [('สาขา', 0.027), ('บุฟเฟ่ต์่ต์ต์', 0.022), ('บริการ', 0.022), ('ราคา', 0.018), ('น้ำ', 0.018), ('พนักงาน', 0.018), ('ซุป', 0.013), ('รอ', 0.013), ('เต็ม', 0.013), ('ชั่วโมง', 0.013), ('อร่อย', 0.013), ('pizza', 0.009), ('ชั้น', 0.009), ('ธรรมดา', 0.009), ('pizzeria', 0.009), ('หลาก', 0.009), ('ชุด', 0.009), ('แนะนำ', 0.009), ('คุณภาพ', 0.009), ('หวย', 0.009)], [('กุ้ง', 0.032), ('สด', 0.024), ('เวลา', 0.024), ('หวาน', 0.018), ('นุ่ม', 0.016), ('เนื้อ', 0.015), ('ราคา', 0.015), ('อร่อย', 0.014), ('ปอก', 0.012), ('เปลือก', 0.012), ('สาขา', 0.012), ('อิ่ม', 0.008), ('รสชาติิ', 0.008), ('ชั้น', 0.008), ('หา', 0.008), ('บุฟเฟ่ต์่ต์ต์', 0.008), ('โซน', 0.008), ('ซูชิ', 0.008), ('เช็ค', 0.008), ('รู้สึก', 0.008)], [('หวาน', 0.032), ('บุฟเฟ่ต์่ต์', 0.032), ('อร่อย', 0.032), ('หมู', 0.022), ('ผัก', 0.022), ('สมราคา', 0.022), ('คุ้ม', 0.022), ('ท้าย', 0.022), ('ท่าน', 0.022), ('น้ำ', 0.022), ('ค่า', 0.022), ('จบ', 0.022), ('งาน', 0.011), ('โปรโมชั่น', 0.011), ('กาไก่', 0.011), ('หอม', 0.011), ('โชค', 0.011), ('บราวนี่', 0.011), ('บุฟเฟ่ต์่ต์ต์', 0.011), ('icecream', 0.011)]]\n"
     ]
    }
   ],
   "source": [
    "print(topics)"
   ]
  },
  {
   "cell_type": "code",
   "execution_count": null,
   "id": "73cbeb3e",
   "metadata": {},
   "outputs": [],
   "source": [
    "# topics_df = pd.DataFrame([[term for term, wt in topic] \n",
    "#                               for topic in topics], \n",
    "#                          columns = ['Term'+str(i) for i in range(1, 21)],\n",
    "#                          index=['Topic '+str(t) for t in range(1, best_lda_model.num_topics+1)]).T\n",
    "# topics_df"
   ]
  },
  {
   "cell_type": "code",
   "execution_count": 35,
   "id": "3989fbc2",
   "metadata": {
    "scrolled": false
   },
   "outputs": [
    {
     "data": {
      "text/html": [
       "<div>\n",
       "<style scoped>\n",
       "    .dataframe tbody tr th:only-of-type {\n",
       "        vertical-align: middle;\n",
       "    }\n",
       "\n",
       "    .dataframe tbody tr th {\n",
       "        vertical-align: top;\n",
       "    }\n",
       "\n",
       "    .dataframe thead th {\n",
       "        text-align: right;\n",
       "    }\n",
       "</style>\n",
       "<table border=\"1\" class=\"dataframe\">\n",
       "  <thead>\n",
       "    <tr style=\"text-align: right;\">\n",
       "      <th></th>\n",
       "      <th>Terms per Topic</th>\n",
       "    </tr>\n",
       "  </thead>\n",
       "  <tbody>\n",
       "    <tr>\n",
       "      <th>Topic1</th>\n",
       "      <td>กุ้ง, คุ้ม, เทมปุระ, ทอด, น้ำ, ซุป, ราคา, ชอบ, แนะนำ, เหมาะสม, รสชาติิดี, ชาบูแฟรนไชส์, เล่น, อร่อย, ชาบู, ปุระ, ซูชิ, งั้น, เมนู, shabushi</td>\n",
       "    </tr>\n",
       "    <tr>\n",
       "      <th>Topic2</th>\n",
       "      <td>น้ำ, ราคา, รสชาติิ, ชาบู, สาขา, ซุป, pizza, ชาบูน้ำดำ, สุกี้, ญี่ปุ่น, น้ำจิ้ม, โมโม, เนื้อ, หมู, เมนู, บุฟเฟ่ต์่ต์ต์, คุ้ม, จ่าย, อิ่ม, paradise</td>\n",
       "    </tr>\n",
       "    <tr>\n",
       "      <th>Topic3</th>\n",
       "      <td>เนื้อ, นั่ง, บริการ, สาขา, ชอบ, สั่ง, นึก, ค่า, เหมือน, รส, เดิน, โปรบัตร, เนื้อต่าง, แคบ, เส้น, ลูก, ชิ้น, ผัก, บู, ข้าว</td>\n",
       "    </tr>\n",
       "    <tr>\n",
       "      <th>Topic4</th>\n",
       "      <td>สั่ง, ราคา, แปลก, โอเค, ซูชิ, อร่อย, จ่าย, น้ำ, มาลงสด, สด, ร้อน, หวาน, pizza, vat, เงิน, VAT, เนื้อ, หน้า, วัว, ทดแทน</td>\n",
       "    </tr>\n",
       "    <tr>\n",
       "      <th>Topic5</th>\n",
       "      <td>บริการ, อร่อย, รสชาติิ, เนื้อ, ซุป, ประทับใจ, คุ้ม, shabushi, ใส่, แปลก, น่ารัก, สะอาด, ราคา, นํ้า, สะอ้าน, พนักงาน, ต้องการ, คุณภาพ, บุฟเฟ่ต์่ต์ต์, น้ำ</td>\n",
       "    </tr>\n",
       "    <tr>\n",
       "      <th>Topic6</th>\n",
       "      <td>เนื้อ, น้ำ, ซุป, อร่อย, หวาน, ค่า, หม้อ, วัว, สั่ง, คุ้ม, icecream, ชอบ, หน้า, โต๊ะ, ชาบูน้ำดำ, เห็ด, ไก่, แนว, หมู, ญี่ปุ่น</td>\n",
       "    </tr>\n",
       "    <tr>\n",
       "      <th>Topic7</th>\n",
       "      <td>ราคา, คุ้ม, ซุป, เนื้อ, อร่อย, บริการ, น้ำ, เบคอน, เปลือก, เพื่อน, เลิก, เวลา, แก้ว, เปรี้ยว, แถม, แน่น, แป้ง, แย่, เสาร์, โดน</td>\n",
       "    </tr>\n",
       "    <tr>\n",
       "      <th>Topic8</th>\n",
       "      <td>สาขา, บุฟเฟ่ต์่ต์ต์, บริการ, ราคา, น้ำ, พนักงาน, ซุป, รอ, เต็ม, ชั่วโมง, อร่อย, pizza, ชั้น, ธรรมดา, pizzeria, หลาก, ชุด, แนะนำ, คุณภาพ, หวย</td>\n",
       "    </tr>\n",
       "    <tr>\n",
       "      <th>Topic9</th>\n",
       "      <td>กุ้ง, สด, เวลา, หวาน, นุ่ม, เนื้อ, ราคา, อร่อย, ปอก, เปลือก, สาขา, อิ่ม, รสชาติิ, ชั้น, หา, บุฟเฟ่ต์่ต์ต์, โซน, ซูชิ, เช็ค, รู้สึก</td>\n",
       "    </tr>\n",
       "    <tr>\n",
       "      <th>Topic10</th>\n",
       "      <td>หวาน, บุฟเฟ่ต์่ต์, อร่อย, หมู, ผัก, สมราคา, คุ้ม, ท้าย, ท่าน, น้ำ, ค่า, จบ, งาน, โปรโมชั่น, กาไก่, หอม, โชค, บราวนี่, บุฟเฟ่ต์่ต์ต์, icecream</td>\n",
       "    </tr>\n",
       "  </tbody>\n",
       "</table>\n",
       "</div>"
      ],
      "text/plain": [
       "                                                                                                                                                  Terms per Topic\n",
       "Topic1   กุ้ง, คุ้ม, เทมปุระ, ทอด, น้ำ, ซุป, ราคา, ชอบ, แนะนำ, เหมาะสม, รสชาติิดี, ชาบูแฟรนไชส์, เล่น, อร่อย, ชาบู, ปุระ, ซูชิ, งั้น, เมนู, shabushi             \n",
       "Topic2   น้ำ, ราคา, รสชาติิ, ชาบู, สาขา, ซุป, pizza, ชาบูน้ำดำ, สุกี้, ญี่ปุ่น, น้ำจิ้ม, โมโม, เนื้อ, หมู, เมนู, บุฟเฟ่ต์่ต์ต์, คุ้ม, จ่าย, อิ่ม, paradise       \n",
       "Topic3   เนื้อ, นั่ง, บริการ, สาขา, ชอบ, สั่ง, นึก, ค่า, เหมือน, รส, เดิน, โปรบัตร, เนื้อต่าง, แคบ, เส้น, ลูก, ชิ้น, ผัก, บู, ข้าว                               \n",
       "Topic4   สั่ง, ราคา, แปลก, โอเค, ซูชิ, อร่อย, จ่าย, น้ำ, มาลงสด, สด, ร้อน, หวาน, pizza, vat, เงิน, VAT, เนื้อ, หน้า, วัว, ทดแทน                                  \n",
       "Topic5   บริการ, อร่อย, รสชาติิ, เนื้อ, ซุป, ประทับใจ, คุ้ม, shabushi, ใส่, แปลก, น่ารัก, สะอาด, ราคา, นํ้า, สะอ้าน, พนักงาน, ต้องการ, คุณภาพ, บุฟเฟ่ต์่ต์ต์, น้ำ\n",
       "Topic6   เนื้อ, น้ำ, ซุป, อร่อย, หวาน, ค่า, หม้อ, วัว, สั่ง, คุ้ม, icecream, ชอบ, หน้า, โต๊ะ, ชาบูน้ำดำ, เห็ด, ไก่, แนว, หมู, ญี่ปุ่น                            \n",
       "Topic7   ราคา, คุ้ม, ซุป, เนื้อ, อร่อย, บริการ, น้ำ, เบคอน, เปลือก, เพื่อน, เลิก, เวลา, แก้ว, เปรี้ยว, แถม, แน่น, แป้ง, แย่, เสาร์, โดน                          \n",
       "Topic8   สาขา, บุฟเฟ่ต์่ต์ต์, บริการ, ราคา, น้ำ, พนักงาน, ซุป, รอ, เต็ม, ชั่วโมง, อร่อย, pizza, ชั้น, ธรรมดา, pizzeria, หลาก, ชุด, แนะนำ, คุณภาพ, หวย            \n",
       "Topic9   กุ้ง, สด, เวลา, หวาน, นุ่ม, เนื้อ, ราคา, อร่อย, ปอก, เปลือก, สาขา, อิ่ม, รสชาติิ, ชั้น, หา, บุฟเฟ่ต์่ต์ต์, โซน, ซูชิ, เช็ค, รู้สึก                      \n",
       "Topic10  หวาน, บุฟเฟ่ต์่ต์, อร่อย, หมู, ผัก, สมราคา, คุ้ม, ท้าย, ท่าน, น้ำ, ค่า, จบ, งาน, โปรโมชั่น, กาไก่, หอม, โชค, บราวนี่, บุฟเฟ่ต์่ต์ต์, icecream           "
      ]
     },
     "execution_count": 35,
     "metadata": {},
     "output_type": "execute_result"
    }
   ],
   "source": [
    "pd.set_option('display.max_colwidth', -1)\n",
    "topics_df = pd.DataFrame([', '.join([term for term, wt in topic])  \n",
    "                              for topic in topics],\n",
    "                         columns = ['Terms per Topic'],\n",
    "                         index=['Topic'+str(t) for t in range(1, best_lda_model.num_topics+1)]\n",
    "                         )\n",
    "topics_df"
   ]
  },
  {
   "cell_type": "code",
   "execution_count": null,
   "id": "8993c593",
   "metadata": {},
   "outputs": [],
   "source": [
    "pyLDAvis.gensim_models.prepare(model, gensim_corpus, dictionary)"
   ]
  },
  {
   "cell_type": "markdown",
   "id": "a1dd3f9b",
   "metadata": {},
   "source": [
    "# Interpreting Topic Model Results"
   ]
  },
  {
   "cell_type": "code",
   "execution_count": 36,
   "id": "c8847bb8",
   "metadata": {},
   "outputs": [],
   "source": [
    "tm_results = best_lda_model[bow_corpus]"
   ]
  },
  {
   "cell_type": "code",
   "execution_count": 37,
   "id": "938de389",
   "metadata": {},
   "outputs": [
    {
     "data": {
      "text/plain": [
       "[(4, 0.9958101),\n",
       " (7, 0.9946815),\n",
       " (5, 0.9980835),\n",
       " (2, 0.9909727),\n",
       " (2, 0.9926516)]"
      ]
     },
     "execution_count": 37,
     "metadata": {},
     "output_type": "execute_result"
    }
   ],
   "source": [
    "corpus_topics = [sorted(topics, key=lambda record: -record[1])[0] \n",
    "                     for topics in tm_results]\n",
    "corpus_topics[:5]"
   ]
  },
  {
   "cell_type": "code",
   "execution_count": 50,
   "id": "7b330f2a",
   "metadata": {},
   "outputs": [
    {
     "name": "stdout",
     "output_type": "stream",
     "text": [
      "0    ที่สำคัญของร้านนี้คือบริการดีมากพนักงานน่ารักสุด สะอาดสะอ้านใส่ใจค่อนข้างประทับใจกับการบริการรสชาติิอาหารอันนี้แปลกใหม่ ที่สำคัญของร้านนี้คือบริการดีมากพนักงานน่ารักสุด สะอาดสะอ้านใส่ใจค่อนข้างประทับใจกับการบริการรสชาติิอาหารอันนี้แปลกใหม่\\nเซ็ท    บาท\\nอาหารจำกัดไม่ได้หลากหลายแต่เพียงพอกับความต้องการ\\nเราไม่กินเนื้อ กินสันคอ  ถาด เป็ด \\nแฟนกินเนื้อ คุณภาพดี\\nน้ำซุปดำกับเผ็ด\\nที่สำคัญคือน้ำจิ้มอร่อยมากไม่เคยกินรสชาติิแบบนี้มาก่อนเป็นเต้าเจี้ยวนิด แต่ก็ไม่ได้เคลมก็รสชาติิดีนะถามราคาโดยรวมก็ถือว่าคุ้มเพราะว่าโมจิอร่อยมากicecreamก็อร่อยไม่ต้องออกไปกินข้างนอกสรุปรวม ละกันว่าประทับใจในบริการและคุณภาพของอาหาร\n",
      "1    รสชาติิเหมือนทุกสาขา แต่สาขานี้ บริการดี ที่นั่งดี นึกถึงชาบูญี่ปุ่นยังไงก็ต้อง คิดถึงmomo paradise คุณภาพเค้ามาตราฐานจริง  วันนี้มีโอกาสมาทานก่อนร้านปิด    นาที ทางร้านก็บริการดี จะมีก็แต่อาหาร เครื่องดื่มที่ทางร้านเริ่มทะยอยเก็บ แต่เราก็เข้าใจเพราะทางร้านแจ้งรายละเอียดการงดรับออร์เดอร์แล้ว \\n           สาขานี้ พนักงานบริการดี น่ารักเป็นกันเอง ขออะไรก็ได้หมด ไม่มีเหวี่ยง เคยเจอสาขา พระราม   คือ ไม่โอเค พนักงาน ไม่พร้อมทำงานมาก CTW แม้จะเป็นพรีเมียมการบริการก็สู้สาขานี้ไม่ได้ Terminal    ลูกค้าเยอะ                                                                                                           \n",
      "Name: review_text, dtype: object\n"
     ]
    }
   ],
   "source": [
    "print(review_df['review_text'][:][:2])"
   ]
  },
  {
   "cell_type": "code",
   "execution_count": 52,
   "id": "f42fa7cb",
   "metadata": {
    "scrolled": false
   },
   "outputs": [],
   "source": [
    "result_df = pd.DataFrame()\n",
    "result_df['Restaurant'] = review_df['Restaurant']\n",
    "result_df['Review'] = review_df['review_text']\n",
    "result_df['Selected Topic'] = [item[0]+1 for item in corpus_topics]\n",
    "result_df['Topic Text'] = [topics_df.iloc[t[0]]['Terms per Topic'] for t in corpus_topics]\n"
   ]
  },
  {
   "cell_type": "code",
   "execution_count": 70,
   "id": "6993e8c5",
   "metadata": {
    "scrolled": false
   },
   "outputs": [
    {
     "data": {
      "text/html": [
       "<div>\n",
       "<style scoped>\n",
       "    .dataframe tbody tr th:only-of-type {\n",
       "        vertical-align: middle;\n",
       "    }\n",
       "\n",
       "    .dataframe tbody tr th {\n",
       "        vertical-align: top;\n",
       "    }\n",
       "\n",
       "    .dataframe thead th {\n",
       "        text-align: right;\n",
       "    }\n",
       "</style>\n",
       "<table border=\"1\" class=\"dataframe\">\n",
       "  <thead>\n",
       "    <tr style=\"text-align: right;\">\n",
       "      <th></th>\n",
       "      <th>Restaurant</th>\n",
       "      <th>Selected Topic</th>\n",
       "      <th>Topic Text</th>\n",
       "      <th>Review</th>\n",
       "    </tr>\n",
       "  </thead>\n",
       "  <tbody>\n",
       "    <tr>\n",
       "      <th>0</th>\n",
       "      <td>Mo-Mo-Paradise (โม โม พาราไดซ์) เดอะมอลล์ บางกะปิ</td>\n",
       "      <td>5</td>\n",
       "      <td>บริการ, อร่อย, รสชาติิ, เนื้อ, ซุป, ประทับใจ, คุ้ม, shabushi, ใส่, แปลก, น่ารัก, สะอาด, ราคา, นํ้า, สะอ้าน, พนักงาน, ต้องการ, คุณภาพ, บุฟเฟ่ต์่ต์ต์, น้ำ</td>\n",
       "      <td>ที่สำคัญของร้านนี้คือบริการดีมากพนักงานน่ารักสุด สะอาดสะอ้านใส่ใจค่อนข้างประทับใจกับการบริการรสชาติิอาหารอันนี้แปลกใหม่ ที่สำคัญของร้านนี้คือบริการดีมากพนักงานน่ารักสุด สะอาดสะอ้านใส่ใจค่อนข้างประทับใจกับการบริการรสชาติิอาหารอันนี้แปลกใหม่\\nเซ็ท    บาท\\nอาหารจำกัดไม่ได้หลากหลายแต่เพียงพอกับความต้องการ\\nเราไม่กินเนื้อ กินสันคอ  ถาด เป็ด \\nแฟนกินเนื้อ คุณภาพดี\\nน้ำซุปดำกับเผ็ด\\nที่สำคัญคือน้ำจิ้มอร่อยมากไม่เคยกินรสชาติิแบบนี้มาก่อนเป็นเต้าเจี้ยวนิด แต่ก็ไม่ได้เคลมก็รสชาติิดีนะถามราคาโดยรวมก็ถือว่าคุ้มเพราะว่าโมจิอร่อยมากicecreamก็อร่อยไม่ต้องออกไปกินข้างนอกสรุปรวม ละกันว่าประทับใจในบริการและคุณภาพของอาหาร</td>\n",
       "    </tr>\n",
       "    <tr>\n",
       "      <th>1</th>\n",
       "      <td>Mo-Mo-Paradise (โม โม พาราไดซ์) เดอะมอลล์ บางกะปิ</td>\n",
       "      <td>8</td>\n",
       "      <td>สาขา, บุฟเฟ่ต์่ต์ต์, บริการ, ราคา, น้ำ, พนักงาน, ซุป, รอ, เต็ม, ชั่วโมง, อร่อย, pizza, ชั้น, ธรรมดา, pizzeria, หลาก, ชุด, แนะนำ, คุณภาพ, หวย</td>\n",
       "      <td>รสชาติิเหมือนทุกสาขา แต่สาขานี้ บริการดี ที่นั่งดี นึกถึงชาบูญี่ปุ่นยังไงก็ต้อง คิดถึงmomo paradise คุณภาพเค้ามาตราฐานจริง  วันนี้มีโอกาสมาทานก่อนร้านปิด    นาที ทางร้านก็บริการดี จะมีก็แต่อาหาร เครื่องดื่มที่ทางร้านเริ่มทะยอยเก็บ แต่เราก็เข้าใจเพราะทางร้านแจ้งรายละเอียดการงดรับออร์เดอร์แล้ว \\n           สาขานี้ พนักงานบริการดี น่ารักเป็นกันเอง ขออะไรก็ได้หมด ไม่มีเหวี่ยง เคยเจอสาขา พระราม   คือ ไม่โอเค พนักงาน ไม่พร้อมทำงานมาก CTW แม้จะเป็นพรีเมียมการบริการก็สู้สาขานี้ไม่ได้ Terminal    ลูกค้าเยอะ</td>\n",
       "    </tr>\n",
       "    <tr>\n",
       "      <th>2</th>\n",
       "      <td>Mo-Mo-Paradise (โม โม พาราไดซ์) เดอะมอลล์ บางกะปิ</td>\n",
       "      <td>6</td>\n",
       "      <td>เนื้อ, น้ำ, ซุป, อร่อย, หวาน, ค่า, หม้อ, วัว, สั่ง, คุ้ม, icecream, ชอบ, หน้า, โต๊ะ, ชาบูน้ำดำ, เห็ด, ไก่, แนว, หมู, ญี่ปุ่น</td>\n",
       "      <td>ชาบูพรีเมียมสไตล์ญี่ปุ่น เนื้อดีมากก มาทานช่วงนี้ สามารถนั่งโต๊ะเดียวกัน หม้อเดียวกันได้แล้ว แต่ระหว่างโต๊ะยังมีฉากกั้นอยู่ \\n\\nน้ำซุปเลือกได้   รส น้ำจิ้มก็จะแตกต่างกันตามน้ำซุป เลือกมาเป็นชาบูน้ำดำ กับน้ำซุปเห็ด\\nชาบูน้ำดำ   หวาน เค็ม  รสชาติิเข้มข้น เสิร์ฟพร้อมไข่สด ถ้าเป็นผู้ใหญ่ที่ไม่ชอบหวาน  อาจจะไม่ค่อยชอบ\\nน้ำซุปเห็ด   มีชื่อด้วยเป็นภาษาญี่ปุ่น แต่จำไม่ได้    เสิร์ฟมากับ เห็ด และ น้ำจิ้มซอยซอส รสชาติิจืด  แนวน้ำซุปใส \\n\\nเนื้อสัตว์จะมีให้เลือก เนื้อวัว   แบบ  เนื้อหมู   แบบ  เนื้อเป็ด  ไก่ไม้ไผ่ เลยสั่งมาลองทุกอย่าง\\nเนื้อวัว   อร่อยมาก ชิ้นไม่บาง เนื้อนุ่มมาก  กินกับชาบูน้ำดำเข้ากันมาก\\nเนื้อหมู   เป็นคุโรบูตะ อร่อยนุ่มลิ้น \\nเนื้อเป็ด   จะหนึบ  ไม่เหนียว ไม่คาว แต่ทานได้จานเดียวรู้สึกว่าพอแล้ว\\nไก่ไม้ไผ่   เป็นไก่บด ลืมถ่ายรูปมา รสชาติิกรุบ  แตาส่วนตัวเฉย  \\n\\nช่วงโควิด บาร์ผักกับน้ำ จะมีพนักงานตักให้ เราอยากได้อะไรก็ไปจิ้ม เลือก ได้เลย \\n\\nของหวาน มีicecreamกับไดฟูกุ ลองสั่งแต่ไดฟูกุ icecreamไม่ไหวแย้ววว สั่งมาสามรส สตอเบอรี่ ชาเขียว ถั่วแดง อร่อยทั้งหมดค่ะ\\n\\nสรุป อร่อยคุ้มค่ากับราคา แต่คงไม่ได้มาทานบ่อย  ตกคนละ       แต่ถ้าใครไม่ทานเนื้อวัว อาจจะไม่คุ้มเท่าไร</td>\n",
       "    </tr>\n",
       "    <tr>\n",
       "      <th>3</th>\n",
       "      <td>Mo-Mo-Paradise (โม โม พาราไดซ์) เดอะมอลล์ บางกะปิ</td>\n",
       "      <td>3</td>\n",
       "      <td>เนื้อ, นั่ง, บริการ, สาขา, ชอบ, สั่ง, นึก, ค่า, เหมือน, รส, เดิน, โปรบัตร, เนื้อต่าง, แคบ, เส้น, ลูก, ชิ้น, ผัก, บู, ข้าว</td>\n",
       "      <td>เนื้อดี icecreamดี คุ้มค่าดี ถ้านึกถึงชาบูที่มีเนื้อเน้น  ในราคาไม่โหดจนเกินไป ก็นึกถึงmomoตลอด บางทีทางร้านก็จะมีโปรมา   จ่าย   ในวันธรรมดาด้วยนะ\\nส่วนตัวชอบเนื้อออส เพราะมันไม่เยอะเกินไป จริง มันเยอะก็อร่อยนะ แต่ทานมาก แล้วเลี่ยนไว \\n\\nอีกอย่างที่ชอบก็คือไอศกรีมรสชาเขียว และรสข้าว ไปทีไรสั่ง   ถ้วยตลอด</td>\n",
       "    </tr>\n",
       "    <tr>\n",
       "      <th>4</th>\n",
       "      <td>Mo-Mo-Paradise (โม โม พาราไดซ์) เดอะมอลล์ บางกะปิ</td>\n",
       "      <td>3</td>\n",
       "      <td>เนื้อ, นั่ง, บริการ, สาขา, ชอบ, สั่ง, นึก, ค่า, เหมือน, รส, เดิน, โปรบัตร, เนื้อต่าง, แคบ, เส้น, ลูก, ชิ้น, ผัก, บู, ข้าว</td>\n",
       "      <td>อาหารมีคุณภาพ บริการดีค่ะ เดินมาหน้าร้านแล้วได้กลิ่นชาบูหอมมาก    ประกอบกับมีโปรบัตรเครดิตด้วย เลยตัดสินใจว่ากินร้านนี้ละกัน น้ำชาบูเลือกได้    อย่าง พวกเนื้อต่าง   ต้องสั่งมา ส่วนผักเส้น และลูกชิ้น ไปตักเองได้เลย มีให้เลือกหลากหลายค่ะ \\n\\nสาขานี้ที่นั่งกว้างขวาง นั่งสบาย ไม่เหมือนกับสาขา  CTW  ที่จะค่อนข้างแคบ มีเด็กมาด้วยนั่งสบายดีค่ะ \\n\\nเนื้อต่าง   คุณภาพดี บริการรวดเร็ว ขนมอร่อยค่ะ</td>\n",
       "    </tr>\n",
       "  </tbody>\n",
       "</table>\n",
       "</div>"
      ],
      "text/plain": [
       "                                          Restaurant  Selected Topic  \\\n",
       "0  Mo-Mo-Paradise (โม โม พาราไดซ์) เดอะมอลล์ บางกะปิ  5                \n",
       "1  Mo-Mo-Paradise (โม โม พาราไดซ์) เดอะมอลล์ บางกะปิ  8                \n",
       "2  Mo-Mo-Paradise (โม โม พาราไดซ์) เดอะมอลล์ บางกะปิ  6                \n",
       "3  Mo-Mo-Paradise (โม โม พาราไดซ์) เดอะมอลล์ บางกะปิ  3                \n",
       "4  Mo-Mo-Paradise (โม โม พาราไดซ์) เดอะมอลล์ บางกะปิ  3                \n",
       "\n",
       "                                                                                                                                                 Topic Text  \\\n",
       "0  บริการ, อร่อย, รสชาติิ, เนื้อ, ซุป, ประทับใจ, คุ้ม, shabushi, ใส่, แปลก, น่ารัก, สะอาด, ราคา, นํ้า, สะอ้าน, พนักงาน, ต้องการ, คุณภาพ, บุฟเฟ่ต์่ต์ต์, น้ำ   \n",
       "1  สาขา, บุฟเฟ่ต์่ต์ต์, บริการ, ราคา, น้ำ, พนักงาน, ซุป, รอ, เต็ม, ชั่วโมง, อร่อย, pizza, ชั้น, ธรรมดา, pizzeria, หลาก, ชุด, แนะนำ, คุณภาพ, หวย               \n",
       "2  เนื้อ, น้ำ, ซุป, อร่อย, หวาน, ค่า, หม้อ, วัว, สั่ง, คุ้ม, icecream, ชอบ, หน้า, โต๊ะ, ชาบูน้ำดำ, เห็ด, ไก่, แนว, หมู, ญี่ปุ่น                               \n",
       "3  เนื้อ, นั่ง, บริการ, สาขา, ชอบ, สั่ง, นึก, ค่า, เหมือน, รส, เดิน, โปรบัตร, เนื้อต่าง, แคบ, เส้น, ลูก, ชิ้น, ผัก, บู, ข้าว                                  \n",
       "4  เนื้อ, นั่ง, บริการ, สาขา, ชอบ, สั่ง, นึก, ค่า, เหมือน, รส, เดิน, โปรบัตร, เนื้อต่าง, แคบ, เส้น, ลูก, ชิ้น, ผัก, บู, ข้าว                                  \n",
       "\n",
       "                                                                                                                                                                                                                                                                                                                                                                                                                                                                                                                                                                                                                                                                                                                                                                                                                                                                                                                                                                                                                                                                                                                             Review  \n",
       "0  ที่สำคัญของร้านนี้คือบริการดีมากพนักงานน่ารักสุด สะอาดสะอ้านใส่ใจค่อนข้างประทับใจกับการบริการรสชาติิอาหารอันนี้แปลกใหม่ ที่สำคัญของร้านนี้คือบริการดีมากพนักงานน่ารักสุด สะอาดสะอ้านใส่ใจค่อนข้างประทับใจกับการบริการรสชาติิอาหารอันนี้แปลกใหม่\\nเซ็ท    บาท\\nอาหารจำกัดไม่ได้หลากหลายแต่เพียงพอกับความต้องการ\\nเราไม่กินเนื้อ กินสันคอ  ถาด เป็ด \\nแฟนกินเนื้อ คุณภาพดี\\nน้ำซุปดำกับเผ็ด\\nที่สำคัญคือน้ำจิ้มอร่อยมากไม่เคยกินรสชาติิแบบนี้มาก่อนเป็นเต้าเจี้ยวนิด แต่ก็ไม่ได้เคลมก็รสชาติิดีนะถามราคาโดยรวมก็ถือว่าคุ้มเพราะว่าโมจิอร่อยมากicecreamก็อร่อยไม่ต้องออกไปกินข้างนอกสรุปรวม ละกันว่าประทับใจในบริการและคุณภาพของอาหาร                                                                                                                                                                                                                                                                                                                                                                                                                                                                                                \n",
       "1  รสชาติิเหมือนทุกสาขา แต่สาขานี้ บริการดี ที่นั่งดี นึกถึงชาบูญี่ปุ่นยังไงก็ต้อง คิดถึงmomo paradise คุณภาพเค้ามาตราฐานจริง  วันนี้มีโอกาสมาทานก่อนร้านปิด    นาที ทางร้านก็บริการดี จะมีก็แต่อาหาร เครื่องดื่มที่ทางร้านเริ่มทะยอยเก็บ แต่เราก็เข้าใจเพราะทางร้านแจ้งรายละเอียดการงดรับออร์เดอร์แล้ว \\n           สาขานี้ พนักงานบริการดี น่ารักเป็นกันเอง ขออะไรก็ได้หมด ไม่มีเหวี่ยง เคยเจอสาขา พระราม   คือ ไม่โอเค พนักงาน ไม่พร้อมทำงานมาก CTW แม้จะเป็นพรีเมียมการบริการก็สู้สาขานี้ไม่ได้ Terminal    ลูกค้าเยอะ                                                                                                                                                                                                                                                                                                                                                                                                                                                                                                                                                                                                           \n",
       "2  ชาบูพรีเมียมสไตล์ญี่ปุ่น เนื้อดีมากก มาทานช่วงนี้ สามารถนั่งโต๊ะเดียวกัน หม้อเดียวกันได้แล้ว แต่ระหว่างโต๊ะยังมีฉากกั้นอยู่ \\n\\nน้ำซุปเลือกได้   รส น้ำจิ้มก็จะแตกต่างกันตามน้ำซุป เลือกมาเป็นชาบูน้ำดำ กับน้ำซุปเห็ด\\nชาบูน้ำดำ   หวาน เค็ม  รสชาติิเข้มข้น เสิร์ฟพร้อมไข่สด ถ้าเป็นผู้ใหญ่ที่ไม่ชอบหวาน  อาจจะไม่ค่อยชอบ\\nน้ำซุปเห็ด   มีชื่อด้วยเป็นภาษาญี่ปุ่น แต่จำไม่ได้    เสิร์ฟมากับ เห็ด และ น้ำจิ้มซอยซอส รสชาติิจืด  แนวน้ำซุปใส \\n\\nเนื้อสัตว์จะมีให้เลือก เนื้อวัว   แบบ  เนื้อหมู   แบบ  เนื้อเป็ด  ไก่ไม้ไผ่ เลยสั่งมาลองทุกอย่าง\\nเนื้อวัว   อร่อยมาก ชิ้นไม่บาง เนื้อนุ่มมาก  กินกับชาบูน้ำดำเข้ากันมาก\\nเนื้อหมู   เป็นคุโรบูตะ อร่อยนุ่มลิ้น \\nเนื้อเป็ด   จะหนึบ  ไม่เหนียว ไม่คาว แต่ทานได้จานเดียวรู้สึกว่าพอแล้ว\\nไก่ไม้ไผ่   เป็นไก่บด ลืมถ่ายรูปมา รสชาติิกรุบ  แตาส่วนตัวเฉย  \\n\\nช่วงโควิด บาร์ผักกับน้ำ จะมีพนักงานตักให้ เราอยากได้อะไรก็ไปจิ้ม เลือก ได้เลย \\n\\nของหวาน มีicecreamกับไดฟูกุ ลองสั่งแต่ไดฟูกุ icecreamไม่ไหวแย้ววว สั่งมาสามรส สตอเบอรี่ ชาเขียว ถั่วแดง อร่อยทั้งหมดค่ะ\\n\\nสรุป อร่อยคุ้มค่ากับราคา แต่คงไม่ได้มาทานบ่อย  ตกคนละ       แต่ถ้าใครไม่ทานเนื้อวัว อาจจะไม่คุ้มเท่าไร  \n",
       "3  เนื้อดี icecreamดี คุ้มค่าดี ถ้านึกถึงชาบูที่มีเนื้อเน้น  ในราคาไม่โหดจนเกินไป ก็นึกถึงmomoตลอด บางทีทางร้านก็จะมีโปรมา   จ่าย   ในวันธรรมดาด้วยนะ\\nส่วนตัวชอบเนื้อออส เพราะมันไม่เยอะเกินไป จริง มันเยอะก็อร่อยนะ แต่ทานมาก แล้วเลี่ยนไว \\n\\nอีกอย่างที่ชอบก็คือไอศกรีมรสชาเขียว และรสข้าว ไปทีไรสั่ง   ถ้วยตลอด                                                                                                                                                                                                                                                                                                                                                                                                                                                                                                                                                                                                                                                                                                                                                                                                                 \n",
       "4  อาหารมีคุณภาพ บริการดีค่ะ เดินมาหน้าร้านแล้วได้กลิ่นชาบูหอมมาก    ประกอบกับมีโปรบัตรเครดิตด้วย เลยตัดสินใจว่ากินร้านนี้ละกัน น้ำชาบูเลือกได้    อย่าง พวกเนื้อต่าง   ต้องสั่งมา ส่วนผักเส้น และลูกชิ้น ไปตักเองได้เลย มีให้เลือกหลากหลายค่ะ \\n\\nสาขานี้ที่นั่งกว้างขวาง นั่งสบาย ไม่เหมือนกับสาขา  CTW  ที่จะค่อนข้างแคบ มีเด็กมาด้วยนั่งสบายดีค่ะ \\n\\nเนื้อต่าง   คุณภาพดี บริการรวดเร็ว ขนมอร่อยค่ะ                                                                                                                                                                                                                                                                                                                                                                                                                                                                                                                                                                                                                                                                                                                             "
      ]
     },
     "execution_count": 70,
     "metadata": {},
     "output_type": "execute_result"
    }
   ],
   "source": [
    "result_df[['Restaurant','Selected Topic','Topic Text','Review']].head()"
   ]
  }
 ],
 "metadata": {
  "kernelspec": {
   "display_name": "Python 3",
   "language": "python",
   "name": "python3"
  },
  "language_info": {
   "codemirror_mode": {
    "name": "ipython",
    "version": 3
   },
   "file_extension": ".py",
   "mimetype": "text/x-python",
   "name": "python",
   "nbconvert_exporter": "python",
   "pygments_lexer": "ipython3",
   "version": "3.8.5"
  }
 },
 "nbformat": 4,
 "nbformat_minor": 5
}
