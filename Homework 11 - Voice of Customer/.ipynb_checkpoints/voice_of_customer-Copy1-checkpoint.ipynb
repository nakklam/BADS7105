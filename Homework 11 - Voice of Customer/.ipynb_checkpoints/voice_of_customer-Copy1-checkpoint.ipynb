{
 "cells": [
  {
   "cell_type": "code",
   "execution_count": 1,
   "id": "4bd16929",
   "metadata": {},
   "outputs": [
    {
     "name": "stdout",
     "output_type": "stream",
     "text": [
      "loading model.....\n",
      "Success\n"
     ]
    }
   ],
   "source": [
    "import pandas as pd\n",
    "import numpy as np\n",
    "import matplotlib.pyplot as plt\n",
    "import seaborn as sns\n",
    "%matplotlib inline\n",
    "\n",
    "import pythainlp\n",
    "from pythainlp.tokenize import sent_tokenize, word_tokenize\n",
    "import gensim\n",
    "import string\n",
    "import pyLDAvis\n",
    "import pyLDAvis.gensim_models as gensimvis\n",
    "import re\n",
    "pyLDAvis.enable_notebook()\n",
    "import sefr_cut\n",
    "sefr_cut.load_model(engine='tl-deepcut-ws1000')\n",
    "\n",
    "import warnings\n",
    "warnings.filterwarnings('ignore')"
   ]
  },
  {
   "cell_type": "code",
   "execution_count": 2,
   "id": "5c4abdfa",
   "metadata": {},
   "outputs": [],
   "source": [
    "# Add Thai Font\n",
    "# ที่มา https://www.facebook.com/groups/colab.thailand/permalink/1421960354645985/\n",
    "import matplotlib as mpl\n",
    "plt.rcParams['font.family']='K2D'\n",
    "mpl.font_manager.fontManager.addfont('./fonts/K2D-Regular.ttf')\n",
    "mpl.rc('font', family='K2D', size=12, weight=200)"
   ]
  },
  {
   "cell_type": "markdown",
   "id": "6ac10d48",
   "metadata": {},
   "source": [
    "# Load and View Dataset"
   ]
  },
  {
   "cell_type": "code",
   "execution_count": 5,
   "id": "a7ba14e3",
   "metadata": {},
   "outputs": [
    {
     "name": "stdout",
     "output_type": "stream",
     "text": [
      "Review Dimension (num reviews/num columns) :  (21, 7)\n"
     ]
    },
    {
     "data": {
      "text/html": [
       "<div>\n",
       "<style scoped>\n",
       "    .dataframe tbody tr th:only-of-type {\n",
       "        vertical-align: middle;\n",
       "    }\n",
       "\n",
       "    .dataframe tbody tr th {\n",
       "        vertical-align: top;\n",
       "    }\n",
       "\n",
       "    .dataframe thead th {\n",
       "        text-align: right;\n",
       "    }\n",
       "</style>\n",
       "<table border=\"1\" class=\"dataframe\">\n",
       "  <thead>\n",
       "    <tr style=\"text-align: right;\">\n",
       "      <th></th>\n",
       "      <th>Review ID</th>\n",
       "      <th>Restaurant_ID</th>\n",
       "      <th>Restaurant</th>\n",
       "      <th>User</th>\n",
       "      <th>Headline</th>\n",
       "      <th>Review</th>\n",
       "      <th>Rating</th>\n",
       "    </tr>\n",
       "  </thead>\n",
       "  <tbody>\n",
       "    <tr>\n",
       "      <th>0</th>\n",
       "      <td>1</td>\n",
       "      <td>352696Px-mo-mo-paradise-เดอะมอลล์-บางกะปิ</td>\n",
       "      <td>Mo-Mo-Paradise (โม โม พาราไดซ์) เดอะมอลล์ บางกะปิ</td>\n",
       "      <td>7b16469831074f7abc7824745ee75212</td>\n",
       "      <td>ที่สำคัญของร้านนี้คือบริการดีมากพนักงานน่ารักส...</td>\n",
       "      <td>ที่สำคัญของร้านนี้คือบริการดีมากพนักงานน่ารักส...</td>\n",
       "      <td>5.0</td>\n",
       "    </tr>\n",
       "    <tr>\n",
       "      <th>1</th>\n",
       "      <td>2</td>\n",
       "      <td>352696Px-mo-mo-paradise-เดอะมอลล์-บางกะปิ</td>\n",
       "      <td>Mo-Mo-Paradise (โม โม พาราไดซ์) เดอะมอลล์ บางกะปิ</td>\n",
       "      <td>pakkaramonpondej</td>\n",
       "      <td>รสชาติเหมือนทุกสาขา แต่สาขานี้ บริการดี ที่นั่งดี</td>\n",
       "      <td>นึกถึงชาบูญี่ปุ่นยังไงก็ต้อง คิดถึงโมโม่ พาราไ...</td>\n",
       "      <td>5.0</td>\n",
       "    </tr>\n",
       "    <tr>\n",
       "      <th>2</th>\n",
       "      <td>3</td>\n",
       "      <td>352696Px-mo-mo-paradise-เดอะมอลล์-บางกะปิ</td>\n",
       "      <td>Mo-Mo-Paradise (โม โม พาราไดซ์) เดอะมอลล์ บางกะปิ</td>\n",
       "      <td>saanowy</td>\n",
       "      <td>ชาบูพรีเมี่ยมสไตล์ญี่ปุ่น เนื้อดีมากกก</td>\n",
       "      <td>มาทานช่วงนี้ สามารถนั่งโต๊ะเดียวกัน หม้อเดียวก...</td>\n",
       "      <td>4.0</td>\n",
       "    </tr>\n",
       "    <tr>\n",
       "      <th>3</th>\n",
       "      <td>4</td>\n",
       "      <td>352696Px-mo-mo-paradise-เดอะมอลล์-บางกะปิ</td>\n",
       "      <td>Mo-Mo-Paradise (โม โม พาราไดซ์) เดอะมอลล์ บางกะปิ</td>\n",
       "      <td>ployynp</td>\n",
       "      <td>เนื้อดี ไอติมดี คุ้มค่าดี</td>\n",
       "      <td>ถ้านึกถึงชาบูที่มีเนื้อเน้นๆ ในราคาไม่โหดจนเกิ...</td>\n",
       "      <td>4.0</td>\n",
       "    </tr>\n",
       "    <tr>\n",
       "      <th>4</th>\n",
       "      <td>5</td>\n",
       "      <td>352696Px-mo-mo-paradise-เดอะมอลล์-บางกะปิ</td>\n",
       "      <td>Mo-Mo-Paradise (โม โม พาราไดซ์) เดอะมอลล์ บางกะปิ</td>\n",
       "      <td>665a902b335b434ab489f00f2fbb477e</td>\n",
       "      <td>อาหารมีคุณภาพ บริการดีค่ะ</td>\n",
       "      <td>เดินมาหน้าร้านแล้วได้กลิ่นชาบูหอมมาก ๆ  ประกอบ...</td>\n",
       "      <td>5.0</td>\n",
       "    </tr>\n",
       "  </tbody>\n",
       "</table>\n",
       "</div>"
      ],
      "text/plain": [
       "   Review ID                              Restaurant_ID  \\\n",
       "0          1  352696Px-mo-mo-paradise-เดอะมอลล์-บางกะปิ   \n",
       "1          2  352696Px-mo-mo-paradise-เดอะมอลล์-บางกะปิ   \n",
       "2          3  352696Px-mo-mo-paradise-เดอะมอลล์-บางกะปิ   \n",
       "3          4  352696Px-mo-mo-paradise-เดอะมอลล์-บางกะปิ   \n",
       "4          5  352696Px-mo-mo-paradise-เดอะมอลล์-บางกะปิ   \n",
       "\n",
       "                                          Restaurant  \\\n",
       "0  Mo-Mo-Paradise (โม โม พาราไดซ์) เดอะมอลล์ บางกะปิ   \n",
       "1  Mo-Mo-Paradise (โม โม พาราไดซ์) เดอะมอลล์ บางกะปิ   \n",
       "2  Mo-Mo-Paradise (โม โม พาราไดซ์) เดอะมอลล์ บางกะปิ   \n",
       "3  Mo-Mo-Paradise (โม โม พาราไดซ์) เดอะมอลล์ บางกะปิ   \n",
       "4  Mo-Mo-Paradise (โม โม พาราไดซ์) เดอะมอลล์ บางกะปิ   \n",
       "\n",
       "                               User  \\\n",
       "0  7b16469831074f7abc7824745ee75212   \n",
       "1                  pakkaramonpondej   \n",
       "2                           saanowy   \n",
       "3                           ployynp   \n",
       "4  665a902b335b434ab489f00f2fbb477e   \n",
       "\n",
       "                                            Headline  \\\n",
       "0  ที่สำคัญของร้านนี้คือบริการดีมากพนักงานน่ารักส...   \n",
       "1  รสชาติเหมือนทุกสาขา แต่สาขานี้ บริการดี ที่นั่งดี   \n",
       "2             ชาบูพรีเมี่ยมสไตล์ญี่ปุ่น เนื้อดีมากกก   \n",
       "3                          เนื้อดี ไอติมดี คุ้มค่าดี   \n",
       "4                          อาหารมีคุณภาพ บริการดีค่ะ   \n",
       "\n",
       "                                              Review  Rating  \n",
       "0  ที่สำคัญของร้านนี้คือบริการดีมากพนักงานน่ารักส...     5.0  \n",
       "1  นึกถึงชาบูญี่ปุ่นยังไงก็ต้อง คิดถึงโมโม่ พาราไ...     5.0  \n",
       "2  มาทานช่วงนี้ สามารถนั่งโต๊ะเดียวกัน หม้อเดียวก...     4.0  \n",
       "3  ถ้านึกถึงชาบูที่มีเนื้อเน้นๆ ในราคาไม่โหดจนเกิ...     4.0  \n",
       "4  เดินมาหน้าร้านแล้วได้กลิ่นชาบูหอมมาก ๆ  ประกอบ...     5.0  "
      ]
     },
     "execution_count": 5,
     "metadata": {},
     "output_type": "execute_result"
    }
   ],
   "source": [
    "review_df = pd.read_csv('./data/CustomerReviews.csv')\n",
    "print(\"Review Dimension (num reviews/num columns) : \",review_df.shape)\n",
    "review_df.head()"
   ]
  },
  {
   "cell_type": "markdown",
   "id": "274b2cd2",
   "metadata": {},
   "source": [
    "# Basic Text Wrangling"
   ]
  },
  {
   "cell_type": "code",
   "execution_count": 10,
   "id": "1a8de8c4",
   "metadata": {},
   "outputs": [
    {
     "name": "stdout",
     "output_type": "stream",
     "text": [
      "0     ที่สำคัญของร้านนี้คือบริการดีมากพนักงานน่ารักส...\n",
      "1     รสชาติิเหมือนทุกสาขา แต่สาขานี้ บริการดี ที่นั...\n",
      "2     ชาบูพรีเมียมสไตล์ญี่ปุ่น เนื้อดีมากก มาทานช่วง...\n",
      "3     เนื้อดี icecreamดี คุ้มค่าดี ถ้านึกถึงชาบูที่ม...\n",
      "4     อาหารมีคุณภาพ บริการดีค่ะ เดินมาหน้าร้านแล้วได...\n",
      "5     กินให้อิ่ม ที่ momo ร้านบุฟเฟ่ต์่ต์ ชาบูแนวญี่...\n",
      "6     ชาบู   สุกกี้สไลด์ญี่ปุ่นที่แท้ทรู  Number    ...\n",
      "7     ร้านชาบูแฟรนไชส์ ที่ราคาเหมาะสมกับคุณภาพ ถือว่...\n",
      "8     อร่อยคุ้ม ของทานเล่นเยอะมาก มา านที่ขาบูชิต้อง...\n",
      "9     ทานอีก ชอบกุ้งทอดเทมปุระ ใครชอบกุ้งทอดเทมปุระ ...\n",
      "10    บุฟเฟ่ต์่ต์ต์คุ้ม ในห้าง กลับมาupdateราคาshabu...\n",
      "11    เปลี่ยนจากกุ้งขาดสารอาหารเป็นกุ้งปอกเปลือกแล้ว...\n",
      "12    อิ่ม อร่อย ฝุดฝุด เมื่อหลายวันก่อนนัดหาข้าวทาน...\n",
      "13    จัดให้เต็มคราบกับชั่วโมงครึ่ง Shabushi บอกตรง ...\n",
      "14    ชาบู shabushi สวัสดีครับวันนี้จะขอมารีวิวร้านs...\n",
      "15    บุฟเฟ่ต์ต์น้ำเดือด สายพานร่อน shabushi สาขาเดอ...\n",
      "16    บุฟเฟ่ต์่ต์ต์ชาบูและpizzaไม่อั้นในราคา     บาท...\n",
      "17    ร้านบุฟเฟ่ต์่ต์ต์ ราคามิตรภาพ อยู่ชั้น  ติดโรง...\n",
      "18    ของหลากหลาย ปน  งง  นิดหน่อย เคยรู้จักร้านนี้จ...\n",
      "19    อร่อยมากค่ะ คุ้มค่าสมราคา บุฟเฟ่ต์่ต์หมูผักต่า...\n",
      "20    แม้จะแปลกบ้าง แต่ก็ถือว่าอยู่ในเกณฑ์ที่ดี มีอา...\n",
      "Name: review_text, dtype: object\n"
     ]
    }
   ],
   "source": [
    "# Text Cleansing\n",
    "# to correct misspelling word and remove the unwanted word or character\n",
    "correct_word_list = {\n",
    "    'โมโม่' : 'momo', 'มากก' : 'มาก', 'กกก' : 'ก', 'แวท' : 'vat', 'พิซเซอเรีย' : 'pizzeria', 'พิซซ่า' : 'pizza', \n",
    "    'เก้บ' : 'เก็บ', 'ชูชิ' : 'ซูชิ', 'ซึป' : 'ซุป', 'ชาบูชิ' : 'shabushi', 'อารามณ์' : 'อารมณ์', 'ส่งน' : 'ส่วน', \n",
    "    'สไลต์' : 'สไลด์', 'ประยุคก์' : 'ประยุกต์', 'ไอติม' : 'icecream', 'พาราไดส์' : 'paradise', 'พาราไดซ์' : 'paradise', \n",
    "    'อัพเดท' : 'update', 'นาราย' : 'narai ', 'พรีเมี่ยม' : 'พรีเมียม','บ๋วย' : 'บ๊วย', 'เฟรนไชส์' : 'แฟรนไชส์',\n",
    "    'บุฟเฟ่ต์่ต์ต์ต์':'บุฟเฟ่ต์','บุฟเฟ่ต์่ต์ต์':'บุฟเฟ่ต์','บุฟเฟ่ต์ต์':'บุฟเฟ่ต์',\n",
    "    'บุพเฟ่' : 'บุฟเฟ่ต์','บุฟเฟ่' : 'บุฟเฟ่ต์','บุฟเฟ' : 'บุฟเฟ่ต์', 'บุฟเฟต' : 'บุฟเฟ่ต์',\n",
    "    'รสชาต' : 'รสชาติ'\n",
    "}\n",
    "\n",
    "def do_text_preprocessing(text):\n",
    "    # 1. correct some misspelling in text\n",
    "    for old,new in correct_word_list.items():\n",
    "        text = text.replace(old, new)\n",
    "        \n",
    "    # 2. remove punctuations character in text\n",
    "    text = re.sub(r'[ๆฯ!#$&%\\\"\\'()*+,-./:;<=>?@\\[\\]\\\\^_`{}|~]',' ', text)\n",
    "\n",
    "    # 3. remove digit character in text\n",
    "    text = re.sub(r'\\d',' ', text)\n",
    "    \n",
    "    return text.strip()\n",
    "\n",
    "# the review text is the review's headline and contents\n",
    "review_df['review_text'] = review_df.apply(lambda x: do_text_preprocessing(x['Headline'] + ' ' + x['Review']), axis=1)\n",
    "print(review_df['review_text'])"
   ]
  },
  {
   "cell_type": "code",
   "execution_count": 12,
   "id": "01cc83ea",
   "metadata": {},
   "outputs": [
    {
     "name": "stdout",
     "output_type": "stream",
     "text": [
      "CPU times: user 32.5 s, sys: 2.76 s, total: 35.2 s\n",
      "Wall time: 28 s\n",
      "0     [บริการ, พนักงาน, น่ารัก, สะอาด, สะอ้าน, ใส่, ...\n",
      "1     [รสชาติิ, เหมือน, สาขา, สาขา, บริการ, นั่ง, นึ...\n",
      "2     [ชาบูพรีเมียม, สไตล์, ญี่ปุ่น, เนื้อ, มากก, นั...\n",
      "3     [เนื้อ, icecream, คุ้ม, ค่า, นึก, ชาบู, เนื้อ,...\n",
      "4     [ภาพ, บริการ, เดิน, หน้า, กลิ่น, ชาบูหอม, โปรบ...\n",
      "5     [อิ่ม, momo, บุฟเฟ่ต์่ต์, ชา, บู, แนว, ญี่ปุ่น...\n",
      "6     [ชาบู, สุก, กี้, สไลด์, ญี่ปุ่น, ทรู, Number, ...\n",
      "7     [ชาบูแฟรนไชส์, ราคา, เหมาะสม, คุณภาพ, คุ้ม, น้...\n",
      "8     [อร่อย, คุ้ม, เล่น, าน, ขา, บูชิ, หิว, งั้น, ค...\n",
      "9     [ชอบ, กุ้ง, ทอด, เทมปุระ, ชอบ, กุ้ง, ทอด, เทมป...\n",
      "10    [บุฟเฟ่ต์่ต์ต์, คุ้ม, ห้าง, update, ราคา, shab...\n",
      "11    [กุ้ง, สาร, กุ้ง, ปอก, เปลือก, รู้, ห่างหาย, s...\n",
      "12    [อิ่ม, อร่อย, ฝุดฝุด, นัด, หา, ข้าว, เดอะแกงค์...\n",
      "13    [เต็ม, คราบ, ชั่วโมง, ครึ่ง, Shabushi, บุฟเฟ่ต...\n",
      "14    [ชาบู, shabushi, สวัสดี, รี, วิว, shabushi, บุ...\n",
      "15    [บุฟเฟ่ต์ต์, น้ำ, เดือด, สายพานร่อน, shabushi,...\n",
      "16    [บุฟเฟ่ต์่ต์ต์, ชาบู, pizza, อั้น, ราคา, อิ่ม,...\n",
      "17    [บุฟเฟ่ต์่ต์ต์, ราคา, มิตรภาพ, ชั้น, ติด, โรงห...\n",
      "18    [หลาก, ปน, งง, รู้จัก, union, mall, ขึ้นใจ, ชา...\n",
      "19    [อร่อย, คุ้ม, ค่า, สมราคา, บุฟเฟ่ต์่ต์, หมู, ผ...\n",
      "20    [แปลก, เกณฑ์, สมควร, สั่ง, ราคา, น้ำ, vat, โอเ...\n",
      "Name: review_token, dtype: object\n"
     ]
    }
   ],
   "source": [
    "# word segmentation and remove the common words(stop words)\n",
    "thai_stopwords = list(pythainlp.corpus.thai_stopwords())\n",
    "unwanted_word = ['(', ')' ,'😆','🤣','\"','','%','\\u200b','::',\n",
    "                 'ร้าน','บาท','สำหรับ','ชื่อ','ทาน','ดี','กิน','อาหาร',\n",
    "                 'ดู','คน','ตัว','ลอง','ตอน','เลือก','ใจ','ที่']\n",
    "remove_word_list = thai_stopwords + unwanted_word\n",
    "\n",
    "def do_word_tokenization(text):\n",
    "    word_list = []\n",
    "    for sentence in sent_tokenize(text, engine='whitespace+newline'):\n",
    "        for words in sefr_cut.tokenize(sentence,k=100):\n",
    "            for word in words:\n",
    "                if len(word) >1 and word not in remove_word_list:\n",
    "                    word_list.append(word)\n",
    "    return word_list\n",
    "\n",
    "%time review_df['review_token'] = review_df['review_text'].apply(do_word_tokenization)\n",
    "print(review_df['review_token'])"
   ]
  },
  {
   "cell_type": "code",
   "execution_count": 15,
   "id": "11bebe36",
   "metadata": {},
   "outputs": [
    {
     "name": "stdout",
     "output_type": "stream",
     "text": [
      "CPU times: user 33.7 s, sys: 2.91 s, total: 36.7 s\n",
      "Wall time: 29.3 s\n",
      "0     [บริการ, พนักงาน, น่ารัก, สะอาด, สะอ้าน, ใส่, ...\n",
      "1     [รสชาติิ, เหมือน, สาขา, สาขา, บริการ, นั่ง, นึ...\n",
      "2     [ชาบูพรีเมียม, สไตล์, ญี่ปุ่น, เนื้อ, มากก, นั...\n",
      "3     [เนื้อ, icecream, คุ้ม, ค่า, นึก, ชาบู, เนื้อ,...\n",
      "4     [ภาพ, บริการ, เดิน, หน้า, กลิ่น, ชาบูหอม, โปรบ...\n",
      "5     [อิ่ม, momo, บุฟเฟ่ต์่ต์, ชา, บู, แนว, ญี่ปุ่น...\n",
      "6     [ชาบู, สุก, กี้, สไลด์, ญี่ปุ่น, ทรู, Number, ...\n",
      "7     [ชาบูแฟรนไชส์, ราคา, เหมาะสม, คุณภาพ, คุ้ม, น้...\n",
      "8     [อร่อย, คุ้ม, เล่น, าน, ขา, บูชิ, หิว, งั้น, ค...\n",
      "9     [ชอบ, กุ้ง, ทอด, เทมปุระ, ชอบ, กุ้ง, ทอด, เทมป...\n",
      "10    [บุฟเฟ่ต์่ต์ต์, คุ้ม, ห้าง, update, ราคา, shab...\n",
      "11    [กุ้ง, สาร, กุ้ง, ปอก, เปลือก, รู้, ห่างหาย, s...\n",
      "12    [อิ่ม, อร่อย, ฝุดฝุด, นัด, หา, ข้าว, เดอะแกงค์...\n",
      "13    [เต็ม, คราบ, ชั่วโมง, ครึ่ง, Shabushi, บุฟเฟ่ต...\n",
      "14    [ชาบู, shabushi, สวัสดี, รี, วิว, shabushi, บุ...\n",
      "15    [บุฟเฟ่ต์ต์, น้ำ, เดือด, สายพานร่อน, shabushi,...\n",
      "16    [บุฟเฟ่ต์่ต์ต์, ชาบู, pizza, อั้น, ราคา, อิ่ม,...\n",
      "17    [บุฟเฟ่ต์่ต์ต์, ราคา, มิตรภาพ, ชั้น, ติด, โรงห...\n",
      "18    [หลาก, ปน, งง, รู้จัก, union, mall, ขึ้นใจ, ชา...\n",
      "19    [อร่อย, คุ้ม, ค่า, สมราคา, บุฟเฟ่ต์่ต์, หมู, ผ...\n",
      "20    [แปลก, เกณฑ์, สมควร, สั่ง, ราคา, น้ำ, vat, โอเ...\n",
      "Name: review_token, dtype: object\n"
     ]
    }
   ],
   "source": [
    "# word segmentation and remove the common words(stop words)\n",
    "thai_stopwords = list(pythainlp.corpus.thai_stopwords())\n",
    "unwanted_word = ['(', ')' ,'😆','🤣','\"','','%','\\u200b','::',\n",
    "                 'ร้าน','บาท','สำหรับ','ชื่อ','ทาน','ดี','กิน','อาหาร',\n",
    "                 'ดู','คน','ตัว','ลอง','ตอน','เลือก','ใจ','ที่']\n",
    "remove_word_list = thai_stopwords + unwanted_word\n",
    "\n",
    "def do_word_tokenization(text):\n",
    "    word_list = []\n",
    "    for sentence in sent_tokenize(text, engine='whitespace+newline'):\n",
    "        for words in sefr_cut.tokenize(sentence,k=100):\n",
    "            for word in words:\n",
    "                if len(word) >1 and word not in remove_word_list:\n",
    "                    word_list.append(word)\n",
    "    return word_list\n",
    "\n",
    "%time review_df['review_token'] = review_df['review_text'].apply(do_word_tokenization)\n",
    "print(review_df['review_token'])"
   ]
  },
  {
   "cell_type": "markdown",
   "id": "16ae1c77",
   "metadata": {},
   "source": [
    "# Topic Models with Gensim\n",
    "Gensim เป็น framework สำหรับทำ Topic Model, Text Similarity, Sematic Analytics และ Text Summarization โดย Gensim มีความยืดหยุ่นกว่า scikit-learn"
   ]
  },
  {
   "cell_type": "code",
   "execution_count": null,
   "id": "803dc0d3",
   "metadata": {},
   "outputs": [],
   "source": [
    "review_token_list = review_df['review_token']\n",
    "dictionary = gensim.corpora.Dictionary(review_token_list)"
   ]
  },
  {
   "cell_type": "code",
   "execution_count": null,
   "id": "a159ef6f",
   "metadata": {},
   "outputs": [],
   "source": [
    "print(str(dictionary.token2id.keys()))"
   ]
  },
  {
   "cell_type": "code",
   "execution_count": null,
   "id": "6336afba",
   "metadata": {},
   "outputs": [],
   "source": [
    "num_topics = 5\n",
    "chunksize = 4000 # size of the doc looked at every pass\n",
    "passes = 20 # number of passes through documents\n",
    "iterations = 100\n",
    "eval_every = 1  # Don't evaluate model perplexity, takes too much time.\n",
    "\n",
    "# Make a index to word dictionary.\n",
    "# temp = dictionary[0]  # This is only to \"load\" the dictionary.\n",
    "id2word = dictionary.id2token\n",
    "gensim_corpus = [dictionary.doc2bow(text, allow_update=True) for text in review_token_list]\n",
    "word_frequencies = [[(dictionary[id], frequence) for id, frequence in couple] for couple in gensim_corpus]\n",
    "\n",
    "%time model = gensim.models.LdaModel(\\\n",
    "    corpus=gensim_corpus, \\\n",
    "    id2word=id2word, \\\n",
    "    chunksize=chunksize,\\\n",
    "    alpha='auto',\\\n",
    "    eta='auto',\\\n",
    "    iterations=iterations,\\\n",
    "    num_topics=num_topics,\\\n",
    "    passes=passes,\\\n",
    "    eval_every=eval_every)"
   ]
  },
  {
   "cell_type": "code",
   "execution_count": null,
   "id": "b1b212d1",
   "metadata": {
    "scrolled": true
   },
   "outputs": [],
   "source": [
    "pyLDAvis.gensim_models.prepare(model, gensim_corpus, dictionary)"
   ]
  },
  {
   "cell_type": "code",
   "execution_count": null,
   "id": "394cfbfd",
   "metadata": {},
   "outputs": [],
   "source": [
    "def get_keyword(x):\n",
    "  new_x = str(c[x])\n",
    "  return new_x\n",
    "\n",
    "def get_topic(x):\n",
    "  new_x = [i[0] for i in x]\n",
    "  return new_x\n",
    "\n",
    "list_topic = list()\n",
    "for i in range(0,num_topics):\n",
    "  print('topic:',i)\n",
    "  list_topic.append(set(get_topic(model.show_topic(i,20))))\n",
    "  print(list_topic[i])"
   ]
  },
  {
   "cell_type": "code",
   "execution_count": null,
   "id": "fe6fd317",
   "metadata": {
    "scrolled": true
   },
   "outputs": [],
   "source": [
    "result = []\n",
    "topn = 15\n",
    "\n",
    "for n in range(num_topics):\n",
    "    temp_df = pd.DataFrame(model.get_topic_terms(n, topn=topn), columns=['word_id','prob'])\n",
    "    temp_df['topic'] = n\n",
    "    result.append(temp_df)\n",
    "\n",
    "topic_terms_df = pd.concat(result)\n",
    "topic_terms_df['word'] = topic_terms_df['word_id'].apply(lambda x: dictionary.get(x))\n",
    "topic_terms_df.head()"
   ]
  },
  {
   "cell_type": "code",
   "execution_count": null,
   "id": "696208f4",
   "metadata": {},
   "outputs": [],
   "source": [
    "c = list()\n",
    "for i in range(0,num_topics):\n",
    "  a = list_topic[i]\n",
    "  b = set()\n",
    "  for j in range(0,num_topics):\n",
    "    if i != j:\n",
    "      b = b.union(list_topic[j])\n",
    "  a = a-b\n",
    "  c.append(list(a))\n",
    "  print(i,a)"
   ]
  },
  {
   "cell_type": "code",
   "execution_count": null,
   "id": "fd9939ea",
   "metadata": {},
   "outputs": [],
   "source": [
    "review_df['topic'] = review_df['review_token'].apply(lambda x: model.get_document_topics(dictionary.doc2bow(x))[0][0])\n",
    "review_df['score'] = review_df['review_token'].apply(lambda x: model.get_document_topics(dictionary.doc2bow(x))[0][1])\n",
    "review_df['topic_name'] = review_df['review_token'].apply(lambda x: model.show_topic(model.get_document_topics(dictionary.doc2bow(x))[0][0]))\n",
    "review_df['topic_name2'] = review_df['topic_name'].apply(lambda x:get_topic(x))\n",
    "review_df['keyword'] = review_df['topic'].apply(lambda x:get_keyword(x))"
   ]
  },
  {
   "cell_type": "code",
   "execution_count": null,
   "id": "282547b2",
   "metadata": {},
   "outputs": [],
   "source": [
    "print(review_df['topic_name2'])"
   ]
  },
  {
   "cell_type": "code",
   "execution_count": null,
   "id": "5c00472f",
   "metadata": {},
   "outputs": [],
   "source": [
    "review_df[['Restaurant','review_text','topic','score','topic_name2','keyword']]"
   ]
  }
 ],
 "metadata": {
  "kernelspec": {
   "display_name": "Python 3",
   "language": "python",
   "name": "python3"
  },
  "language_info": {
   "codemirror_mode": {
    "name": "ipython",
    "version": 3
   },
   "file_extension": ".py",
   "mimetype": "text/x-python",
   "name": "python",
   "nbconvert_exporter": "python",
   "pygments_lexer": "ipython3",
   "version": "3.8.5"
  }
 },
 "nbformat": 4,
 "nbformat_minor": 5
}
