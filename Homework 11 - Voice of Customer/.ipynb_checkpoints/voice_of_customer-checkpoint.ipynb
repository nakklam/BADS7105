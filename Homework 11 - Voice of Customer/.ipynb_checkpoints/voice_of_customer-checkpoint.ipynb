{
 "cells": [
  {
   "cell_type": "markdown",
   "id": "427b7e6b",
   "metadata": {},
   "source": [
    "Name : ธีรพงค์ ศันสนียวรรธน์ <br>\n",
    "Date : 23 May 2564 <br>\n",
    "Description : <br>\n",
    "เป็นการวิเคราะห์ความคิดเห็นของผู้ใช้บริการที่มีต่อร้านหนึ่งๆ ซึ่งเก็บอยู่ในรูปแบบของข้อความ <br>\n",
    "มาทำการหาข้อความที่สรุปความคิดเห็นของผุ้ใช้คนนั้นๆ ว่ามีเนื้อหาเกี่ยวกับเรื่องใด <br>\n",
    "งานนี้จะทำการวิเคราะห์โดยใช้เทคนิคทางด้าน NLP (Natural Language Processing) <br>\n",
    "ที่เรียกว่าการทำ Topic Modeling<br> <br>\n",
    "\n",
    "เป็นส่วนหนึ่งของวิชา BADS 7105 Customer Analytics <br>\n",
    "อาจารย์ผู้สอน ดร. ธนชาตย์ ฤทธิ์บำรุง <br> <br>\n",
    "สาขาวิชาการวิเคราะธ์ธุรกิจและวิทยาการข้อมูล DS รุ่นที่ 5 <br>\n",
    "คณะสถิติประยุกต์ <br>\n",
    "สถาบันบัณฑิตพัฒนบริหารศาสตร์ (นิด้า) NIDA <br>"
   ]
  },
  {
   "cell_type": "code",
   "execution_count": 1,
   "id": "4bd16929",
   "metadata": {},
   "outputs": [
    {
     "name": "stdout",
     "output_type": "stream",
     "text": [
      "loading model.....\n",
      "Success\n"
     ]
    }
   ],
   "source": [
    "import pandas as pd\n",
    "import numpy as np\n",
    "import matplotlib.pyplot as plt\n",
    "import seaborn as sns\n",
    "%matplotlib inline\n",
    "\n",
    "import pythainlp\n",
    "from pythainlp.tokenize import sent_tokenize, word_tokenize\n",
    "import gensim\n",
    "import string\n",
    "import pyLDAvis\n",
    "import pyLDAvis.gensim_models as gensimvis\n",
    "import re\n",
    "pyLDAvis.enable_notebook()\n",
    "import sefr_cut\n",
    "sefr_cut.load_model(engine='tl-deepcut-ws1000')\n",
    "\n",
    "import warnings\n",
    "warnings.filterwarnings('ignore')"
   ]
  },
  {
   "cell_type": "markdown",
   "id": "c02502ea",
   "metadata": {},
   "source": [
    "# 1. Load and View Dataset"
   ]
  },
  {
   "cell_type": "code",
   "execution_count": 2,
   "id": "a7ba14e3",
   "metadata": {},
   "outputs": [
    {
     "name": "stdout",
     "output_type": "stream",
     "text": [
      "Review Dimension (num reviews/num columns) :  (21, 7)\n"
     ]
    },
    {
     "data": {
      "text/html": [
       "<div>\n",
       "<style scoped>\n",
       "    .dataframe tbody tr th:only-of-type {\n",
       "        vertical-align: middle;\n",
       "    }\n",
       "\n",
       "    .dataframe tbody tr th {\n",
       "        vertical-align: top;\n",
       "    }\n",
       "\n",
       "    .dataframe thead th {\n",
       "        text-align: right;\n",
       "    }\n",
       "</style>\n",
       "<table border=\"1\" class=\"dataframe\">\n",
       "  <thead>\n",
       "    <tr style=\"text-align: right;\">\n",
       "      <th></th>\n",
       "      <th>Review ID</th>\n",
       "      <th>Restaurant_ID</th>\n",
       "      <th>Restaurant</th>\n",
       "      <th>User</th>\n",
       "      <th>Headline</th>\n",
       "      <th>Review</th>\n",
       "      <th>Rating</th>\n",
       "    </tr>\n",
       "  </thead>\n",
       "  <tbody>\n",
       "    <tr>\n",
       "      <th>0</th>\n",
       "      <td>1</td>\n",
       "      <td>352696Px-mo-mo-paradise-เดอะมอลล์-บางกะปิ</td>\n",
       "      <td>Mo-Mo-Paradise (โม โม พาราไดซ์) เดอะมอลล์ บางกะปิ</td>\n",
       "      <td>7b16469831074f7abc7824745ee75212</td>\n",
       "      <td>ที่สำคัญของร้านนี้คือบริการดีมากพนักงานน่ารักส...</td>\n",
       "      <td>ที่สำคัญของร้านนี้คือบริการดีมากพนักงานน่ารักส...</td>\n",
       "      <td>5.0</td>\n",
       "    </tr>\n",
       "    <tr>\n",
       "      <th>1</th>\n",
       "      <td>2</td>\n",
       "      <td>352696Px-mo-mo-paradise-เดอะมอลล์-บางกะปิ</td>\n",
       "      <td>Mo-Mo-Paradise (โม โม พาราไดซ์) เดอะมอลล์ บางกะปิ</td>\n",
       "      <td>pakkaramonpondej</td>\n",
       "      <td>รสชาติเหมือนทุกสาขา แต่สาขานี้ บริการดี ที่นั่งดี</td>\n",
       "      <td>นึกถึงชาบูญี่ปุ่นยังไงก็ต้อง คิดถึงโมโม่ พาราไ...</td>\n",
       "      <td>5.0</td>\n",
       "    </tr>\n",
       "    <tr>\n",
       "      <th>2</th>\n",
       "      <td>3</td>\n",
       "      <td>352696Px-mo-mo-paradise-เดอะมอลล์-บางกะปิ</td>\n",
       "      <td>Mo-Mo-Paradise (โม โม พาราไดซ์) เดอะมอลล์ บางกะปิ</td>\n",
       "      <td>saanowy</td>\n",
       "      <td>ชาบูพรีเมี่ยมสไตล์ญี่ปุ่น เนื้อดีมากกก</td>\n",
       "      <td>มาทานช่วงนี้ สามารถนั่งโต๊ะเดียวกัน หม้อเดียวก...</td>\n",
       "      <td>4.0</td>\n",
       "    </tr>\n",
       "    <tr>\n",
       "      <th>3</th>\n",
       "      <td>4</td>\n",
       "      <td>352696Px-mo-mo-paradise-เดอะมอลล์-บางกะปิ</td>\n",
       "      <td>Mo-Mo-Paradise (โม โม พาราไดซ์) เดอะมอลล์ บางกะปิ</td>\n",
       "      <td>ployynp</td>\n",
       "      <td>เนื้อดี ไอติมดี คุ้มค่าดี</td>\n",
       "      <td>ถ้านึกถึงชาบูที่มีเนื้อเน้นๆ ในราคาไม่โหดจนเกิ...</td>\n",
       "      <td>4.0</td>\n",
       "    </tr>\n",
       "    <tr>\n",
       "      <th>4</th>\n",
       "      <td>5</td>\n",
       "      <td>352696Px-mo-mo-paradise-เดอะมอลล์-บางกะปิ</td>\n",
       "      <td>Mo-Mo-Paradise (โม โม พาราไดซ์) เดอะมอลล์ บางกะปิ</td>\n",
       "      <td>665a902b335b434ab489f00f2fbb477e</td>\n",
       "      <td>อาหารมีคุณภาพ บริการดีค่ะ</td>\n",
       "      <td>เดินมาหน้าร้านแล้วได้กลิ่นชาบูหอมมาก ๆ  ประกอบ...</td>\n",
       "      <td>5.0</td>\n",
       "    </tr>\n",
       "  </tbody>\n",
       "</table>\n",
       "</div>"
      ],
      "text/plain": [
       "   Review ID                              Restaurant_ID  \\\n",
       "0          1  352696Px-mo-mo-paradise-เดอะมอลล์-บางกะปิ   \n",
       "1          2  352696Px-mo-mo-paradise-เดอะมอลล์-บางกะปิ   \n",
       "2          3  352696Px-mo-mo-paradise-เดอะมอลล์-บางกะปิ   \n",
       "3          4  352696Px-mo-mo-paradise-เดอะมอลล์-บางกะปิ   \n",
       "4          5  352696Px-mo-mo-paradise-เดอะมอลล์-บางกะปิ   \n",
       "\n",
       "                                          Restaurant  \\\n",
       "0  Mo-Mo-Paradise (โม โม พาราไดซ์) เดอะมอลล์ บางกะปิ   \n",
       "1  Mo-Mo-Paradise (โม โม พาราไดซ์) เดอะมอลล์ บางกะปิ   \n",
       "2  Mo-Mo-Paradise (โม โม พาราไดซ์) เดอะมอลล์ บางกะปิ   \n",
       "3  Mo-Mo-Paradise (โม โม พาราไดซ์) เดอะมอลล์ บางกะปิ   \n",
       "4  Mo-Mo-Paradise (โม โม พาราไดซ์) เดอะมอลล์ บางกะปิ   \n",
       "\n",
       "                               User  \\\n",
       "0  7b16469831074f7abc7824745ee75212   \n",
       "1                  pakkaramonpondej   \n",
       "2                           saanowy   \n",
       "3                           ployynp   \n",
       "4  665a902b335b434ab489f00f2fbb477e   \n",
       "\n",
       "                                            Headline  \\\n",
       "0  ที่สำคัญของร้านนี้คือบริการดีมากพนักงานน่ารักส...   \n",
       "1  รสชาติเหมือนทุกสาขา แต่สาขานี้ บริการดี ที่นั่งดี   \n",
       "2             ชาบูพรีเมี่ยมสไตล์ญี่ปุ่น เนื้อดีมากกก   \n",
       "3                          เนื้อดี ไอติมดี คุ้มค่าดี   \n",
       "4                          อาหารมีคุณภาพ บริการดีค่ะ   \n",
       "\n",
       "                                              Review  Rating  \n",
       "0  ที่สำคัญของร้านนี้คือบริการดีมากพนักงานน่ารักส...     5.0  \n",
       "1  นึกถึงชาบูญี่ปุ่นยังไงก็ต้อง คิดถึงโมโม่ พาราไ...     5.0  \n",
       "2  มาทานช่วงนี้ สามารถนั่งโต๊ะเดียวกัน หม้อเดียวก...     4.0  \n",
       "3  ถ้านึกถึงชาบูที่มีเนื้อเน้นๆ ในราคาไม่โหดจนเกิ...     4.0  \n",
       "4  เดินมาหน้าร้านแล้วได้กลิ่นชาบูหอมมาก ๆ  ประกอบ...     5.0  "
      ]
     },
     "execution_count": 2,
     "metadata": {},
     "output_type": "execute_result"
    }
   ],
   "source": [
    "review_df = pd.read_csv('./data/CustomerReviews.csv')\n",
    "print(\"Review Dimension (num reviews/num columns) : \",review_df.shape)\n",
    "review_df.head()"
   ]
  },
  {
   "cell_type": "markdown",
   "id": "60c3695c",
   "metadata": {},
   "source": [
    "# 2. Text Processing\n",
    "• Text Wrangling เช่น ปรับแก้ไขคำผิดและลบตัวอักษระพิเศษต่างๆ <br>\n",
    "• ตัดคำ"
   ]
  },
  {
   "cell_type": "code",
   "execution_count": 3,
   "id": "1a8de8c4",
   "metadata": {
    "scrolled": false
   },
   "outputs": [
    {
     "name": "stdout",
     "output_type": "stream",
     "text": [
      "0     ที่สำคัญของร้านนี้คือบริการดีมากพนักงานน่ารักส...\n",
      "1     รสชาติิเหมือนทุกสาขา แต่สาขานี้ บริการดี ที่นั...\n",
      "2     ชาบูพรีเมียมสไตล์ญี่ปุ่น เนื้อดีมากก มาทานช่วง...\n",
      "3     เนื้อดี icecreamดี คุ้มค่าดี ถ้านึกถึงชาบูที่ม...\n",
      "4     อาหารมีคุณภาพ บริการดีค่ะ เดินมาหน้าร้านแล้วได...\n",
      "5     กินให้อิ่ม ที่ momo ร้านบุฟเฟ่ต์่ต์ ชาบูแนวญี่...\n",
      "6     ชาบู   สุกกี้สไลด์ญี่ปุ่นที่แท้ทรู  Number    ...\n",
      "7     ร้านชาบูแฟรนไชส์ ที่ราคาเหมาะสมกับคุณภาพ ถือว่...\n",
      "8     อร่อยคุ้ม ของทานเล่นเยอะมาก มา านที่ขาบูชิต้อง...\n",
      "9     ทานอีก ชอบกุ้งทอดเทมปุระ ใครชอบกุ้งทอดเทมปุระ ...\n",
      "10    บุฟเฟ่ต์่ต์ต์คุ้ม ในห้าง กลับมาupdateราคาshabu...\n",
      "11    เปลี่ยนจากกุ้งขาดสารอาหารเป็นกุ้งปอกเปลือกแล้ว...\n",
      "12    อิ่ม อร่อย ฝุดฝุด เมื่อหลายวันก่อนนัดหาข้าวทาน...\n",
      "13    จัดให้เต็มคราบกับชั่วโมงครึ่ง Shabushi บอกตรง ...\n",
      "14    ชาบู shabushi สวัสดีครับวันนี้จะขอมารีวิวร้านs...\n",
      "15    บุฟเฟ่ต์ต์น้ำเดือด สายพานร่อน shabushi สาขาเดอ...\n",
      "16    บุฟเฟ่ต์่ต์ต์ชาบูและpizzaไม่อั้นในราคา     บาท...\n",
      "17    ร้านบุฟเฟ่ต์่ต์ต์ ราคามิตรภาพ อยู่ชั้น  ติดโรง...\n",
      "18    ของหลากหลาย ปน  งง  นิดหน่อย เคยรู้จักร้านนี้จ...\n",
      "19    อร่อยมากค่ะ คุ้มค่าสมราคา บุฟเฟ่ต์่ต์หมูผักต่า...\n",
      "20    แม้จะแปลกบ้าง แต่ก็ถือว่าอยู่ในเกณฑ์ที่ดี มีอา...\n",
      "Name: review_text, dtype: object\n"
     ]
    }
   ],
   "source": [
    "# Text Cleansing\n",
    "# to correct misspelling word and remove the unwanted word or character\n",
    "correct_word_list = {\n",
    "    'โมโม่' : 'momo', 'มากก' : 'มาก', 'กกก' : 'ก', 'แวท' : 'vat', 'พิซเซอเรีย' : 'pizzeria', 'พิซซ่า' : 'pizza', \n",
    "    'เก้บ' : 'เก็บ', 'ชูชิ' : 'ซูชิ', 'ซึป' : 'ซุป', 'ชาบูชิ' : 'shabushi', 'อารามณ์' : 'อารมณ์', 'ส่งน' : 'ส่วน', \n",
    "    'สไลต์' : 'สไลด์', 'ประยุคก์' : 'ประยุกต์', 'ไอติม' : 'icecream', 'พาราไดส์' : 'paradise', 'พาราไดซ์' : 'paradise', \n",
    "    'อัพเดท' : 'update', 'นาราย' : 'narai ', 'พรีเมี่ยม' : 'พรีเมียม','บ๋วย' : 'บ๊วย', 'เฟรนไชส์' : 'แฟรนไชส์',\n",
    "    'บุฟเฟ่ต์่ต์ต์ต์':'บุฟเฟ่ต์','บุฟเฟ่ต์่ต์ต์':'บุฟเฟ่ต์','บุฟเฟ่ต์ต์':'บุฟเฟ่ต์',\n",
    "    'บุพเฟ่' : 'บุฟเฟ่ต์','บุฟเฟ่' : 'บุฟเฟ่ต์','บุฟเฟ' : 'บุฟเฟ่ต์', 'บุฟเฟต' : 'บุฟเฟ่ต์',\n",
    "    'รสชาต' : 'รสชาติ'\n",
    "}\n",
    "\n",
    "unwanted_words = ['(', ')' ,'😆','🤣','\"','','%','\\u200b','::']\n",
    "\n",
    "def do_text_preprocessing(text):\n",
    "    # 1. correct some misspelling in text\n",
    "    for old,new in correct_word_list.items():\n",
    "        text = text.replace(old, new)\n",
    "        \n",
    "    # 2. remove unwanted word\n",
    "    for word in unwanted_words:\n",
    "        text = text.replace(word, '')\n",
    "        \n",
    "    # 3. remove punctuations character in text\n",
    "    text = re.sub(r'[ๆฯ!#$&%\\\"\\'()*+,-./:;<=>?@\\[\\]\\\\^_`{}|~]',' ', text)\n",
    "    \n",
    "\n",
    "    # 4. remove digit character in text\n",
    "    text = re.sub(r'\\d',' ', text)\n",
    "    \n",
    "    return text.strip()\n",
    "\n",
    "# the review text is the review's headline and contents\n",
    "review_df['review_text'] = review_df.apply(lambda x: do_text_preprocessing(x['Headline'] + ' ' + x['Review']), axis=1)\n",
    "print(review_df['review_text'])"
   ]
  },
  {
   "cell_type": "code",
   "execution_count": 4,
   "id": "01cc83ea",
   "metadata": {},
   "outputs": [
    {
     "name": "stdout",
     "output_type": "stream",
     "text": [
      "CPU times: user 32.5 s, sys: 2.62 s, total: 35.1 s\n",
      "Wall time: 27.9 s\n",
      "0     [บริการ, พนักงาน, น่ารัก, สะอาด, สะอ้าน, ใส่, ...\n",
      "1     [รสชาติิ, เหมือน, สาขา, สาขา, บริการ, นั่ง, นึ...\n",
      "2     [ชาบูพรีเมียม, สไตล์, ญี่ปุ่น, เนื้อ, มากก, นั...\n",
      "3     [เนื้อ, icecream, คุ้ม, ค่า, นึก, ชาบู, เนื้อ,...\n",
      "4     [ภาพ, บริการ, เดิน, หน้า, กลิ่น, ชาบูหอม, โปรบ...\n",
      "5     [อิ่ม, momo, บุฟเฟ่ต์่ต์, ชา, บู, แนว, ญี่ปุ่น...\n",
      "6     [ชาบู, สุก, กี้, สไลด์, ญี่ปุ่น, ทรู, Number, ...\n",
      "7     [ชาบูแฟรนไชส์, ราคา, เหมาะสม, คุณภาพ, คุ้ม, น้...\n",
      "8     [อร่อย, คุ้ม, เล่น, าน, ขา, บูชิ, หิว, งั้น, ค...\n",
      "9     [ชอบ, กุ้ง, ทอด, เทมปุระ, ชอบ, กุ้ง, ทอด, เทมป...\n",
      "10    [บุฟเฟ่ต์่ต์ต์, คุ้ม, ห้าง, update, ราคา, shab...\n",
      "11    [กุ้ง, สาร, กุ้ง, ปอก, เปลือก, รู้, ห่างหาย, s...\n",
      "12    [อิ่ม, อร่อย, ฝุดฝุด, นัด, หา, ข้าว, เดอะแกงค์...\n",
      "13    [เต็ม, คราบ, ชั่วโมง, ครึ่ง, Shabushi, บุฟเฟ่ต...\n",
      "14    [ชาบู, shabushi, สวัสดี, รี, วิว, shabushi, บุ...\n",
      "15    [บุฟเฟ่ต์ต์, น้ำ, เดือด, สายพานร่อน, shabushi,...\n",
      "16    [บุฟเฟ่ต์่ต์ต์, ชาบู, pizza, อั้น, ราคา, อิ่ม,...\n",
      "17    [บุฟเฟ่ต์่ต์ต์, ราคา, มิตรภาพ, ชั้น, ติด, โรงห...\n",
      "18    [หลาก, ปน, งง, รู้จัก, union, mall, ขึ้นใจ, ชา...\n",
      "19    [อร่อย, คุ้ม, ค่า, สมราคา, บุฟเฟ่ต์่ต์, หมู, ผ...\n",
      "20    [แปลก, เกณฑ์, สมควร, สั่ง, ราคา, น้ำ, vat, โอเ...\n",
      "Name: review_token, dtype: object\n"
     ]
    }
   ],
   "source": [
    "# word segmentation and remove the common words(stop words)\n",
    "thai_stopwords = list(pythainlp.corpus.thai_stopwords())\n",
    "unwanted_word = ['ร้าน','บาท','สำหรับ','ชื่อ','ทาน','ดี','กิน','อาหาร',\n",
    "                 'ดู','คน','ตัว','ลอง','ตอน','เลือก','ใจ','ที่']\n",
    "remove_word_list = thai_stopwords + unwanted_word\n",
    "\n",
    "def do_word_tokenization(text):\n",
    "    word_list = []\n",
    "    for sentence in sent_tokenize(text, engine='whitespace+newline'):\n",
    "        for words in sefr_cut.tokenize(sentence,k=100):\n",
    "            for word in words:\n",
    "                if len(word) >1 and word not in remove_word_list:\n",
    "                    word_list.append(word)\n",
    "    return word_list\n",
    "\n",
    "%time review_df['review_token'] = review_df['review_text'].apply(do_word_tokenization)\n",
    "print(review_df['review_token'])"
   ]
  },
  {
   "cell_type": "markdown",
   "id": "c5fc82b8",
   "metadata": {},
   "source": [
    "# 3. Topic Models with Gensim\n",
    "Gensim เป็น framework สำหรับทำ Topic Model, Text Similarity, Sematic Analytics และ Text Summarization โดย Gensim มีความยืดหยุ่นกว่า scikit-learn"
   ]
  },
  {
   "cell_type": "markdown",
   "id": "fba6bf3f",
   "metadata": {},
   "source": [
    "### 3.1 Create a dictionary representation of the user's reviews."
   ]
  },
  {
   "cell_type": "code",
   "execution_count": 5,
   "id": "803dc0d3",
   "metadata": {},
   "outputs": [
    {
     "name": "stdout",
     "output_type": "stream",
     "text": [
      "Number of Vocabulary : 478 \n",
      "\n",
      "Dictionary Items : [(0, 'icecream'), (1, 'คอ'), (2, 'คุณภาพ'), (3, 'คุ้ม'), (4, 'จำกัด'), (5, 'ซุป'), (6, 'ดำ'), (7, 'ต้องการ'), (8, 'ถาด'), (9, 'ถาม'), (10, 'น่ารัก'), (11, 'น้ำ'), (12, 'น้ำจิ้ม'), (13, 'บริการ'), (14, 'ประทับใจ'), (15, 'พนักงาน'), (16, 'รสชาติิ'), (17, 'ราคา'), (18, 'ร่อย'), (19, 'ละกัน'), (20, 'สรุป'), (21, 'สะอาด'), (22, 'สะอ้าน'), (23, 'สัน'), (24, 'หลากหลาย'), (25, 'อร่อย'), (26, 'เคลม'), (27, 'เจี้ยว'), (28, 'เซ็ท'), (29, 'เต้า')]\n",
      "\n"
     ]
    }
   ],
   "source": [
    "review_token_list = review_df['review_token'].tolist()\n",
    "dictionary = gensim.corpora.Dictionary(review_token_list)\n",
    "print(f'Number of Vocabulary : {len(dictionary)} \\n')\n",
    "print(f'Dictionary Items : {list(dictionary.items())[:30]}\\n')"
   ]
  },
  {
   "cell_type": "code",
   "execution_count": 6,
   "id": "1047905b",
   "metadata": {},
   "outputs": [
    {
     "name": "stdout",
     "output_type": "stream",
     "text": [
      "[(0, 1), (1, 1), (2, 2), (3, 1), (4, 1), (5, 1), (6, 1), (7, 1), (8, 1), (9, 1), (10, 2), (11, 1), (12, 1), (13, 5), (14, 3), (15, 2), (16, 4), (17, 1), (18, 1), (19, 1), (20, 1), (21, 2), (22, 2), (23, 1), (24, 1), (25, 2), (26, 1), (27, 1), (28, 1), (29, 1), (30, 2), (31, 1), (32, 1), (33, 2), (34, 1), (35, 1), (36, 2)]\n"
     ]
    }
   ],
   "source": [
    "# Transforming review list into bag of words vectors\n",
    "bow_corpus = [dictionary.doc2bow(text) for text in review_token_list]\n",
    "print(bow_corpus[0])"
   ]
  },
  {
   "cell_type": "code",
   "execution_count": 7,
   "id": "03432e47",
   "metadata": {
    "scrolled": true
   },
   "outputs": [
    {
     "name": "stdout",
     "output_type": "stream",
     "text": [
      "Total number of corpus: 21\n",
      "[('icecream', 1), ('คอ', 1), ('คุณภาพ', 2), ('คุ้ม', 1), ('จำกัด', 1), ('ซุป', 1), ('ดำ', 1), ('ต้องการ', 1), ('ถาด', 1), ('ถาม', 1), ('น่ารัก', 2), ('น้ำ', 1), ('น้ำจิ้ม', 1), ('บริการ', 5), ('ประทับใจ', 3), ('พนักงาน', 2), ('รสชาติิ', 4), ('ราคา', 1), ('ร่อย', 1), ('ละกัน', 1), ('สรุป', 1), ('สะอาด', 2), ('สะอ้าน', 2), ('สัน', 1), ('หลากหลาย', 1), ('อร่อย', 2), ('เคลม', 1), ('เจี้ยว', 1), ('เซ็ท', 1), ('เต้า', 1), ('เนื้อ', 2), ('เป็ด', 1), ('เผ็ด', 1), ('แปลก', 2), ('แฟน', 1), ('โมจิอ', 1), ('ใส่', 2)]\n"
     ]
    }
   ],
   "source": [
    "# total papers in the corpus\n",
    "print('Total number of corpus:', len(bow_corpus))\n",
    "\n",
    "# viewing actual terms and their counts\n",
    "print([(dictionary[idx] , freq) for idx, freq in bow_corpus[0]])"
   ]
  },
  {
   "cell_type": "markdown",
   "id": "55aa1eb2",
   "metadata": {},
   "source": [
    "### 3.2 Topic Models with Latent Dirichlet Allocation (LDA)"
   ]
  },
  {
   "cell_type": "code",
   "execution_count": 8,
   "id": "0cc3cc91",
   "metadata": {},
   "outputs": [
    {
     "name": "stdout",
     "output_type": "stream",
     "text": [
      "CPU times: user 153 ms, sys: 6.66 ms, total: 160 ms\n",
      "Wall time: 161 ms\n"
     ]
    }
   ],
   "source": [
    "%%time\n",
    "TOTAL_TOPICS = 5\n",
    "lda_model = gensim.models.LdaModel(corpus=bow_corpus, \n",
    "                                   id2word=dictionary, \n",
    "                                   chunksize=1000, \n",
    "                                   alpha='auto', \n",
    "                                   eta='auto', \n",
    "                                   random_state=42,\n",
    "                                   iterations=500, \n",
    "                                   num_topics=TOTAL_TOPICS, \n",
    "                                   passes=20, \n",
    "                                   eval_every=None)"
   ]
  },
  {
   "cell_type": "code",
   "execution_count": 9,
   "id": "f798c193",
   "metadata": {
    "scrolled": false
   },
   "outputs": [
    {
     "name": "stdout",
     "output_type": "stream",
     "text": [
      "Topic #1:\n",
      "0.034*\"เนื้อ\" + 0.027*\"น้ำ\" + 0.024*\"อร่อย\" + 0.020*\"คุ้ม\" + 0.020*\"ซุป\" + 0.017*\"ชอบ\" + 0.015*\"หวาน\" + 0.015*\"ราคา\" + 0.012*\"ค่า\" + 0.012*\"icecream\" + 0.012*\"หมู\" + 0.012*\"ไก่\" + 0.010*\"กุ้ง\" + 0.010*\"สั่ง\" + 0.010*\"ชาบู\" + 0.008*\"ทอด\" + 0.008*\"เทมปุระ\" + 0.008*\"น้ำจิ้ม\" + 0.008*\"ชาบูน้ำดำ\" + 0.008*\"เห็ด\"\n",
      "\n",
      "Topic #2:\n",
      "0.026*\"น้ำ\" + 0.026*\"ราคา\" + 0.016*\"ซุป\" + 0.016*\"ชาบู\" + 0.016*\"รสชาติิ\" + 0.016*\"pizza\" + 0.016*\"สาขา\" + 0.011*\"เนื้อ\" + 0.011*\"คุ้ม\" + 0.011*\"บุฟเฟ่ต์่ต์ต์\" + 0.011*\"ชาบูน้ำดำ\" + 0.011*\"จ่าย\" + 0.011*\"โมโม\" + 0.011*\"ญี่ปุ่น\" + 0.011*\"เมนู\" + 0.011*\"น้ำจิ้ม\" + 0.011*\"อิ่ม\" + 0.011*\"หมู\" + 0.011*\"สุกี้\" + 0.006*\"ซูชิ\"\n",
      "\n",
      "Topic #3:\n",
      "0.028*\"บริการ\" + 0.016*\"นั่ง\" + 0.016*\"เนื้อ\" + 0.016*\"รสชาติิ\" + 0.012*\"ผัก\" + 0.012*\"สาขา\" + 0.012*\"รอ\" + 0.012*\"คุ้ม\" + 0.012*\"ราคา\" + 0.012*\"พนักงาน\" + 0.012*\"อร่อย\" + 0.012*\"คุณภาพ\" + 0.012*\"ประทับใจ\" + 0.009*\"เต็ม\" + 0.009*\"Shabushi\" + 0.009*\"ชั่วโมง\" + 0.009*\"คิว\" + 0.009*\"ซูชิ\" + 0.009*\"แพง\" + 0.009*\"หน้า\"\n",
      "\n",
      "Topic #4:\n",
      "0.026*\"สาขา\" + 0.021*\"ราคา\" + 0.021*\"บริการ\" + 0.021*\"เนื้อ\" + 0.021*\"สั่ง\" + 0.016*\"อร่อย\" + 0.016*\"น้ำ\" + 0.016*\"พนักงาน\" + 0.016*\"โอเค\" + 0.011*\"ซูชิ\" + 0.011*\"จ่าย\" + 0.011*\"momo\" + 0.011*\"ชอบ\" + 0.011*\"หวาน\" + 0.011*\"วัว\" + 0.011*\"แปลก\" + 0.006*\"คุ้ม\" + 0.006*\"นั่ง\" + 0.006*\"นึก\" + 0.006*\"สด\"\n",
      "\n",
      "Topic #5:\n",
      "0.020*\"บุฟเฟ่ต์่ต์ต์\" + 0.018*\"กุ้ง\" + 0.015*\"อร่อย\" + 0.015*\"น้ำ\" + 0.015*\"ราคา\" + 0.015*\"เวลา\" + 0.013*\"ซุป\" + 0.013*\"สด\" + 0.011*\"shabushi\" + 0.011*\"ห้าง\" + 0.011*\"เนื้อ\" + 0.011*\"หวาน\" + 0.009*\"ธรรมดา\" + 0.009*\"คุ้ม\" + 0.009*\"นุ่ม\" + 0.009*\"หม้อ\" + 0.009*\"สาขา\" + 0.009*\"ค่า\" + 0.009*\"หน้า\" + 0.007*\"ชม\"\n",
      "\n"
     ]
    }
   ],
   "source": [
    "for topic_id, topic in lda_model.print_topics(num_topics=10, num_words=20):\n",
    "    print('Topic #'+str(topic_id+1)+':')\n",
    "    print(topic)\n",
    "    print()"
   ]
  },
  {
   "cell_type": "code",
   "execution_count": 10,
   "id": "22fa703a",
   "metadata": {},
   "outputs": [
    {
     "name": "stdout",
     "output_type": "stream",
     "text": [
      "Avg. Coherence Score: -3.6033418175503393\n"
     ]
    }
   ],
   "source": [
    "topics_coherences = lda_model.top_topics(bow_corpus, topn=20)\n",
    "avg_coherence_score = np.mean([item[1] for item in topics_coherences])\n",
    "print('Avg. Coherence Score:', avg_coherence_score)"
   ]
  },
  {
   "cell_type": "code",
   "execution_count": 11,
   "id": "282af023",
   "metadata": {
    "scrolled": false
   },
   "outputs": [
    {
     "name": "stdout",
     "output_type": "stream",
     "text": [
      "LDA Topics with Weights\n",
      "==================================================\n",
      "Topic #1:\n",
      "[('บุฟเฟ่ต์่ต์ต์', 0.02), ('กุ้ง', 0.018), ('อร่อย', 0.015), ('น้ำ', 0.015), ('ราคา', 0.015), ('เวลา', 0.015), ('ซุป', 0.013), ('สด', 0.013), ('shabushi', 0.011), ('ห้าง', 0.011), ('เนื้อ', 0.011), ('หวาน', 0.011), ('ธรรมดา', 0.009), ('คุ้ม', 0.009), ('นุ่ม', 0.009), ('หม้อ', 0.009), ('สาขา', 0.009), ('ค่า', 0.009), ('หน้า', 0.009), ('ชม', 0.007)]\n",
      "\n",
      "Topic #2:\n",
      "[('สาขา', 0.026), ('ราคา', 0.021), ('บริการ', 0.021), ('เนื้อ', 0.021), ('สั่ง', 0.021), ('อร่อย', 0.016), ('น้ำ', 0.016), ('พนักงาน', 0.016), ('โอเค', 0.016), ('ซูชิ', 0.011), ('จ่าย', 0.011), ('momo', 0.011), ('ชอบ', 0.011), ('หวาน', 0.011), ('วัว', 0.011), ('แปลก', 0.011), ('คุ้ม', 0.006), ('นั่ง', 0.006), ('นึก', 0.006), ('สด', 0.006)]\n",
      "\n",
      "Topic #3:\n",
      "[('น้ำ', 0.026), ('ราคา', 0.026), ('ซุป', 0.016), ('ชาบู', 0.016), ('รสชาติิ', 0.016), ('pizza', 0.016), ('สาขา', 0.016), ('เนื้อ', 0.011), ('คุ้ม', 0.011), ('บุฟเฟ่ต์่ต์ต์', 0.011), ('ชาบูน้ำดำ', 0.011), ('จ่าย', 0.011), ('โมโม', 0.011), ('ญี่ปุ่น', 0.011), ('เมนู', 0.011), ('น้ำจิ้ม', 0.011), ('อิ่ม', 0.011), ('หมู', 0.011), ('สุกี้', 0.011), ('ซูชิ', 0.006)]\n",
      "\n",
      "Topic #4:\n",
      "[('เนื้อ', 0.034), ('น้ำ', 0.027), ('อร่อย', 0.024), ('คุ้ม', 0.02), ('ซุป', 0.02), ('ชอบ', 0.017), ('หวาน', 0.015), ('ราคา', 0.015), ('ค่า', 0.012), ('icecream', 0.012), ('หมู', 0.012), ('ไก่', 0.012), ('กุ้ง', 0.01), ('สั่ง', 0.01), ('ชาบู', 0.01), ('ทอด', 0.008), ('เทมปุระ', 0.008), ('น้ำจิ้ม', 0.008), ('ชาบูน้ำดำ', 0.008), ('เห็ด', 0.008)]\n",
      "\n",
      "Topic #5:\n",
      "[('บริการ', 0.028), ('นั่ง', 0.016), ('เนื้อ', 0.016), ('รสชาติิ', 0.016), ('ผัก', 0.012), ('สาขา', 0.012), ('รอ', 0.012), ('คุ้ม', 0.012), ('ราคา', 0.012), ('พนักงาน', 0.012), ('อร่อย', 0.012), ('คุณภาพ', 0.012), ('ประทับใจ', 0.012), ('เต็ม', 0.009), ('Shabushi', 0.009), ('ชั่วโมง', 0.009), ('คิว', 0.009), ('ซูชิ', 0.009), ('แพง', 0.009), ('หน้า', 0.009)]\n",
      "\n"
     ]
    }
   ],
   "source": [
    "topics_with_wts = [item[0] for item in topics_coherences]\n",
    "print('LDA Topics with Weights')\n",
    "print('='*50)\n",
    "for idx, topic in enumerate(topics_with_wts):\n",
    "    print('Topic #'+str(idx+1)+':')\n",
    "    print([(term, round(wt, 3)) for wt, term in topic])\n",
    "    print()"
   ]
  },
  {
   "cell_type": "code",
   "execution_count": 12,
   "id": "be00150e",
   "metadata": {
    "scrolled": false
   },
   "outputs": [
    {
     "name": "stdout",
     "output_type": "stream",
     "text": [
      "LDA Topics without Weights\n",
      "==================================================\n",
      "Topic #1:\n",
      "['บุฟเฟ่ต์่ต์ต์', 'กุ้ง', 'อร่อย', 'น้ำ', 'ราคา', 'เวลา', 'ซุป', 'สด', 'shabushi', 'ห้าง', 'เนื้อ', 'หวาน', 'ธรรมดา', 'คุ้ม', 'นุ่ม', 'หม้อ', 'สาขา', 'ค่า', 'หน้า', 'ชม']\n",
      "\n",
      "Topic #2:\n",
      "['สาขา', 'ราคา', 'บริการ', 'เนื้อ', 'สั่ง', 'อร่อย', 'น้ำ', 'พนักงาน', 'โอเค', 'ซูชิ', 'จ่าย', 'momo', 'ชอบ', 'หวาน', 'วัว', 'แปลก', 'คุ้ม', 'นั่ง', 'นึก', 'สด']\n",
      "\n",
      "Topic #3:\n",
      "['น้ำ', 'ราคา', 'ซุป', 'ชาบู', 'รสชาติิ', 'pizza', 'สาขา', 'เนื้อ', 'คุ้ม', 'บุฟเฟ่ต์่ต์ต์', 'ชาบูน้ำดำ', 'จ่าย', 'โมโม', 'ญี่ปุ่น', 'เมนู', 'น้ำจิ้ม', 'อิ่ม', 'หมู', 'สุกี้', 'ซูชิ']\n",
      "\n",
      "Topic #4:\n",
      "['เนื้อ', 'น้ำ', 'อร่อย', 'คุ้ม', 'ซุป', 'ชอบ', 'หวาน', 'ราคา', 'ค่า', 'icecream', 'หมู', 'ไก่', 'กุ้ง', 'สั่ง', 'ชาบู', 'ทอด', 'เทมปุระ', 'น้ำจิ้ม', 'ชาบูน้ำดำ', 'เห็ด']\n",
      "\n",
      "Topic #5:\n",
      "['บริการ', 'นั่ง', 'เนื้อ', 'รสชาติิ', 'ผัก', 'สาขา', 'รอ', 'คุ้ม', 'ราคา', 'พนักงาน', 'อร่อย', 'คุณภาพ', 'ประทับใจ', 'เต็ม', 'Shabushi', 'ชั่วโมง', 'คิว', 'ซูชิ', 'แพง', 'หน้า']\n",
      "\n"
     ]
    }
   ],
   "source": [
    "print('LDA Topics without Weights')\n",
    "print('='*50)\n",
    "for idx, topic in enumerate(topics_with_wts):\n",
    "    print('Topic #'+str(idx+1)+':')\n",
    "    print([term for wt, term in topic])\n",
    "    print()"
   ]
  },
  {
   "cell_type": "code",
   "execution_count": 13,
   "id": "15fdbfdb",
   "metadata": {},
   "outputs": [
    {
     "name": "stdout",
     "output_type": "stream",
     "text": [
      "Avg. Coherence Score (Cv): 0.2819658647404931\n",
      "Avg. Coherence Score (UMass): -3.6033418175503393\n",
      "Model Perplexity: -6.040215559861334\n"
     ]
    }
   ],
   "source": [
    "cv_coherence_model_lda = gensim.models.CoherenceModel(model=lda_model, \n",
    "                                                      corpus=bow_corpus, \n",
    "                                                      texts=review_token_list,\n",
    "                                                      dictionary=dictionary, \n",
    "                                                      coherence='c_v')\n",
    "avg_coherence_cv = cv_coherence_model_lda.get_coherence()\n",
    "\n",
    "umass_coherence_model_lda = gensim.models.CoherenceModel(model=lda_model, \n",
    "                                                         corpus=bow_corpus, \n",
    "                                                         texts=review_token_list,\n",
    "                                                         dictionary=dictionary, \n",
    "                                                         coherence='u_mass')\n",
    "avg_coherence_umass = umass_coherence_model_lda.get_coherence()\n",
    "\n",
    "perplexity = lda_model.log_perplexity(bow_corpus)\n",
    "\n",
    "print('Avg. Coherence Score (Cv):', avg_coherence_cv)\n",
    "print('Avg. Coherence Score (UMass):', avg_coherence_umass)\n",
    "print('Model Perplexity:', perplexity)"
   ]
  },
  {
   "cell_type": "markdown",
   "id": "b0bffa66",
   "metadata": {},
   "source": [
    "### 3.3 Finding Optimal Number of Topics"
   ]
  },
  {
   "cell_type": "code",
   "execution_count": 14,
   "id": "aea90b85",
   "metadata": {},
   "outputs": [],
   "source": [
    "from tqdm import tqdm\n",
    "\n",
    "def topic_model_coherence_generator(corpus, texts, dictionary, \n",
    "                                    start_topic_count=2, end_topic_count=10, step=1,\n",
    "                                    cpus=1):\n",
    "    \n",
    "    models = []\n",
    "    coherence_scores = []\n",
    "    for topic_nums in tqdm(range(start_topic_count, end_topic_count+1, step)):\n",
    "        lda_model = gensim.models.LdaModel(corpus=bow_corpus, \n",
    "                                           id2word=dictionary, \n",
    "                                           chunksize=1740,\n",
    "                                           alpha='auto', \n",
    "                                           eta='auto', \n",
    "                                           random_state=42,\n",
    "                                           iterations=500, \n",
    "                                           num_topics=topic_nums,\n",
    "                                           passes=20,\n",
    "                                           eval_every=None)\n",
    "        \n",
    "        cv_coherence_model_lda = gensim.models.CoherenceModel(model=lda_model, \n",
    "                                                      corpus=bow_corpus, \n",
    "                                                      texts=review_token_list,\n",
    "                                                      dictionary=dictionary, \n",
    "                                                      coherence='c_v')\n",
    "        coherence_score = cv_coherence_model_lda.get_coherence()\n",
    "        coherence_scores.append(coherence_score)\n",
    "        models.append(lda_model)\n",
    "    \n",
    "    return models, coherence_scores"
   ]
  },
  {
   "cell_type": "code",
   "execution_count": 15,
   "id": "a732f6a5",
   "metadata": {},
   "outputs": [
    {
     "name": "stderr",
     "output_type": "stream",
     "text": [
      "100%|██████████| 14/14 [00:30<00:00,  2.19s/it]\n"
     ]
    }
   ],
   "source": [
    "lda_models, coherence_scores = topic_model_coherence_generator(corpus=bow_corpus, \n",
    "                                                               texts=review_token_list,\n",
    "                                                               dictionary=dictionary, \n",
    "                                                               start_topic_count=2,\n",
    "                                                               end_topic_count=15, \n",
    "                                                               step=1, cpus=16)"
   ]
  },
  {
   "cell_type": "code",
   "execution_count": 16,
   "id": "92368017",
   "metadata": {},
   "outputs": [
    {
     "data": {
      "text/html": [
       "<div>\n",
       "<style scoped>\n",
       "    .dataframe tbody tr th:only-of-type {\n",
       "        vertical-align: middle;\n",
       "    }\n",
       "\n",
       "    .dataframe tbody tr th {\n",
       "        vertical-align: top;\n",
       "    }\n",
       "\n",
       "    .dataframe thead th {\n",
       "        text-align: right;\n",
       "    }\n",
       "</style>\n",
       "<table border=\"1\" class=\"dataframe\">\n",
       "  <thead>\n",
       "    <tr style=\"text-align: right;\">\n",
       "      <th></th>\n",
       "      <th>Number of Topics</th>\n",
       "      <th>Coherence Score</th>\n",
       "    </tr>\n",
       "  </thead>\n",
       "  <tbody>\n",
       "    <tr>\n",
       "      <th>13</th>\n",
       "      <td>15</td>\n",
       "      <td>0.5970</td>\n",
       "    </tr>\n",
       "    <tr>\n",
       "      <th>12</th>\n",
       "      <td>14</td>\n",
       "      <td>0.5398</td>\n",
       "    </tr>\n",
       "    <tr>\n",
       "      <th>11</th>\n",
       "      <td>13</td>\n",
       "      <td>0.5178</td>\n",
       "    </tr>\n",
       "    <tr>\n",
       "      <th>9</th>\n",
       "      <td>11</td>\n",
       "      <td>0.5101</td>\n",
       "    </tr>\n",
       "    <tr>\n",
       "      <th>10</th>\n",
       "      <td>12</td>\n",
       "      <td>0.4390</td>\n",
       "    </tr>\n",
       "    <tr>\n",
       "      <th>8</th>\n",
       "      <td>10</td>\n",
       "      <td>0.4171</td>\n",
       "    </tr>\n",
       "    <tr>\n",
       "      <th>7</th>\n",
       "      <td>9</td>\n",
       "      <td>0.4061</td>\n",
       "    </tr>\n",
       "    <tr>\n",
       "      <th>5</th>\n",
       "      <td>7</td>\n",
       "      <td>0.3423</td>\n",
       "    </tr>\n",
       "    <tr>\n",
       "      <th>6</th>\n",
       "      <td>8</td>\n",
       "      <td>0.3279</td>\n",
       "    </tr>\n",
       "    <tr>\n",
       "      <th>3</th>\n",
       "      <td>5</td>\n",
       "      <td>0.2820</td>\n",
       "    </tr>\n",
       "    <tr>\n",
       "      <th>1</th>\n",
       "      <td>3</td>\n",
       "      <td>0.2707</td>\n",
       "    </tr>\n",
       "    <tr>\n",
       "      <th>4</th>\n",
       "      <td>6</td>\n",
       "      <td>0.2546</td>\n",
       "    </tr>\n",
       "    <tr>\n",
       "      <th>2</th>\n",
       "      <td>4</td>\n",
       "      <td>0.2354</td>\n",
       "    </tr>\n",
       "    <tr>\n",
       "      <th>0</th>\n",
       "      <td>2</td>\n",
       "      <td>0.2114</td>\n",
       "    </tr>\n",
       "  </tbody>\n",
       "</table>\n",
       "</div>"
      ],
      "text/plain": [
       "    Number of Topics  Coherence Score\n",
       "13                15           0.5970\n",
       "12                14           0.5398\n",
       "11                13           0.5178\n",
       "9                 11           0.5101\n",
       "10                12           0.4390\n",
       "8                 10           0.4171\n",
       "7                  9           0.4061\n",
       "5                  7           0.3423\n",
       "6                  8           0.3279\n",
       "3                  5           0.2820\n",
       "1                  3           0.2707\n",
       "4                  6           0.2546\n",
       "2                  4           0.2354\n",
       "0                  2           0.2114"
      ]
     },
     "execution_count": 16,
     "metadata": {},
     "output_type": "execute_result"
    }
   ],
   "source": [
    "coherence_df = pd.DataFrame({'Number of Topics': range(2, 16, 1),\n",
    "                             'Coherence Score': np.round(coherence_scores, 4)})\n",
    "coherence_df.sort_values(by=['Coherence Score'], ascending=False).head(15)"
   ]
  },
  {
   "cell_type": "code",
   "execution_count": 17,
   "id": "7b75c282",
   "metadata": {},
   "outputs": [
    {
     "data": {
      "image/png": "[encoded data removed]",
      "text/plain": [
       "<Figure size 864x432 with 1 Axes>"
      ]
     },
     "metadata": {
      "needs_background": "light"
     },
     "output_type": "display_data"
    }
   ],
   "source": [
    "import matplotlib.pyplot as plt\n",
    "plt.style.use('fivethirtyeight')\n",
    "%matplotlib inline\n",
    "\n",
    "x_ax = range(2, 16, 1)\n",
    "y_ax = coherence_scores\n",
    "plt.figure(figsize=(12, 6))\n",
    "plt.plot(x_ax, y_ax, c='r')\n",
    "plt.axhline(y=0.3423, c='k', linestyle='--', linewidth=2)\n",
    "plt.rcParams['figure.facecolor'] = 'white'\n",
    "xl = plt.xlabel('Number of Topics')\n",
    "yl = plt.ylabel('Coherence Score')"
   ]
  },
  {
   "cell_type": "code",
   "execution_count": 18,
   "id": "f902d64e",
   "metadata": {},
   "outputs": [
    {
     "data": {
      "text/plain": [
       "7"
      ]
     },
     "execution_count": 18,
     "metadata": {},
     "output_type": "execute_result"
    }
   ],
   "source": [
    "best_model_idx = coherence_df[coherence_df['Number of Topics'] == 7].index[0]\n",
    "best_lda_model = lda_models[best_model_idx]\n",
    "best_lda_model.num_topics"
   ]
  },
  {
   "cell_type": "code",
   "execution_count": 19,
   "id": "8ae2b3e6",
   "metadata": {},
   "outputs": [
    {
     "data": {
      "text/html": [
       "<div>\n",
       "<style scoped>\n",
       "    .dataframe tbody tr th:only-of-type {\n",
       "        vertical-align: middle;\n",
       "    }\n",
       "\n",
       "    .dataframe tbody tr th {\n",
       "        vertical-align: top;\n",
       "    }\n",
       "\n",
       "    .dataframe thead th {\n",
       "        text-align: right;\n",
       "    }\n",
       "</style>\n",
       "<table border=\"1\" class=\"dataframe\">\n",
       "  <thead>\n",
       "    <tr style=\"text-align: right;\">\n",
       "      <th></th>\n",
       "      <th>Terms per Topic</th>\n",
       "    </tr>\n",
       "  </thead>\n",
       "  <tbody>\n",
       "    <tr>\n",
       "      <th>Topic1</th>\n",
       "      <td>ชอบ, ราคา, คุ้ม, เนื้อ, กุ้ง, ชาบู, ซุป, น้ำ, เหมาะสม, เทมปุระ, ทอด, นึก, อร่อย, แนะนำ, คุณภาพ, รสชาติิดี, ชาบูแฟรนไชส์, ปุระ, ค่า, หลาก</td>\n",
       "    </tr>\n",
       "    <tr>\n",
       "      <th>Topic2</th>\n",
       "      <td>ราคา, น้ำ, pizza, ซุป, สาขา, ชาบู, รสชาติิ, บุฟเฟ่ต์่ต์ต์, ญี่ปุ่น, คุ้ม, หมู, ชาบูน้ำดำ, อิ่ม, สุกี้, เนื้อ, โมโม, น้ำจิ้ม, เมนู, จ่าย, สั่ง</td>\n",
       "    </tr>\n",
       "    <tr>\n",
       "      <th>Topic3</th>\n",
       "      <td>บริการ, รสชาติิ, อร่อย, คุ้ม, ประทับใจ, ราคา, คุณภาพ, ใส่, แปลก, เนื้อ, น่ารัก, พนักงาน, เล่น, สะอาด, สะอ้าน, สรุป, เต้า, ละกัน, หลากหลาย, icecream</td>\n",
       "    </tr>\n",
       "    <tr>\n",
       "      <th>Topic4</th>\n",
       "      <td>สาขา, บริการ, โอเค, ราคา, สั่ง, น้ำ, อร่อย, พนักงาน, ซูชิ, จ่าย, แปลก, นั่ง, paradise, การงด, ทำ, งาน, ดื่ม, ทะยอย, มาตราฐาน, ชาบูญี่ปุ่น</td>\n",
       "    </tr>\n",
       "    <tr>\n",
       "      <th>Topic5</th>\n",
       "      <td>บุฟเฟ่ต์่ต์ต์, ซุป, น้ำ, อร่อย, นั่ง, บริการ, shabushi, ราคา, เนื้อ, สาขา, คุ้ม, นํ้า, ชม, หวย, ชุด, แนะนำ, ธรรมดา, หลาก, แคบ, เด็ก</td>\n",
       "    </tr>\n",
       "    <tr>\n",
       "      <th>Topic6</th>\n",
       "      <td>เนื้อ, หวาน, น้ำ, อร่อย, กุ้ง, สด, ซุป, ราคา, ค่า, เวลา, คุ้ม, นุ่ม, icecream, หม้อ, ห้าง, หมู, หน้า, สาขา, บุฟเฟ่ต์่ต์ต์, โต๊ะ</td>\n",
       "    </tr>\n",
       "    <tr>\n",
       "      <th>Topic7</th>\n",
       "      <td>เนื้อ, รอ, ผัก, ราคา, หยิบ, สาย, ชอบ, บุฟเฟ่ต์ต์, ชั่วโมง, ครึ่ง, Shabushi, เต็ม, พนักงาน, คิว, คุ้ม, พลาด, ประตูปทาง, จอง, จิ้ม, พาน</td>\n",
       "    </tr>\n",
       "  </tbody>\n",
       "</table>\n",
       "</div>"
      ],
      "text/plain": [
       "                                                                                                                                            Terms per Topic\n",
       "Topic1  ชอบ, ราคา, คุ้ม, เนื้อ, กุ้ง, ชาบู, ซุป, น้ำ, เหมาะสม, เทมปุระ, ทอด, นึก, อร่อย, แนะนำ, คุณภาพ, รสชาติิดี, ชาบูแฟรนไชส์, ปุระ, ค่า, หลาก           \n",
       "Topic2  ราคา, น้ำ, pizza, ซุป, สาขา, ชาบู, รสชาติิ, บุฟเฟ่ต์่ต์ต์, ญี่ปุ่น, คุ้ม, หมู, ชาบูน้ำดำ, อิ่ม, สุกี้, เนื้อ, โมโม, น้ำจิ้ม, เมนู, จ่าย, สั่ง      \n",
       "Topic3  บริการ, รสชาติิ, อร่อย, คุ้ม, ประทับใจ, ราคา, คุณภาพ, ใส่, แปลก, เนื้อ, น่ารัก, พนักงาน, เล่น, สะอาด, สะอ้าน, สรุป, เต้า, ละกัน, หลากหลาย, icecream\n",
       "Topic4  สาขา, บริการ, โอเค, ราคา, สั่ง, น้ำ, อร่อย, พนักงาน, ซูชิ, จ่าย, แปลก, นั่ง, paradise, การงด, ทำ, งาน, ดื่ม, ทะยอย, มาตราฐาน, ชาบูญี่ปุ่น          \n",
       "Topic5  บุฟเฟ่ต์่ต์ต์, ซุป, น้ำ, อร่อย, นั่ง, บริการ, shabushi, ราคา, เนื้อ, สาขา, คุ้ม, นํ้า, ชม, หวย, ชุด, แนะนำ, ธรรมดา, หลาก, แคบ, เด็ก                \n",
       "Topic6  เนื้อ, หวาน, น้ำ, อร่อย, กุ้ง, สด, ซุป, ราคา, ค่า, เวลา, คุ้ม, นุ่ม, icecream, หม้อ, ห้าง, หมู, หน้า, สาขา, บุฟเฟ่ต์่ต์ต์, โต๊ะ                    \n",
       "Topic7  เนื้อ, รอ, ผัก, ราคา, หยิบ, สาย, ชอบ, บุฟเฟ่ต์ต์, ชั่วโมง, ครึ่ง, Shabushi, เต็ม, พนักงาน, คิว, คุ้ม, พลาด, ประตูปทาง, จอง, จิ้ม, พาน              "
      ]
     },
     "execution_count": 19,
     "metadata": {},
     "output_type": "execute_result"
    }
   ],
   "source": [
    "topics = [[(term, round(wt, 3)) \n",
    "               for term, wt in best_lda_model.show_topic(n, topn=20)] \n",
    "                   for n in range(0, best_lda_model.num_topics)]\n",
    "pd.set_option('display.max_colwidth', -1)\n",
    "topics_df = pd.DataFrame([', '.join([term for term, wt in topic])  \n",
    "                              for topic in topics],\n",
    "                         columns = ['Terms per Topic'],\n",
    "                         index=['Topic'+str(t) for t in range(1, best_lda_model.num_topics+1)]\n",
    "                         )\n",
    "topics_df"
   ]
  },
  {
   "cell_type": "markdown",
   "id": "3e58c4f8",
   "metadata": {},
   "source": [
    "# 4. Print Result from Topic Modeling"
   ]
  },
  {
   "cell_type": "code",
   "execution_count": 20,
   "id": "fee5a362",
   "metadata": {},
   "outputs": [],
   "source": [
    "result_df = pd.DataFrame()\n",
    "\n",
    "tm_results = best_lda_model[bow_corpus]\n",
    "corpus_topics = [sorted(topics, key=lambda record: -record[1])[0] \n",
    "                     for topics in tm_results]\n",
    "\n",
    "# result_df['Restaurant'] = review_df['Restaurant']\n",
    "result_df['User'] = review_df['User']\n",
    "result_df['Review'] = review_df['review_text']\n",
    "result_df['Selected Topic'] = [item[0]+1 for item in corpus_topics]\n",
    "result_df['Topic Text'] = [topics_df.iloc[t[0]]['Terms per Topic'] for t in corpus_topics]"
   ]
  },
  {
   "cell_type": "code",
   "execution_count": 21,
   "id": "f22f765c",
   "metadata": {},
   "outputs": [
    {
     "data": {
      "text/html": [
       "<div>\n",
       "<style scoped>\n",
       "    .dataframe tbody tr th:only-of-type {\n",
       "        vertical-align: middle;\n",
       "    }\n",
       "\n",
       "    .dataframe tbody tr th {\n",
       "        vertical-align: top;\n",
       "    }\n",
       "\n",
       "    .dataframe thead th {\n",
       "        text-align: right;\n",
       "    }\n",
       "</style>\n",
       "<table border=\"1\" class=\"dataframe\">\n",
       "  <thead>\n",
       "    <tr style=\"text-align: right;\">\n",
       "      <th></th>\n",
       "      <th>User</th>\n",
       "      <th>Review</th>\n",
       "      <th>Selected Topic</th>\n",
       "      <th>Topic Text</th>\n",
       "    </tr>\n",
       "  </thead>\n",
       "  <tbody>\n",
       "    <tr>\n",
       "      <th>0</th>\n",
       "      <td>7b16469831074f7abc7824745ee75212</td>\n",
       "      <td>ที่สำคัญของร้านนี้คือบริการดีมากพนักงานน่ารักสุด สะอาดสะอ้านใส่ใจค่อนข้างประทับใจกับการบริการรสช...</td>\n",
       "      <td>3</td>\n",
       "      <td>บริการ, รสชาติิ, อร่อย, คุ้ม, ประทับใจ, ราคา, คุณภาพ, ใส่, แปลก, เนื้อ, น่ารัก, พนักงาน, เล่น, ส...</td>\n",
       "    </tr>\n",
       "    <tr>\n",
       "      <th>1</th>\n",
       "      <td>pakkaramonpondej</td>\n",
       "      <td>รสชาติิเหมือนทุกสาขา แต่สาขานี้ บริการดี ที่นั่งดี นึกถึงชาบูญี่ปุ่นยังไงก็ต้อง คิดถึงmomo parad...</td>\n",
       "      <td>4</td>\n",
       "      <td>สาขา, บริการ, โอเค, ราคา, สั่ง, น้ำ, อร่อย, พนักงาน, ซูชิ, จ่าย, แปลก, นั่ง, paradise, การงด, ทำ...</td>\n",
       "    </tr>\n",
       "    <tr>\n",
       "      <th>2</th>\n",
       "      <td>saanowy</td>\n",
       "      <td>ชาบูพรีเมียมสไตล์ญี่ปุ่น เนื้อดีมากก มาทานช่วงนี้ สามารถนั่งโต๊ะเดียวกัน หม้อเดียวกันได้แล้ว แต่...</td>\n",
       "      <td>6</td>\n",
       "      <td>เนื้อ, หวาน, น้ำ, อร่อย, กุ้ง, สด, ซุป, ราคา, ค่า, เวลา, คุ้ม, นุ่ม, icecream, หม้อ, ห้าง, หมู, ...</td>\n",
       "    </tr>\n",
       "    <tr>\n",
       "      <th>3</th>\n",
       "      <td>ployynp</td>\n",
       "      <td>เนื้อดี icecreamดี คุ้มค่าดี ถ้านึกถึงชาบูที่มีเนื้อเน้น  ในราคาไม่โหดจนเกินไป ก็นึกถึงmomoตลอด ...</td>\n",
       "      <td>1</td>\n",
       "      <td>ชอบ, ราคา, คุ้ม, เนื้อ, กุ้ง, ชาบู, ซุป, น้ำ, เหมาะสม, เทมปุระ, ทอด, นึก, อร่อย, แนะนำ, คุณภาพ, ...</td>\n",
       "    </tr>\n",
       "    <tr>\n",
       "      <th>4</th>\n",
       "      <td>665a902b335b434ab489f00f2fbb477e</td>\n",
       "      <td>อาหารมีคุณภาพ บริการดีค่ะ เดินมาหน้าร้านแล้วได้กลิ่นชาบูหอมมาก    ประกอบกับมีโปรบัตรเครดิตด้วย เ...</td>\n",
       "      <td>5</td>\n",
       "      <td>บุฟเฟ่ต์่ต์ต์, ซุป, น้ำ, อร่อย, นั่ง, บริการ, shabushi, ราคา, เนื้อ, สาขา, คุ้ม, นํ้า, ชม, หวย, ...</td>\n",
       "    </tr>\n",
       "  </tbody>\n",
       "</table>\n",
       "</div>"
      ],
      "text/plain": [
       "                               User  \\\n",
       "0  7b16469831074f7abc7824745ee75212   \n",
       "1                  pakkaramonpondej   \n",
       "2                           saanowy   \n",
       "3                           ployynp   \n",
       "4  665a902b335b434ab489f00f2fbb477e   \n",
       "\n",
       "                                                                                                Review  \\\n",
       "0  ที่สำคัญของร้านนี้คือบริการดีมากพนักงานน่ารักสุด สะอาดสะอ้านใส่ใจค่อนข้างประทับใจกับการบริการรสช...   \n",
       "1  รสชาติิเหมือนทุกสาขา แต่สาขานี้ บริการดี ที่นั่งดี นึกถึงชาบูญี่ปุ่นยังไงก็ต้อง คิดถึงmomo parad...   \n",
       "2  ชาบูพรีเมียมสไตล์ญี่ปุ่น เนื้อดีมากก มาทานช่วงนี้ สามารถนั่งโต๊ะเดียวกัน หม้อเดียวกันได้แล้ว แต่...   \n",
       "3  เนื้อดี icecreamดี คุ้มค่าดี ถ้านึกถึงชาบูที่มีเนื้อเน้น  ในราคาไม่โหดจนเกินไป ก็นึกถึงmomoตลอด ...   \n",
       "4  อาหารมีคุณภาพ บริการดีค่ะ เดินมาหน้าร้านแล้วได้กลิ่นชาบูหอมมาก    ประกอบกับมีโปรบัตรเครดิตด้วย เ...   \n",
       "\n",
       "   Selected Topic  \\\n",
       "0               3   \n",
       "1               4   \n",
       "2               6   \n",
       "3               1   \n",
       "4               5   \n",
       "\n",
       "                                                                                            Topic Text  \n",
       "0  บริการ, รสชาติิ, อร่อย, คุ้ม, ประทับใจ, ราคา, คุณภาพ, ใส่, แปลก, เนื้อ, น่ารัก, พนักงาน, เล่น, ส...  \n",
       "1  สาขา, บริการ, โอเค, ราคา, สั่ง, น้ำ, อร่อย, พนักงาน, ซูชิ, จ่าย, แปลก, นั่ง, paradise, การงด, ทำ...  \n",
       "2  เนื้อ, หวาน, น้ำ, อร่อย, กุ้ง, สด, ซุป, ราคา, ค่า, เวลา, คุ้ม, นุ่ม, icecream, หม้อ, ห้าง, หมู, ...  \n",
       "3  ชอบ, ราคา, คุ้ม, เนื้อ, กุ้ง, ชาบู, ซุป, น้ำ, เหมาะสม, เทมปุระ, ทอด, นึก, อร่อย, แนะนำ, คุณภาพ, ...  \n",
       "4  บุฟเฟ่ต์่ต์ต์, ซุป, น้ำ, อร่อย, นั่ง, บริการ, shabushi, ราคา, เนื้อ, สาขา, คุ้ม, นํ้า, ชม, หวย, ...  "
      ]
     },
     "metadata": {},
     "output_type": "display_data"
    }
   ],
   "source": [
    "from pandas import option_context\n",
    "\n",
    "with option_context('display.max_colwidth', 100):\n",
    "    display(result_df.head())"
   ]
  }
 ],
 "metadata": {
  "kernelspec": {
   "display_name": "Python 3",
   "language": "python",
   "name": "python3"
  },
  "language_info": {
   "codemirror_mode": {
    "name": "ipython",
    "version": 3
   },
   "file_extension": ".py",
   "mimetype": "text/x-python",
   "name": "python",
   "nbconvert_exporter": "python",
   "pygments_lexer": "ipython3",
   "version": "3.8.5"
  }
 },
 "nbformat": 4,
 "nbformat_minor": 5
}
