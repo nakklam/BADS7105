{
 "cells": [
  {
   "cell_type": "markdown",
   "metadata": {},
   "source": [
    "Name : ธีรพงค์ ศันสนียวรรธน์ <br>\n",
    "Date : 23 May 2564 <br>\n",
    "Description : <br>\n",
    "เป็นการใช้ข้อมูลเพื่อช่วยในการทำนายว่าลูกค้าจะทำการตอบรับ Campaign ที่มีการจัดส่งให้กับลูกค้าหรือไม่ <br> <br>\n",
    "\n",
    "เป็นส่วนหนึ่งของวิชา BADS 7105 Customer Analytics <br>\n",
    "อาจารย์ผู้สอน ดร. ธนชาตย์ ฤทธิ์บำรุง <br> <br>\n",
    "สาขาวิชาการวิเคราะธ์ธุรกิจและวิทยาการข้อมูล DS รุ่นที่ 5 <br>\n",
    "คณะสถิติประยุกต์ <br>\n",
    "สถาบันบัณฑิตพัฒนบริหารศาสตร์ (นิด้า) NIDA <br>"
   ]
  },
  {
   "cell_type": "markdown",
   "metadata": {
    "id": "5ZKtUVUUXnTv"
   },
   "source": [
    "# Importing libraries and datasets"
   ]
  },
  {
   "cell_type": "code",
   "execution_count": 1,
   "metadata": {
    "executionInfo": {
     "elapsed": 2595,
     "status": "ok",
     "timestamp": 1603475318871,
     "user": {
      "displayName": "Thanachart Ritbumroong",
      "photoUrl": "",
      "userId": "18414212507793256437"
     },
     "user_tz": -420
    },
    "id": "UAbXlD4jLPsq"
   },
   "outputs": [],
   "source": [
    "import numpy as np\n",
    "import pandas as pd\n",
    "import datetime as dt\n",
    "import numpy as np\n",
    "import matplotlib.pyplot as plt\n",
    "import seaborn as sns\n",
    "import xgboost as xgb\n",
    "from sklearn.model_selection import train_test_split\n",
    "from sklearn.metrics import precision_score, recall_score, f1_score, roc_auc_score, accuracy_score, classification_report, roc_curve, auc\n",
    "from imblearn.under_sampling import RandomUnderSampler\n",
    "from imblearn.over_sampling import RandomOverSampler\n",
    "from imblearn.over_sampling import SMOTE\n",
    "from xgboost import plot_importance\n",
    "from sklearn.linear_model import LogisticRegression\n",
    "from sklearn.metrics import confusion_matrix\n",
    "\n",
    "import warnings\n",
    "warnings.simplefilter(action='ignore', category=FutureWarning)"
   ]
  },
  {
   "cell_type": "markdown",
   "metadata": {},
   "source": [
    "# 1. Load data"
   ]
  },
  {
   "cell_type": "code",
   "execution_count": 2,
   "metadata": {
    "executionInfo": {
     "elapsed": 11398,
     "status": "ok",
     "timestamp": 1603475327678,
     "user": {
      "displayName": "Thanachart Ritbumroong",
      "photoUrl": "",
      "userId": "18414212507793256437"
     },
     "user_tz": -420
    },
    "id": "ki6FxV4YXxbX"
   },
   "outputs": [],
   "source": [
    "# ข้อมูล Transaction การซื้อสินค้าของลูกค้า\n",
    "trans_df = pd.read_csv('Retail_Data_Transactions.csv', parse_dates=['trans_date'])\n",
    "# ข้อมูลการตอบรับ Campaign ของลูกค้า\n",
    "resp_df = pd.read_csv('Retail_Data_Response.csv')"
   ]
  },
  {
   "cell_type": "markdown",
   "metadata": {},
   "source": [
    "# 2. EDA (Exploratory Data Analysis)"
   ]
  },
  {
   "cell_type": "markdown",
   "metadata": {},
   "source": [
    "### 2.1 สำรวจข้อมูลชุด Retail_Data_Transactions\n",
    "### 2.1.1 ทำการดูข้อมูลที่โหลดมาว่ามี Columm ชื่ออะไรบ้าง และในแต่ละ Column นั้นเก็บข้อมูลเป็นอย่างไร"
   ]
  },
  {
   "cell_type": "code",
   "execution_count": 3,
   "metadata": {
    "colab": {
     "base_uri": "https://localhost:8080/",
     "height": 204
    },
    "executionInfo": {
     "elapsed": 11383,
     "status": "ok",
     "timestamp": 1603475327680,
     "user": {
      "displayName": "Thanachart Ritbumroong",
      "photoUrl": "",
      "userId": "18414212507793256437"
     },
     "user_tz": -420
    },
    "id": "jknwtDiZYQvq",
    "outputId": "0b0fa2f6-23ce-4d81-d9ff-1a92cc6f0113"
   },
   "outputs": [
    {
     "data": {
      "text/html": [
       "<div>\n",
       "<style scoped>\n",
       "    .dataframe tbody tr th:only-of-type {\n",
       "        vertical-align: middle;\n",
       "    }\n",
       "\n",
       "    .dataframe tbody tr th {\n",
       "        vertical-align: top;\n",
       "    }\n",
       "\n",
       "    .dataframe thead th {\n",
       "        text-align: right;\n",
       "    }\n",
       "</style>\n",
       "<table border=\"1\" class=\"dataframe\">\n",
       "  <thead>\n",
       "    <tr style=\"text-align: right;\">\n",
       "      <th></th>\n",
       "      <th>customer_id</th>\n",
       "      <th>trans_date</th>\n",
       "      <th>tran_amount</th>\n",
       "    </tr>\n",
       "  </thead>\n",
       "  <tbody>\n",
       "    <tr>\n",
       "      <th>0</th>\n",
       "      <td>CS5295</td>\n",
       "      <td>2013-02-11</td>\n",
       "      <td>35</td>\n",
       "    </tr>\n",
       "    <tr>\n",
       "      <th>1</th>\n",
       "      <td>CS4768</td>\n",
       "      <td>2015-03-15</td>\n",
       "      <td>39</td>\n",
       "    </tr>\n",
       "    <tr>\n",
       "      <th>2</th>\n",
       "      <td>CS2122</td>\n",
       "      <td>2013-02-26</td>\n",
       "      <td>52</td>\n",
       "    </tr>\n",
       "    <tr>\n",
       "      <th>3</th>\n",
       "      <td>CS1217</td>\n",
       "      <td>2011-11-16</td>\n",
       "      <td>99</td>\n",
       "    </tr>\n",
       "    <tr>\n",
       "      <th>4</th>\n",
       "      <td>CS1850</td>\n",
       "      <td>2013-11-20</td>\n",
       "      <td>78</td>\n",
       "    </tr>\n",
       "  </tbody>\n",
       "</table>\n",
       "</div>"
      ],
      "text/plain": [
       "  customer_id trans_date  tran_amount\n",
       "0      CS5295 2013-02-11           35\n",
       "1      CS4768 2015-03-15           39\n",
       "2      CS2122 2013-02-26           52\n",
       "3      CS1217 2011-11-16           99\n",
       "4      CS1850 2013-11-20           78"
      ]
     },
     "execution_count": 3,
     "metadata": {},
     "output_type": "execute_result"
    }
   ],
   "source": [
    "trans_df.head()"
   ]
  },
  {
   "cell_type": "code",
   "execution_count": 4,
   "metadata": {},
   "outputs": [
    {
     "data": {
      "image/png": "[encoded data removed]",
      "text/plain": [
       "<Figure size 432x288 with 1 Axes>"
      ]
     },
     "metadata": {
      "needs_background": "light"
     },
     "output_type": "display_data"
    }
   ],
   "source": [
    "# data distribution\n",
    "sns.countplot(x='tran_amount', data=trans_df)\n",
    "plt.title('Distribution of Amount', fontsize=14)\n",
    "plt.show()"
   ]
  },
  {
   "cell_type": "markdown",
   "metadata": {},
   "source": [
    "### 2.1.2 ทำการตรวจสอบข้อมูลว่ามีข้อมูลเป็น null และมีข้อมูลแถวไหนที่ซ้าซ้อนหรือไม่"
   ]
  },
  {
   "cell_type": "code",
   "execution_count": 5,
   "metadata": {},
   "outputs": [
    {
     "data": {
      "text/plain": [
       "customer_id    0\n",
       "trans_date     0\n",
       "tran_amount    0\n",
       "dtype: int64"
      ]
     },
     "execution_count": 5,
     "metadata": {},
     "output_type": "execute_result"
    }
   ],
   "source": [
    "# check null\n",
    "trans_df.isnull().sum()"
   ]
  },
  {
   "cell_type": "code",
   "execution_count": 6,
   "metadata": {
    "colab": {
     "base_uri": "https://localhost:8080/",
     "height": 51
    },
    "executionInfo": {
     "elapsed": 11377,
     "status": "ok",
     "timestamp": 1603475327680,
     "user": {
      "displayName": "Thanachart Ritbumroong",
      "photoUrl": "",
      "userId": "18414212507793256437"
     },
     "user_tz": -420
    },
    "id": "sPQ1BvchYTy_",
    "outputId": "a33b2f67-86da-4092-fe4f-bf1f9d15dfd5"
   },
   "outputs": [
    {
     "name": "stdout",
     "output_type": "stream",
     "text": [
      "Duplicate Rows : 6\n",
      "       customer_id trans_date  tran_amount\n",
      "14324       CS2700 2011-10-23           48\n",
      "59852       CS3458 2015-02-11           40\n",
      "77236       CS2761 2014-03-03           75\n",
      "91603       CS2565 2012-09-14           67\n",
      "105496      CS7782 2014-12-30           70\n",
      "121962      CS8394 2013-07-14           16\n"
     ]
    }
   ],
   "source": [
    "# check dupplicate data\n",
    "print(\"Duplicate Rows :\",trans_df.duplicated().sum())\n",
    "print(trans_df[trans_df.duplicated()==True])\n",
    "\n",
    "# found duplicated row and delete them by keeping only the first found row.\n",
    "trans_df = trans_df.drop_duplicates(keep='first')"
   ]
  },
  {
   "cell_type": "markdown",
   "metadata": {},
   "source": [
    "### 2.1.3 ทำการตรวจสอบข้อมูล Transaction ว่าข้อมูลที่จัดเก็บจัดเก็บการซื้อสินค้าของ Customer ไว้อย่างไร\n",
    "จากการตรวจสอบพบว่า มี Transaction ของ Customer แต่ละคน ภายใน 1 วันสามารถมี Transaction ได้มากกว่า 1 Transaction\n",
    "ดัวยเหตุนี้ ในขั้นตอน Feature Engineering จะทำการกำหนดว่า ถ้าเป็นลูกค้าคนเดียวกัน จะกำหนดให้ Transaction ข้อลูกค้า\n",
    "คนนั้นที่เป็นขึ้นภายในวันเดียวกัน เป็น Basket Id เดียวกัน (ความเป็นจริงแล้วอาจจะเป็นคนละ Basket ก็ได้ ถ้าลูกค้าคนนั้น ภายใน\n",
    "เวลา 1 วันมีการกลับเข้ามาซื้อมากกว่า 1 ครั้ง แต่ในการวิเคราะห์นี้จะถือว่าเป็น Basket ID เดียวกัน)"
   ]
  },
  {
   "cell_type": "code",
   "execution_count": 7,
   "metadata": {
    "scrolled": true
   },
   "outputs": [
    {
     "data": {
      "text/html": [
       "<div>\n",
       "<style scoped>\n",
       "    .dataframe tbody tr th:only-of-type {\n",
       "        vertical-align: middle;\n",
       "    }\n",
       "\n",
       "    .dataframe tbody tr th {\n",
       "        vertical-align: top;\n",
       "    }\n",
       "\n",
       "    .dataframe thead th {\n",
       "        text-align: right;\n",
       "    }\n",
       "</style>\n",
       "<table border=\"1\" class=\"dataframe\">\n",
       "  <thead>\n",
       "    <tr style=\"text-align: right;\">\n",
       "      <th></th>\n",
       "      <th>customer_id</th>\n",
       "      <th>trans_date</th>\n",
       "      <th>tran_amount</th>\n",
       "    </tr>\n",
       "  </thead>\n",
       "  <tbody>\n",
       "    <tr>\n",
       "      <th>33</th>\n",
       "      <td>CS1113</td>\n",
       "      <td>2015-02-09</td>\n",
       "      <td>2</td>\n",
       "    </tr>\n",
       "    <tr>\n",
       "      <th>175</th>\n",
       "      <td>CS1121</td>\n",
       "      <td>2013-03-22</td>\n",
       "      <td>2</td>\n",
       "    </tr>\n",
       "    <tr>\n",
       "      <th>297</th>\n",
       "      <td>CS1128</td>\n",
       "      <td>2012-02-08</td>\n",
       "      <td>2</td>\n",
       "    </tr>\n",
       "    <tr>\n",
       "      <th>424</th>\n",
       "      <td>CS1135</td>\n",
       "      <td>2013-08-01</td>\n",
       "      <td>2</td>\n",
       "    </tr>\n",
       "    <tr>\n",
       "      <th>425</th>\n",
       "      <td>CS1135</td>\n",
       "      <td>2013-08-10</td>\n",
       "      <td>2</td>\n",
       "    </tr>\n",
       "  </tbody>\n",
       "</table>\n",
       "</div>"
      ],
      "text/plain": [
       "    customer_id trans_date  tran_amount\n",
       "33       CS1113 2015-02-09            2\n",
       "175      CS1121 2013-03-22            2\n",
       "297      CS1128 2012-02-08            2\n",
       "424      CS1135 2013-08-01            2\n",
       "425      CS1135 2013-08-10            2"
      ]
     },
     "execution_count": 7,
     "metadata": {},
     "output_type": "execute_result"
    }
   ],
   "source": [
    "# found a customer bought the same day\n",
    "grouping = trans_df.groupby(['customer_id','trans_date']).count().reset_index()\n",
    "grouping[grouping.tran_amount>1].head()"
   ]
  },
  {
   "cell_type": "code",
   "execution_count": 8,
   "metadata": {
    "scrolled": true
   },
   "outputs": [
    {
     "data": {
      "text/html": [
       "<div>\n",
       "<style scoped>\n",
       "    .dataframe tbody tr th:only-of-type {\n",
       "        vertical-align: middle;\n",
       "    }\n",
       "\n",
       "    .dataframe tbody tr th {\n",
       "        vertical-align: top;\n",
       "    }\n",
       "\n",
       "    .dataframe thead th {\n",
       "        text-align: right;\n",
       "    }\n",
       "</style>\n",
       "<table border=\"1\" class=\"dataframe\">\n",
       "  <thead>\n",
       "    <tr style=\"text-align: right;\">\n",
       "      <th></th>\n",
       "      <th>tran_amount</th>\n",
       "    </tr>\n",
       "  </thead>\n",
       "  <tbody>\n",
       "    <tr>\n",
       "      <th>count</th>\n",
       "      <td>124994.000000</td>\n",
       "    </tr>\n",
       "    <tr>\n",
       "      <th>mean</th>\n",
       "      <td>64.992504</td>\n",
       "    </tr>\n",
       "    <tr>\n",
       "      <th>std</th>\n",
       "      <td>22.859952</td>\n",
       "    </tr>\n",
       "    <tr>\n",
       "      <th>min</th>\n",
       "      <td>10.000000</td>\n",
       "    </tr>\n",
       "    <tr>\n",
       "      <th>25%</th>\n",
       "      <td>47.000000</td>\n",
       "    </tr>\n",
       "    <tr>\n",
       "      <th>50%</th>\n",
       "      <td>65.000000</td>\n",
       "    </tr>\n",
       "    <tr>\n",
       "      <th>75%</th>\n",
       "      <td>83.000000</td>\n",
       "    </tr>\n",
       "    <tr>\n",
       "      <th>max</th>\n",
       "      <td>105.000000</td>\n",
       "    </tr>\n",
       "  </tbody>\n",
       "</table>\n",
       "</div>"
      ],
      "text/plain": [
       "         tran_amount\n",
       "count  124994.000000\n",
       "mean       64.992504\n",
       "std        22.859952\n",
       "min        10.000000\n",
       "25%        47.000000\n",
       "50%        65.000000\n",
       "75%        83.000000\n",
       "max       105.000000"
      ]
     },
     "execution_count": 8,
     "metadata": {},
     "output_type": "execute_result"
    }
   ],
   "source": [
    "# investigate statatistic data\n",
    "trans_df.describe()"
   ]
  },
  {
   "cell_type": "markdown",
   "metadata": {},
   "source": [
    "### 2.2 สำรวจข้อมูลชุด Retail_Data_Response\n",
    "### 2.2.1 ทำการดูข้อมูลที่โหลดมาว่ามี Columm ชื่ออะไรบ้าง และในแต่ละ Column นั้นเก็บข้อมูลเป็นอย่างไร"
   ]
  },
  {
   "cell_type": "code",
   "execution_count": 9,
   "metadata": {
    "scrolled": true
   },
   "outputs": [
    {
     "data": {
      "text/html": [
       "<div>\n",
       "<style scoped>\n",
       "    .dataframe tbody tr th:only-of-type {\n",
       "        vertical-align: middle;\n",
       "    }\n",
       "\n",
       "    .dataframe tbody tr th {\n",
       "        vertical-align: top;\n",
       "    }\n",
       "\n",
       "    .dataframe thead th {\n",
       "        text-align: right;\n",
       "    }\n",
       "</style>\n",
       "<table border=\"1\" class=\"dataframe\">\n",
       "  <thead>\n",
       "    <tr style=\"text-align: right;\">\n",
       "      <th></th>\n",
       "      <th>customer_id</th>\n",
       "      <th>response</th>\n",
       "    </tr>\n",
       "  </thead>\n",
       "  <tbody>\n",
       "    <tr>\n",
       "      <th>0</th>\n",
       "      <td>CS1112</td>\n",
       "      <td>0</td>\n",
       "    </tr>\n",
       "    <tr>\n",
       "      <th>1</th>\n",
       "      <td>CS1113</td>\n",
       "      <td>0</td>\n",
       "    </tr>\n",
       "    <tr>\n",
       "      <th>2</th>\n",
       "      <td>CS1114</td>\n",
       "      <td>1</td>\n",
       "    </tr>\n",
       "    <tr>\n",
       "      <th>3</th>\n",
       "      <td>CS1115</td>\n",
       "      <td>1</td>\n",
       "    </tr>\n",
       "    <tr>\n",
       "      <th>4</th>\n",
       "      <td>CS1116</td>\n",
       "      <td>1</td>\n",
       "    </tr>\n",
       "  </tbody>\n",
       "</table>\n",
       "</div>"
      ],
      "text/plain": [
       "  customer_id  response\n",
       "0      CS1112         0\n",
       "1      CS1113         0\n",
       "2      CS1114         1\n",
       "3      CS1115         1\n",
       "4      CS1116         1"
      ]
     },
     "execution_count": 9,
     "metadata": {},
     "output_type": "execute_result"
    }
   ],
   "source": [
    "resp_df.head()"
   ]
  },
  {
   "cell_type": "markdown",
   "metadata": {},
   "source": [
    "ทำการดูจำนวนข้อมูลที่ใช้ในการ Predict ของทั้ง 2 Class ซึ่งพบว่าข้อมูลที่เป็นข้อมูลแบบ Imbalaced dataset คือ ข้อมูลที่ระบุว่ามีการตอบรับ Campaign มีจำนวนน้อยกว่าข้อมูลที่ระบุว่าไม่ตอบรับ Campaign"
   ]
  },
  {
   "cell_type": "code",
   "execution_count": 10,
   "metadata": {
    "scrolled": true
   },
   "outputs": [
    {
     "data": {
      "image/png": "[encoded data removed]",
      "text/plain": [
       "<Figure size 432x288 with 1 Axes>"
      ]
     },
     "metadata": {
      "needs_background": "light"
     },
     "output_type": "display_data"
    }
   ],
   "source": [
    "sns.countplot(x='response', data=resp_df)\n",
    "plt.title('Distribution of Response', fontsize=14)\n",
    "plt.show()"
   ]
  },
  {
   "cell_type": "markdown",
   "metadata": {
    "id": "uVsmfx7aYtmB"
   },
   "source": [
    "# 3. Feature Engineering\n",
    "การบวนการใช้ความรู้ใน Domain นั้นๆ เพื่อสร้าง Feature ใหม่ๆ ขึ้นมา ซึ่ง Feature เหล่านี้จะช่วยทำให้อัลกอริทึมมีการเรียนรู้ได้ดีมากขึ้น ตัวอย่างเช่น เติมข้อมูลที่ขาด หรือจัดแบ่งเป็นกลุ่มเป็นต้น สำหรับใน Assignment นี้จะนำเอาความรู้ในเรื่องของ RFM มาใช้\n",
    "\n",
    "## RFM (Recency, Frequency, and Monetary)\n",
    "คือ เทคนิคที่ใช้ข้อมูลเกี่ยวกับพฤติกรรมการซื้อของของลูกค้า 3 ปัจจัยมาใช้ในการวิเคราะห์ ซึ่งก็คือ\n",
    "\n",
    "a) Recency (R) : ลูกค้ามีการซื้อสินค้าครั้งล่าสุดนานแล้วแค่ไหน? <br>\n",
    "b) Frequency (F): ลูกค้ามีการซื้อสินค้าบ่อยแค่ไหน? <br>\n",
    "c) Monetary : มูลค่าในการซื้อสินค้่าเยอะมากแค่ไหน? <br>\n",
    "\n",
    "ประโยชน์ของ RFM คือ ถ้าลูกค้าพึ่งมาซื้อสินค้าได้ไม่นาน มีการซื้ออยู่เป็นประจำ และมีปริมาณการซื้อเยอะ ย่อมต้องมีโอกาศที่จะตอบรับ Campaign ที่เราส่งให้สูกว่านั่นเอง"
   ]
  },
  {
   "cell_type": "markdown",
   "metadata": {},
   "source": [
    "### 3.1 หาวันที่จะทำการ Predict\n",
    "ในการทำนาย Campaign Response จะมีการระบุวันที่จะทำนาย ใน Assignment นี้จะเลือกวันที่ทำนาย เป็นวันถัดมาของ Transaction สุดท้ายที่มีใน Dataset"
   ]
  },
  {
   "cell_type": "code",
   "execution_count": 11,
   "metadata": {},
   "outputs": [
    {
     "name": "stdout",
     "output_type": "stream",
     "text": [
      "Oldest Transaction Date :  2011-05-16 00:00:00\n",
      "Newest Transaction Date :  2015-03-16 00:00:00\n",
      "Campaign Date :  2015-03-17 00:00:00\n"
     ]
    }
   ],
   "source": [
    "print(\"Oldest Transaction Date : \",trans_df['trans_date'].min())\n",
    "print(\"Newest Transaction Date : \",trans_df['trans_date'].max())\n",
    "\n",
    "# select the next day of the last transaction\n",
    "campaign_date = trans_df['trans_date'].max() + dt.timedelta(days=1)\n",
    "print(\"Campaign Date : \",campaign_date)\n",
    "\n",
    "trans_df['campaign_date'] = campaign_date"
   ]
  },
  {
   "cell_type": "markdown",
   "metadata": {},
   "source": [
    "### 3.2 สร้าง Feature ชื่อ Basket ID \n",
    "จะให้ทุกๆ Transaction ของลูกค้าคนเดียวกัน จะมีต่า Basket ID เดียวกัน"
   ]
  },
  {
   "cell_type": "code",
   "execution_count": 12,
   "metadata": {
    "scrolled": true
   },
   "outputs": [
    {
     "data": {
      "text/html": [
       "<div>\n",
       "<style scoped>\n",
       "    .dataframe tbody tr th:only-of-type {\n",
       "        vertical-align: middle;\n",
       "    }\n",
       "\n",
       "    .dataframe tbody tr th {\n",
       "        vertical-align: top;\n",
       "    }\n",
       "\n",
       "    .dataframe thead th {\n",
       "        text-align: right;\n",
       "    }\n",
       "</style>\n",
       "<table border=\"1\" class=\"dataframe\">\n",
       "  <thead>\n",
       "    <tr style=\"text-align: right;\">\n",
       "      <th></th>\n",
       "      <th>customer_id</th>\n",
       "      <th>trans_date</th>\n",
       "      <th>tran_amount</th>\n",
       "      <th>campaign_date</th>\n",
       "      <th>basket_id</th>\n",
       "    </tr>\n",
       "  </thead>\n",
       "  <tbody>\n",
       "    <tr>\n",
       "      <th>0</th>\n",
       "      <td>CS5295</td>\n",
       "      <td>2013-02-11</td>\n",
       "      <td>35</td>\n",
       "      <td>2015-03-17</td>\n",
       "      <td>CS5295#2013-02-11</td>\n",
       "    </tr>\n",
       "    <tr>\n",
       "      <th>1</th>\n",
       "      <td>CS4768</td>\n",
       "      <td>2015-03-15</td>\n",
       "      <td>39</td>\n",
       "      <td>2015-03-17</td>\n",
       "      <td>CS4768#2015-03-15</td>\n",
       "    </tr>\n",
       "    <tr>\n",
       "      <th>2</th>\n",
       "      <td>CS2122</td>\n",
       "      <td>2013-02-26</td>\n",
       "      <td>52</td>\n",
       "      <td>2015-03-17</td>\n",
       "      <td>CS2122#2013-02-26</td>\n",
       "    </tr>\n",
       "    <tr>\n",
       "      <th>3</th>\n",
       "      <td>CS1217</td>\n",
       "      <td>2011-11-16</td>\n",
       "      <td>99</td>\n",
       "      <td>2015-03-17</td>\n",
       "      <td>CS1217#2011-11-16</td>\n",
       "    </tr>\n",
       "    <tr>\n",
       "      <th>4</th>\n",
       "      <td>CS1850</td>\n",
       "      <td>2013-11-20</td>\n",
       "      <td>78</td>\n",
       "      <td>2015-03-17</td>\n",
       "      <td>CS1850#2013-11-20</td>\n",
       "    </tr>\n",
       "  </tbody>\n",
       "</table>\n",
       "</div>"
      ],
      "text/plain": [
       "  customer_id trans_date  tran_amount campaign_date          basket_id\n",
       "0      CS5295 2013-02-11           35    2015-03-17  CS5295#2013-02-11\n",
       "1      CS4768 2015-03-15           39    2015-03-17  CS4768#2015-03-15\n",
       "2      CS2122 2013-02-26           52    2015-03-17  CS2122#2013-02-26\n",
       "3      CS1217 2011-11-16           99    2015-03-17  CS1217#2011-11-16\n",
       "4      CS1850 2013-11-20           78    2015-03-17  CS1850#2013-11-20"
      ]
     },
     "execution_count": 12,
     "metadata": {},
     "output_type": "execute_result"
    }
   ],
   "source": [
    "# customer who bought product within the same day, it will be the same basket id\n",
    "trans_df['basket_id'] = trans_df['customer_id'].astype(str) +'#'+ trans_df['trans_date'].astype(str)\n",
    "trans_df.head()"
   ]
  },
  {
   "cell_type": "markdown",
   "metadata": {},
   "source": [
    "### 3.3 แปลงข้อมูลในรูป Transaction เป็นข้อมูลสรุปรายเดือน\n",
    "ทำการสร้าง Feature เพื่อระบุเดือนของแต่ละ Transaction ข้อมูลนี้ไว้ใช้เพื่อดูลักษณะข้อมูลของลุกค้าในระดับรายเดือน นอกเหนือจากการดูลักษณะของข้อมูลในระดับ Transaction"
   ]
  },
  {
   "cell_type": "markdown",
   "metadata": {},
   "source": [
    "### 3.3.1 แปลง transaction date จากที่ระบุว่าเป็นรายวันไปเป็นระบุเป็นรายเดือน"
   ]
  },
  {
   "cell_type": "code",
   "execution_count": 13,
   "metadata": {},
   "outputs": [
    {
     "data": {
      "text/html": [
       "<div>\n",
       "<style scoped>\n",
       "    .dataframe tbody tr th:only-of-type {\n",
       "        vertical-align: middle;\n",
       "    }\n",
       "\n",
       "    .dataframe tbody tr th {\n",
       "        vertical-align: top;\n",
       "    }\n",
       "\n",
       "    .dataframe thead th {\n",
       "        text-align: right;\n",
       "    }\n",
       "</style>\n",
       "<table border=\"1\" class=\"dataframe\">\n",
       "  <thead>\n",
       "    <tr style=\"text-align: right;\">\n",
       "      <th></th>\n",
       "      <th>customer_id</th>\n",
       "      <th>trans_date</th>\n",
       "      <th>tran_amount</th>\n",
       "      <th>campaign_date</th>\n",
       "      <th>basket_id</th>\n",
       "      <th>trans_in_month</th>\n",
       "      <th>start_trans_in_month</th>\n",
       "    </tr>\n",
       "  </thead>\n",
       "  <tbody>\n",
       "    <tr>\n",
       "      <th>0</th>\n",
       "      <td>CS5295</td>\n",
       "      <td>2013-02-11</td>\n",
       "      <td>35</td>\n",
       "      <td>2015-03-17</td>\n",
       "      <td>CS5295#2013-02-11</td>\n",
       "      <td>2013-02-01</td>\n",
       "      <td>2011-10-01</td>\n",
       "    </tr>\n",
       "    <tr>\n",
       "      <th>1</th>\n",
       "      <td>CS4768</td>\n",
       "      <td>2015-03-15</td>\n",
       "      <td>39</td>\n",
       "      <td>2015-03-17</td>\n",
       "      <td>CS4768#2015-03-15</td>\n",
       "      <td>2015-03-01</td>\n",
       "      <td>2011-05-01</td>\n",
       "    </tr>\n",
       "    <tr>\n",
       "      <th>2</th>\n",
       "      <td>CS2122</td>\n",
       "      <td>2013-02-26</td>\n",
       "      <td>52</td>\n",
       "      <td>2015-03-17</td>\n",
       "      <td>CS2122#2013-02-26</td>\n",
       "      <td>2013-02-01</td>\n",
       "      <td>2011-10-01</td>\n",
       "    </tr>\n",
       "    <tr>\n",
       "      <th>3</th>\n",
       "      <td>CS1217</td>\n",
       "      <td>2011-11-16</td>\n",
       "      <td>99</td>\n",
       "      <td>2015-03-17</td>\n",
       "      <td>CS1217#2011-11-16</td>\n",
       "      <td>2011-11-01</td>\n",
       "      <td>2011-05-01</td>\n",
       "    </tr>\n",
       "    <tr>\n",
       "      <th>4</th>\n",
       "      <td>CS1850</td>\n",
       "      <td>2013-11-20</td>\n",
       "      <td>78</td>\n",
       "      <td>2015-03-17</td>\n",
       "      <td>CS1850#2013-11-20</td>\n",
       "      <td>2013-11-01</td>\n",
       "      <td>2011-08-01</td>\n",
       "    </tr>\n",
       "  </tbody>\n",
       "</table>\n",
       "</div>"
      ],
      "text/plain": [
       "  customer_id trans_date  tran_amount campaign_date          basket_id  \\\n",
       "0      CS5295 2013-02-11           35    2015-03-17  CS5295#2013-02-11   \n",
       "1      CS4768 2015-03-15           39    2015-03-17  CS4768#2015-03-15   \n",
       "2      CS2122 2013-02-26           52    2015-03-17  CS2122#2013-02-26   \n",
       "3      CS1217 2011-11-16           99    2015-03-17  CS1217#2011-11-16   \n",
       "4      CS1850 2013-11-20           78    2015-03-17  CS1850#2013-11-20   \n",
       "\n",
       "  trans_in_month start_trans_in_month  \n",
       "0     2013-02-01           2011-10-01  \n",
       "1     2015-03-01           2011-05-01  \n",
       "2     2013-02-01           2011-10-01  \n",
       "3     2011-11-01           2011-05-01  \n",
       "4     2013-11-01           2011-08-01  "
      ]
     },
     "execution_count": 13,
     "metadata": {},
     "output_type": "execute_result"
    }
   ],
   "source": [
    "def get_adjust_in_month(x) : \n",
    "    return dt.datetime(x.year,x.month,1)\n",
    "\n",
    "# tranform transaction's date of each transaction to transaction's month\n",
    "trans_df['trans_in_month'] = trans_df['trans_date'].apply(get_adjust_in_month)\n",
    "# find the first month of transaction of each customer\n",
    "trans_df['start_trans_in_month'] = trans_df.groupby('customer_id')['trans_in_month'].transform('min')\n",
    "trans_df.head()"
   ]
  },
  {
   "cell_type": "markdown",
   "metadata": {},
   "source": [
    "### 3.3.2 คำนวนหาระยะเวลาความเป็นลูกค้าของแต่ละ Customer"
   ]
  },
  {
   "cell_type": "code",
   "execution_count": 14,
   "metadata": {},
   "outputs": [
    {
     "data": {
      "text/html": [
       "<div>\n",
       "<style scoped>\n",
       "    .dataframe tbody tr th:only-of-type {\n",
       "        vertical-align: middle;\n",
       "    }\n",
       "\n",
       "    .dataframe tbody tr th {\n",
       "        vertical-align: top;\n",
       "    }\n",
       "\n",
       "    .dataframe thead th {\n",
       "        text-align: right;\n",
       "    }\n",
       "</style>\n",
       "<table border=\"1\" class=\"dataframe\">\n",
       "  <thead>\n",
       "    <tr style=\"text-align: right;\">\n",
       "      <th></th>\n",
       "      <th>customer_id</th>\n",
       "      <th>trans_date</th>\n",
       "      <th>tran_amount</th>\n",
       "      <th>campaign_date</th>\n",
       "      <th>basket_id</th>\n",
       "      <th>trans_in_month</th>\n",
       "      <th>start_trans_in_month</th>\n",
       "      <th>start_year</th>\n",
       "      <th>start_month</th>\n",
       "      <th>customer_month</th>\n",
       "    </tr>\n",
       "  </thead>\n",
       "  <tbody>\n",
       "    <tr>\n",
       "      <th>0</th>\n",
       "      <td>CS5295</td>\n",
       "      <td>2013-02-11</td>\n",
       "      <td>35</td>\n",
       "      <td>2015-03-17</td>\n",
       "      <td>CS5295#2013-02-11</td>\n",
       "      <td>2013-02-01</td>\n",
       "      <td>2011-10-01</td>\n",
       "      <td>2011</td>\n",
       "      <td>10</td>\n",
       "      <td>42</td>\n",
       "    </tr>\n",
       "    <tr>\n",
       "      <th>1</th>\n",
       "      <td>CS4768</td>\n",
       "      <td>2015-03-15</td>\n",
       "      <td>39</td>\n",
       "      <td>2015-03-17</td>\n",
       "      <td>CS4768#2015-03-15</td>\n",
       "      <td>2015-03-01</td>\n",
       "      <td>2011-05-01</td>\n",
       "      <td>2011</td>\n",
       "      <td>5</td>\n",
       "      <td>47</td>\n",
       "    </tr>\n",
       "    <tr>\n",
       "      <th>2</th>\n",
       "      <td>CS2122</td>\n",
       "      <td>2013-02-26</td>\n",
       "      <td>52</td>\n",
       "      <td>2015-03-17</td>\n",
       "      <td>CS2122#2013-02-26</td>\n",
       "      <td>2013-02-01</td>\n",
       "      <td>2011-10-01</td>\n",
       "      <td>2011</td>\n",
       "      <td>10</td>\n",
       "      <td>42</td>\n",
       "    </tr>\n",
       "    <tr>\n",
       "      <th>3</th>\n",
       "      <td>CS1217</td>\n",
       "      <td>2011-11-16</td>\n",
       "      <td>99</td>\n",
       "      <td>2015-03-17</td>\n",
       "      <td>CS1217#2011-11-16</td>\n",
       "      <td>2011-11-01</td>\n",
       "      <td>2011-05-01</td>\n",
       "      <td>2011</td>\n",
       "      <td>5</td>\n",
       "      <td>47</td>\n",
       "    </tr>\n",
       "    <tr>\n",
       "      <th>4</th>\n",
       "      <td>CS1850</td>\n",
       "      <td>2013-11-20</td>\n",
       "      <td>78</td>\n",
       "      <td>2015-03-17</td>\n",
       "      <td>CS1850#2013-11-20</td>\n",
       "      <td>2013-11-01</td>\n",
       "      <td>2011-08-01</td>\n",
       "      <td>2011</td>\n",
       "      <td>8</td>\n",
       "      <td>44</td>\n",
       "    </tr>\n",
       "  </tbody>\n",
       "</table>\n",
       "</div>"
      ],
      "text/plain": [
       "  customer_id trans_date  tran_amount campaign_date          basket_id  \\\n",
       "0      CS5295 2013-02-11           35    2015-03-17  CS5295#2013-02-11   \n",
       "1      CS4768 2015-03-15           39    2015-03-17  CS4768#2015-03-15   \n",
       "2      CS2122 2013-02-26           52    2015-03-17  CS2122#2013-02-26   \n",
       "3      CS1217 2011-11-16           99    2015-03-17  CS1217#2011-11-16   \n",
       "4      CS1850 2013-11-20           78    2015-03-17  CS1850#2013-11-20   \n",
       "\n",
       "  trans_in_month start_trans_in_month  start_year  start_month  customer_month  \n",
       "0     2013-02-01           2011-10-01        2011           10              42  \n",
       "1     2015-03-01           2011-05-01        2011            5              47  \n",
       "2     2013-02-01           2011-10-01        2011           10              42  \n",
       "3     2011-11-01           2011-05-01        2011            5              47  \n",
       "4     2013-11-01           2011-08-01        2011            8              44  "
      ]
     },
     "execution_count": 14,
     "metadata": {},
     "output_type": "execute_result"
    }
   ],
   "source": [
    "def get_month_year(df,col_name): \n",
    "    year_value = df[col_name].dt.year\n",
    "    month_value = df[col_name].dt.month\n",
    "    return year_value,month_value\n",
    "\n",
    "# get the start transaction of each customer\n",
    "trans_df['start_year'],trans_df['start_month'] = get_month_year(trans_df,'start_trans_in_month')\n",
    "\n",
    "# calculate the customer's period from first purchase's date to campaign' date of each customer\n",
    "campaign_year,campaign_month = get_month_year(trans_df,'campaign_date')\n",
    "total_year_diff = campaign_year - trans_df['start_year']\n",
    "total_month_diff = campaign_month - trans_df['start_month']\n",
    "trans_df['customer_month'] = total_year_diff * 12 + total_month_diff + 1\n",
    "\n",
    "trans_df.head()"
   ]
  },
  {
   "cell_type": "markdown",
   "metadata": {},
   "source": [
    "## 3.3.3 สร้างข้อมูล Customer Single View จากข้อมูล RFM\n",
    "ข้อมูล Customer Single View คือ การสรุปทุกสิ่งทุกอย่างของลูกค้า 1 คนให้เหลือข้อมูลเพียงแค่ 1 record"
   ]
  },
  {
   "cell_type": "code",
   "execution_count": 15,
   "metadata": {},
   "outputs": [
    {
     "data": {
      "text/html": [
       "<div>\n",
       "<style scoped>\n",
       "    .dataframe tbody tr th:only-of-type {\n",
       "        vertical-align: middle;\n",
       "    }\n",
       "\n",
       "    .dataframe tbody tr th {\n",
       "        vertical-align: top;\n",
       "    }\n",
       "\n",
       "    .dataframe thead th {\n",
       "        text-align: right;\n",
       "    }\n",
       "</style>\n",
       "<table border=\"1\" class=\"dataframe\">\n",
       "  <thead>\n",
       "    <tr style=\"text-align: right;\">\n",
       "      <th></th>\n",
       "      <th>customer_id</th>\n",
       "      <th>recency</th>\n",
       "      <th>total_frequency</th>\n",
       "      <th>total_monetary</th>\n",
       "      <th>customer_month</th>\n",
       "    </tr>\n",
       "  </thead>\n",
       "  <tbody>\n",
       "    <tr>\n",
       "      <th>0</th>\n",
       "      <td>CS1112</td>\n",
       "      <td>62</td>\n",
       "      <td>15</td>\n",
       "      <td>1012</td>\n",
       "      <td>46</td>\n",
       "    </tr>\n",
       "    <tr>\n",
       "      <th>1</th>\n",
       "      <td>CS1113</td>\n",
       "      <td>36</td>\n",
       "      <td>19</td>\n",
       "      <td>1490</td>\n",
       "      <td>47</td>\n",
       "    </tr>\n",
       "    <tr>\n",
       "      <th>2</th>\n",
       "      <td>CS1114</td>\n",
       "      <td>33</td>\n",
       "      <td>19</td>\n",
       "      <td>1432</td>\n",
       "      <td>45</td>\n",
       "    </tr>\n",
       "    <tr>\n",
       "      <th>3</th>\n",
       "      <td>CS1115</td>\n",
       "      <td>12</td>\n",
       "      <td>22</td>\n",
       "      <td>1659</td>\n",
       "      <td>44</td>\n",
       "    </tr>\n",
       "    <tr>\n",
       "      <th>4</th>\n",
       "      <td>CS1116</td>\n",
       "      <td>204</td>\n",
       "      <td>13</td>\n",
       "      <td>857</td>\n",
       "      <td>46</td>\n",
       "    </tr>\n",
       "  </tbody>\n",
       "</table>\n",
       "</div>"
      ],
      "text/plain": [
       "  customer_id  recency  total_frequency  total_monetary  customer_month\n",
       "0      CS1112       62               15            1012              46\n",
       "1      CS1113       36               19            1490              47\n",
       "2      CS1114       33               19            1432              45\n",
       "3      CS1115       12               22            1659              44\n",
       "4      CS1116      204               13             857              46"
      ]
     },
     "execution_count": 15,
     "metadata": {},
     "output_type": "execute_result"
    }
   ],
   "source": [
    "# Calculate RFM metrics\n",
    "customer_df = trans_df.groupby(['customer_id']).agg(\n",
    "    {'trans_date': lambda x : (campaign_date - x.max()).days, # last visit\n",
    "     'basket_id': pd.Series.nunique, # total visit\n",
    "     'tran_amount': 'sum', # total spend\n",
    "     'customer_month': 'max'\n",
    "    }).reset_index() \n",
    "\n",
    "#Rename columns\n",
    "customer_df.rename(columns={'trans_date':'recency',\n",
    "                            'basket_id':'total_frequency', # total visit\n",
    "                            'tran_amount':'total_monetary'} # total spend\n",
    "                   ,inplace= True)\n",
    "#Final RFM values\n",
    "customer_df.head()"
   ]
  },
  {
   "cell_type": "markdown",
   "metadata": {},
   "source": [
    "# 4. Predict Campaign Reponse #1"
   ]
  },
  {
   "cell_type": "markdown",
   "metadata": {},
   "source": [
    "### 4.1 merge 2 datasets (Customer's data and Campaign respose's data)"
   ]
  },
  {
   "cell_type": "code",
   "execution_count": 16,
   "metadata": {
    "scrolled": false
   },
   "outputs": [
    {
     "name": "stdout",
     "output_type": "stream",
     "text": [
      "Null columns customer_id        0\n",
      "recency            0\n",
      "total_frequency    0\n",
      "total_monetary     0\n",
      "customer_month     0\n",
      "response           5\n",
      "dtype: int64\n"
     ]
    },
    {
     "data": {
      "text/html": [
       "<div>\n",
       "<style scoped>\n",
       "    .dataframe tbody tr th:only-of-type {\n",
       "        vertical-align: middle;\n",
       "    }\n",
       "\n",
       "    .dataframe tbody tr th {\n",
       "        vertical-align: top;\n",
       "    }\n",
       "\n",
       "    .dataframe thead th {\n",
       "        text-align: right;\n",
       "    }\n",
       "</style>\n",
       "<table border=\"1\" class=\"dataframe\">\n",
       "  <thead>\n",
       "    <tr style=\"text-align: right;\">\n",
       "      <th></th>\n",
       "      <th>customer_id</th>\n",
       "      <th>recency</th>\n",
       "      <th>total_frequency</th>\n",
       "      <th>total_monetary</th>\n",
       "      <th>customer_month</th>\n",
       "      <th>response</th>\n",
       "    </tr>\n",
       "  </thead>\n",
       "  <tbody>\n",
       "    <tr>\n",
       "      <th>0</th>\n",
       "      <td>CS1112</td>\n",
       "      <td>62</td>\n",
       "      <td>15</td>\n",
       "      <td>1012</td>\n",
       "      <td>46</td>\n",
       "      <td>0.0</td>\n",
       "    </tr>\n",
       "    <tr>\n",
       "      <th>1</th>\n",
       "      <td>CS1113</td>\n",
       "      <td>36</td>\n",
       "      <td>19</td>\n",
       "      <td>1490</td>\n",
       "      <td>47</td>\n",
       "      <td>0.0</td>\n",
       "    </tr>\n",
       "    <tr>\n",
       "      <th>2</th>\n",
       "      <td>CS1114</td>\n",
       "      <td>33</td>\n",
       "      <td>19</td>\n",
       "      <td>1432</td>\n",
       "      <td>45</td>\n",
       "      <td>1.0</td>\n",
       "    </tr>\n",
       "    <tr>\n",
       "      <th>3</th>\n",
       "      <td>CS1115</td>\n",
       "      <td>12</td>\n",
       "      <td>22</td>\n",
       "      <td>1659</td>\n",
       "      <td>44</td>\n",
       "      <td>1.0</td>\n",
       "    </tr>\n",
       "    <tr>\n",
       "      <th>4</th>\n",
       "      <td>CS1116</td>\n",
       "      <td>204</td>\n",
       "      <td>13</td>\n",
       "      <td>857</td>\n",
       "      <td>46</td>\n",
       "      <td>1.0</td>\n",
       "    </tr>\n",
       "  </tbody>\n",
       "</table>\n",
       "</div>"
      ],
      "text/plain": [
       "  customer_id  recency  total_frequency  total_monetary  customer_month  \\\n",
       "0      CS1112       62               15            1012              46   \n",
       "1      CS1113       36               19            1490              47   \n",
       "2      CS1114       33               19            1432              45   \n",
       "3      CS1115       12               22            1659              44   \n",
       "4      CS1116      204               13             857              46   \n",
       "\n",
       "   response  \n",
       "0       0.0  \n",
       "1       0.0  \n",
       "2       1.0  \n",
       "3       1.0  \n",
       "4       1.0  "
      ]
     },
     "execution_count": 16,
     "metadata": {},
     "output_type": "execute_result"
    }
   ],
   "source": [
    "# filter ข้อมูลที่เป็น null\n",
    "predict_df = customer_df.merge(resp_df,on=['customer_id'],how='left')\n",
    "print(\"Null columns\",predict_df.isnull().sum())\n",
    "\n",
    "predict_df = predict_df[~predict_df.response.isnull()]\n",
    "predict_df.head()"
   ]
  },
  {
   "cell_type": "markdown",
   "metadata": {},
   "source": [
    "### 4.2 define prediction function"
   ]
  },
  {
   "cell_type": "code",
   "execution_count": 17,
   "metadata": {},
   "outputs": [],
   "source": [
    "def campaign_prediction(X,y):\n",
    "    # split train and test dataset\n",
    "    RANDOM_STATE = 18\n",
    "    TEST_SIZE = 0.3\n",
    "\n",
    "    X_train, X_test, y_train, y_test = train_test_split(X, y, test_size=TEST_SIZE, random_state=RANDOM_STATE)\n",
    "    \n",
    "    print(\"\\nDimension of train and test data: -------------\")\n",
    "    print(\"X_train dataset: \", X_train.shape)\n",
    "    print(\"y_train dataset: \", y_train.shape)\n",
    "    print(\"X_test dataset: \", X_test.shape)\n",
    "    print(\"y_test dataset: \", y_test.shape)\n",
    "    \n",
    "    # fix imbalanced data with SMOTE\n",
    "    # เพิ่มตัวอย่าง Minority Class ให้มีปริมาณมากขึ้น (Oversampling) \n",
    "    sm = SMOTE(random_state=RANDOM_STATE)\n",
    "    X_sm, y_sm = sm.fit_resample(X_train, y_train)\n",
    "    print(\"\\nDimension after fixing imbalance issue: -------------\")\n",
    "    print(\"X_sm dataset: \", X_sm.shape)\n",
    "    print(\"y_sm dataset: \", y_sm.shape)\n",
    "    \n",
    "    xgb_model = xgb.XGBClassifier(objective='binary:logistic', eval_metric='auc')\n",
    "    xgb_model.fit(X_sm, y_sm, early_stopping_rounds=5, eval_set=[(X_test, y_test)])\n",
    "\n",
    "    y_train_pred = xgb_model.predict(X_sm)\n",
    "    print('\\nTraining Set\\'s Results ------------------------------------\\n')\n",
    "    print(classification_report(y_sm, y_train_pred))\n",
    "\n",
    "    y_test_pred = xgb_model.predict(X_test)\n",
    "    print('\\nTesting Set\\'s Results ------------------------------------\\n')\n",
    "    print(classification_report(y_test, y_test_pred))\n",
    "    \n",
    "    # plot ROC Curve\n",
    "    plt.figure(figsize=(10,6))\n",
    "    y_prob_sm = xgb_model.predict_proba(X_sm)\n",
    "    fpr_train, tpr_train ,_ = roc_curve(y_sm, y_prob_sm[:,1])\n",
    "    auc_train = roc_auc_score(y_sm, y_prob_sm[:,1])\n",
    "\n",
    "    plt.plot(fpr_train, tpr_train, color='red', label=f'Train set, auc = {auc_train:.2f}')\n",
    "\n",
    "    # test set\n",
    "    y_prob_test = xgb_model.predict_proba(X_test.to_numpy())\n",
    "    fpr_test, tpr_test ,_ = roc_curve(y_test, y_prob_test[:,1])\n",
    "    auc_test = roc_auc_score(y_test, y_prob_test[:,1])\n",
    "\n",
    "    plt.plot([0,1],[0,1], color = 'grey', lw=2, ls ='--')\n",
    "\n",
    "    plt.plot(fpr_test, tpr_test, color='blue', label=f'Test set, auc = {auc_test:.3f}')\n",
    "    plt.legend()\n",
    "    plt.title('ROC Curve')\n",
    "    plt.show();"
   ]
  },
  {
   "cell_type": "markdown",
   "metadata": {},
   "source": [
    "### 4.3 prediction"
   ]
  },
  {
   "cell_type": "code",
   "execution_count": 18,
   "metadata": {},
   "outputs": [
    {
     "name": "stdout",
     "output_type": "stream",
     "text": [
      "X: ----------------\n",
      "   recency  total_frequency  total_monetary\n",
      "0       62               15            1012\n",
      "1       36               19            1490\n",
      "2       33               19            1432\n",
      "3       12               22            1659\n",
      "4      204               13             857\n",
      "\n",
      "y: ----------------\n",
      "0    0.0\n",
      "1    0.0\n",
      "2    1.0\n",
      "3    1.0\n",
      "4    1.0\n",
      "Name: response, dtype: float64\n",
      "\n",
      "Dimension of train and test data: -------------\n",
      "X_train dataset:  (4818, 3)\n",
      "y_train dataset:  (4818,)\n",
      "X_test dataset:  (2066, 3)\n",
      "y_test dataset:  (2066,)\n",
      "\n",
      "Dimension after fixing imbalance issue: -------------\n",
      "X_sm dataset:  (8776, 3)\n",
      "y_sm dataset:  (8776,)\n",
      "[0]\tvalidation_0-auc:0.68261\n",
      "[1]\tvalidation_0-auc:0.68730\n",
      "[2]\tvalidation_0-auc:0.68063\n",
      "[3]\tvalidation_0-auc:0.68121\n",
      "[4]\tvalidation_0-auc:0.67968\n",
      "[5]\tvalidation_0-auc:0.67871\n",
      "\n",
      "Training Set's Results ------------------------------------\n",
      "\n",
      "              precision    recall  f1-score   support\n",
      "\n",
      "         0.0       0.84      0.60      0.70      4388\n",
      "         1.0       0.69      0.88      0.77      4388\n",
      "\n",
      "    accuracy                           0.74      8776\n",
      "   macro avg       0.76      0.74      0.74      8776\n",
      "weighted avg       0.76      0.74      0.74      8776\n",
      "\n",
      "\n",
      "Testing Set's Results ------------------------------------\n",
      "\n",
      "              precision    recall  f1-score   support\n",
      "\n",
      "         0.0       0.94      0.57      0.71      1849\n",
      "         1.0       0.16      0.68      0.25       217\n",
      "\n",
      "    accuracy                           0.58      2066\n",
      "   macro avg       0.55      0.62      0.48      2066\n",
      "weighted avg       0.86      0.58      0.66      2066\n",
      "\n"
     ]
    },
    {
     "name": "stderr",
     "output_type": "stream",
     "text": [
      "/Users/nueng/opt/anaconda3/lib/python3.8/site-packages/xgboost/sklearn.py:888: UserWarning: The use of label encoder in XGBClassifier is deprecated and will be removed in a future release. To remove this warning, do the following: 1) Pass option use_label_encoder=False when constructing XGBClassifier object; and 2) Encode your labels (y) as integers starting with 0, i.e. 0, 1, 2, ..., [num_class - 1].\n",
      "  warnings.warn(label_encoder_deprecation_msg, UserWarning)\n"
     ]
    },
    {
     "data": {
      "image/png": "[encoded data removed]",
      "text/plain": [
       "<Figure size 720x432 with 1 Axes>"
      ]
     },
     "metadata": {
      "needs_background": "light"
     },
     "output_type": "display_data"
    }
   ],
   "source": [
    "X = predict_df[['recency','total_frequency','total_monetary']]\n",
    "y = predict_df['response']\n",
    "print(\"X: ----------------\")\n",
    "print(X.head())\n",
    "print(\"\\ny: ----------------\")\n",
    "print(y.head())\n",
    "\n",
    "campaign_prediction(X,y)"
   ]
  },
  {
   "cell_type": "markdown",
   "metadata": {},
   "source": [
    "# 5. Predict Campaign Reponse #2\n",
    "## 5.1 Feature engineering (ฉบับปรับปรุง #1)\n",
    "### หาค่าเฉลี่ยจำนวนการซื้อ และปริมาณการซื้อ\n",
    "\n",
    "จากสาเหตุที่ลูกค้าแต่ละคนเริ่มเข้ามาซื้อในเวลาที่ไม่พร้อมกัน ดังนั้นการใช้ feature totl_visit และ total_spend ก็จะมีผลทำให้การตีความค่าสถิติที่ได้นั้นต่ำกว่าความเป็นจริงได้ ดังนี้จึงควรเป็นค่าเฉลี่ย และเฉลี่ยนับจากวันที่ลูกค้าคนนั้นเริ่มเข้ามาเป็นลูกค้าวันแรก"
   ]
  },
  {
   "cell_type": "code",
   "execution_count": 19,
   "metadata": {},
   "outputs": [
    {
     "data": {
      "text/html": [
       "<div>\n",
       "<style scoped>\n",
       "    .dataframe tbody tr th:only-of-type {\n",
       "        vertical-align: middle;\n",
       "    }\n",
       "\n",
       "    .dataframe tbody tr th {\n",
       "        vertical-align: top;\n",
       "    }\n",
       "\n",
       "    .dataframe thead th {\n",
       "        text-align: right;\n",
       "    }\n",
       "</style>\n",
       "<table border=\"1\" class=\"dataframe\">\n",
       "  <thead>\n",
       "    <tr style=\"text-align: right;\">\n",
       "      <th></th>\n",
       "      <th>customer_id</th>\n",
       "      <th>recency</th>\n",
       "      <th>total_frequency</th>\n",
       "      <th>total_monetary</th>\n",
       "      <th>customer_month</th>\n",
       "      <th>avg_frequency</th>\n",
       "      <th>avg_monetary</th>\n",
       "    </tr>\n",
       "  </thead>\n",
       "  <tbody>\n",
       "    <tr>\n",
       "      <th>0</th>\n",
       "      <td>CS1112</td>\n",
       "      <td>62</td>\n",
       "      <td>15</td>\n",
       "      <td>1012</td>\n",
       "      <td>46</td>\n",
       "      <td>0.326087</td>\n",
       "      <td>22.000000</td>\n",
       "    </tr>\n",
       "    <tr>\n",
       "      <th>1</th>\n",
       "      <td>CS1113</td>\n",
       "      <td>36</td>\n",
       "      <td>19</td>\n",
       "      <td>1490</td>\n",
       "      <td>47</td>\n",
       "      <td>0.404255</td>\n",
       "      <td>31.702128</td>\n",
       "    </tr>\n",
       "    <tr>\n",
       "      <th>2</th>\n",
       "      <td>CS1114</td>\n",
       "      <td>33</td>\n",
       "      <td>19</td>\n",
       "      <td>1432</td>\n",
       "      <td>45</td>\n",
       "      <td>0.422222</td>\n",
       "      <td>31.822222</td>\n",
       "    </tr>\n",
       "    <tr>\n",
       "      <th>3</th>\n",
       "      <td>CS1115</td>\n",
       "      <td>12</td>\n",
       "      <td>22</td>\n",
       "      <td>1659</td>\n",
       "      <td>44</td>\n",
       "      <td>0.500000</td>\n",
       "      <td>37.704545</td>\n",
       "    </tr>\n",
       "    <tr>\n",
       "      <th>4</th>\n",
       "      <td>CS1116</td>\n",
       "      <td>204</td>\n",
       "      <td>13</td>\n",
       "      <td>857</td>\n",
       "      <td>46</td>\n",
       "      <td>0.282609</td>\n",
       "      <td>18.630435</td>\n",
       "    </tr>\n",
       "  </tbody>\n",
       "</table>\n",
       "</div>"
      ],
      "text/plain": [
       "  customer_id  recency  total_frequency  total_monetary  customer_month  \\\n",
       "0      CS1112       62               15            1012              46   \n",
       "1      CS1113       36               19            1490              47   \n",
       "2      CS1114       33               19            1432              45   \n",
       "3      CS1115       12               22            1659              44   \n",
       "4      CS1116      204               13             857              46   \n",
       "\n",
       "   avg_frequency  avg_monetary  \n",
       "0       0.326087     22.000000  \n",
       "1       0.404255     31.702128  \n",
       "2       0.422222     31.822222  \n",
       "3       0.500000     37.704545  \n",
       "4       0.282609     18.630435  "
      ]
     },
     "execution_count": 19,
     "metadata": {},
     "output_type": "execute_result"
    }
   ],
   "source": [
    "customer_df['avg_frequency'] = customer_df['total_frequency']/customer_df['customer_month']\n",
    "customer_df['avg_monetary'] = customer_df['total_monetary']/customer_df['customer_month']\n",
    "customer_df.head()"
   ]
  },
  {
   "cell_type": "markdown",
   "metadata": {},
   "source": [
    "### 5.2 merge 2 datasets (Customer's data and Campaign respose's data)"
   ]
  },
  {
   "cell_type": "code",
   "execution_count": 20,
   "metadata": {},
   "outputs": [
    {
     "name": "stdout",
     "output_type": "stream",
     "text": [
      "Null columns customer_id        0\n",
      "recency            0\n",
      "total_frequency    0\n",
      "total_monetary     0\n",
      "customer_month     0\n",
      "avg_frequency      0\n",
      "avg_monetary       0\n",
      "response           5\n",
      "dtype: int64\n"
     ]
    },
    {
     "data": {
      "text/html": [
       "<div>\n",
       "<style scoped>\n",
       "    .dataframe tbody tr th:only-of-type {\n",
       "        vertical-align: middle;\n",
       "    }\n",
       "\n",
       "    .dataframe tbody tr th {\n",
       "        vertical-align: top;\n",
       "    }\n",
       "\n",
       "    .dataframe thead th {\n",
       "        text-align: right;\n",
       "    }\n",
       "</style>\n",
       "<table border=\"1\" class=\"dataframe\">\n",
       "  <thead>\n",
       "    <tr style=\"text-align: right;\">\n",
       "      <th></th>\n",
       "      <th>customer_id</th>\n",
       "      <th>recency</th>\n",
       "      <th>total_frequency</th>\n",
       "      <th>total_monetary</th>\n",
       "      <th>customer_month</th>\n",
       "      <th>avg_frequency</th>\n",
       "      <th>avg_monetary</th>\n",
       "      <th>response</th>\n",
       "    </tr>\n",
       "  </thead>\n",
       "  <tbody>\n",
       "    <tr>\n",
       "      <th>0</th>\n",
       "      <td>CS1112</td>\n",
       "      <td>62</td>\n",
       "      <td>15</td>\n",
       "      <td>1012</td>\n",
       "      <td>46</td>\n",
       "      <td>0.326087</td>\n",
       "      <td>22.000000</td>\n",
       "      <td>0.0</td>\n",
       "    </tr>\n",
       "    <tr>\n",
       "      <th>1</th>\n",
       "      <td>CS1113</td>\n",
       "      <td>36</td>\n",
       "      <td>19</td>\n",
       "      <td>1490</td>\n",
       "      <td>47</td>\n",
       "      <td>0.404255</td>\n",
       "      <td>31.702128</td>\n",
       "      <td>0.0</td>\n",
       "    </tr>\n",
       "    <tr>\n",
       "      <th>2</th>\n",
       "      <td>CS1114</td>\n",
       "      <td>33</td>\n",
       "      <td>19</td>\n",
       "      <td>1432</td>\n",
       "      <td>45</td>\n",
       "      <td>0.422222</td>\n",
       "      <td>31.822222</td>\n",
       "      <td>1.0</td>\n",
       "    </tr>\n",
       "    <tr>\n",
       "      <th>3</th>\n",
       "      <td>CS1115</td>\n",
       "      <td>12</td>\n",
       "      <td>22</td>\n",
       "      <td>1659</td>\n",
       "      <td>44</td>\n",
       "      <td>0.500000</td>\n",
       "      <td>37.704545</td>\n",
       "      <td>1.0</td>\n",
       "    </tr>\n",
       "    <tr>\n",
       "      <th>4</th>\n",
       "      <td>CS1116</td>\n",
       "      <td>204</td>\n",
       "      <td>13</td>\n",
       "      <td>857</td>\n",
       "      <td>46</td>\n",
       "      <td>0.282609</td>\n",
       "      <td>18.630435</td>\n",
       "      <td>1.0</td>\n",
       "    </tr>\n",
       "  </tbody>\n",
       "</table>\n",
       "</div>"
      ],
      "text/plain": [
       "  customer_id  recency  total_frequency  total_monetary  customer_month  \\\n",
       "0      CS1112       62               15            1012              46   \n",
       "1      CS1113       36               19            1490              47   \n",
       "2      CS1114       33               19            1432              45   \n",
       "3      CS1115       12               22            1659              44   \n",
       "4      CS1116      204               13             857              46   \n",
       "\n",
       "   avg_frequency  avg_monetary  response  \n",
       "0       0.326087     22.000000       0.0  \n",
       "1       0.404255     31.702128       0.0  \n",
       "2       0.422222     31.822222       1.0  \n",
       "3       0.500000     37.704545       1.0  \n",
       "4       0.282609     18.630435       1.0  "
      ]
     },
     "execution_count": 20,
     "metadata": {},
     "output_type": "execute_result"
    }
   ],
   "source": [
    "# filter ข้อมูลที่เป็น null\n",
    "predict_df = customer_df.merge(resp_df,on=['customer_id'],how='left')\n",
    "print(\"Null columns\",predict_df.isnull().sum())\n",
    "\n",
    "predict_df = predict_df[~predict_df.response.isnull()]\n",
    "predict_df.head()"
   ]
  },
  {
   "cell_type": "markdown",
   "metadata": {},
   "source": [
    "### 5.3 predict campaing response #2"
   ]
  },
  {
   "cell_type": "code",
   "execution_count": 21,
   "metadata": {
    "scrolled": false
   },
   "outputs": [
    {
     "name": "stdout",
     "output_type": "stream",
     "text": [
      "X: ----------------\n",
      "   recency  avg_frequency  avg_monetary\n",
      "0       62       0.326087     22.000000\n",
      "1       36       0.404255     31.702128\n",
      "2       33       0.422222     31.822222\n",
      "3       12       0.500000     37.704545\n",
      "4      204       0.282609     18.630435\n",
      "\n",
      "y: ----------------\n",
      "0    0.0\n",
      "1    0.0\n",
      "2    1.0\n",
      "3    1.0\n",
      "4    1.0\n",
      "Name: response, dtype: float64\n",
      "\n",
      "Dimension of train and test data: -------------\n",
      "X_train dataset:  (4818, 3)\n",
      "y_train dataset:  (4818,)\n",
      "X_test dataset:  (2066, 3)\n",
      "y_test dataset:  (2066,)\n",
      "\n",
      "Dimension after fixing imbalance issue: -------------\n",
      "X_sm dataset:  (8776, 3)\n",
      "y_sm dataset:  (8776,)\n",
      "[0]\tvalidation_0-auc:0.70280\n",
      "[1]\tvalidation_0-auc:0.70355\n",
      "[2]\tvalidation_0-auc:0.70168\n",
      "[3]\tvalidation_0-auc:0.70729\n",
      "[4]\tvalidation_0-auc:0.70929\n",
      "[5]\tvalidation_0-auc:0.71270\n",
      "[6]\tvalidation_0-auc:0.71378\n",
      "[7]\tvalidation_0-auc:0.70617\n",
      "[8]\tvalidation_0-auc:0.70509\n",
      "[9]\tvalidation_0-auc:0.70526\n",
      "[10]\tvalidation_0-auc:0.70545\n",
      "\n",
      "Training Set's Results ------------------------------------\n",
      "\n",
      "              precision    recall  f1-score   support\n",
      "\n",
      "         0.0       0.87      0.67      0.76      4388\n",
      "         1.0       0.73      0.90      0.81      4388\n",
      "\n",
      "    accuracy                           0.78      8776\n",
      "   macro avg       0.80      0.78      0.78      8776\n",
      "weighted avg       0.80      0.78      0.78      8776\n",
      "\n",
      "\n",
      "Testing Set's Results ------------------------------------\n",
      "\n",
      "              precision    recall  f1-score   support\n",
      "\n",
      "         0.0       0.94      0.64      0.76      1849\n",
      "         1.0       0.17      0.64      0.27       217\n",
      "\n",
      "    accuracy                           0.64      2066\n",
      "   macro avg       0.55      0.64      0.52      2066\n",
      "weighted avg       0.86      0.64      0.71      2066\n",
      "\n"
     ]
    },
    {
     "name": "stderr",
     "output_type": "stream",
     "text": [
      "/Users/nueng/opt/anaconda3/lib/python3.8/site-packages/xgboost/sklearn.py:888: UserWarning: The use of label encoder in XGBClassifier is deprecated and will be removed in a future release. To remove this warning, do the following: 1) Pass option use_label_encoder=False when constructing XGBClassifier object; and 2) Encode your labels (y) as integers starting with 0, i.e. 0, 1, 2, ..., [num_class - 1].\n",
      "  warnings.warn(label_encoder_deprecation_msg, UserWarning)\n"
     ]
    },
    {
     "data": {
      "image/png": "[encoded data removed]",
      "text/plain": [
       "<Figure size 720x432 with 1 Axes>"
      ]
     },
     "metadata": {
      "needs_background": "light"
     },
     "output_type": "display_data"
    }
   ],
   "source": [
    "X = predict_df[['recency','avg_frequency','avg_monetary']]\n",
    "y = predict_df['response']\n",
    "print(\"X: ----------------\")\n",
    "print(X.head())\n",
    "print(\"\\ny: ----------------\")\n",
    "print(y.head())\n",
    "\n",
    "campaign_prediction(X,y)"
   ]
  },
  {
   "cell_type": "markdown",
   "metadata": {},
   "source": [
    "# 6. Predict Campaign Reponse #3\n",
    "## 6.1 Feature engineering (ฉบับปรับปรุง #2)\n",
    "### จัดกลุ่มค่า recency, avg_frequency, avg_monetary ออกเป็น 5 กลุ่ม และคำนวนออกมาเป็นค่า rfm score"
   ]
  },
  {
   "cell_type": "code",
   "execution_count": 22,
   "metadata": {
    "scrolled": true
   },
   "outputs": [
    {
     "data": {
      "text/html": [
       "<div>\n",
       "<style scoped>\n",
       "    .dataframe tbody tr th:only-of-type {\n",
       "        vertical-align: middle;\n",
       "    }\n",
       "\n",
       "    .dataframe tbody tr th {\n",
       "        vertical-align: top;\n",
       "    }\n",
       "\n",
       "    .dataframe thead th {\n",
       "        text-align: right;\n",
       "    }\n",
       "</style>\n",
       "<table border=\"1\" class=\"dataframe\">\n",
       "  <thead>\n",
       "    <tr style=\"text-align: right;\">\n",
       "      <th></th>\n",
       "      <th>customer_id</th>\n",
       "      <th>recency</th>\n",
       "      <th>total_frequency</th>\n",
       "      <th>total_monetary</th>\n",
       "      <th>customer_month</th>\n",
       "      <th>avg_frequency</th>\n",
       "      <th>avg_monetary</th>\n",
       "      <th>r</th>\n",
       "      <th>f</th>\n",
       "      <th>m</th>\n",
       "      <th>rfm_score</th>\n",
       "    </tr>\n",
       "  </thead>\n",
       "  <tbody>\n",
       "    <tr>\n",
       "      <th>0</th>\n",
       "      <td>CS1112</td>\n",
       "      <td>62</td>\n",
       "      <td>15</td>\n",
       "      <td>1012</td>\n",
       "      <td>46</td>\n",
       "      <td>0.326087</td>\n",
       "      <td>22.000000</td>\n",
       "      <td>3</td>\n",
       "      <td>2</td>\n",
       "      <td>2</td>\n",
       "      <td>7</td>\n",
       "    </tr>\n",
       "    <tr>\n",
       "      <th>1</th>\n",
       "      <td>CS1113</td>\n",
       "      <td>36</td>\n",
       "      <td>19</td>\n",
       "      <td>1490</td>\n",
       "      <td>47</td>\n",
       "      <td>0.404255</td>\n",
       "      <td>31.702128</td>\n",
       "      <td>4</td>\n",
       "      <td>3</td>\n",
       "      <td>4</td>\n",
       "      <td>11</td>\n",
       "    </tr>\n",
       "    <tr>\n",
       "      <th>2</th>\n",
       "      <td>CS1114</td>\n",
       "      <td>33</td>\n",
       "      <td>19</td>\n",
       "      <td>1432</td>\n",
       "      <td>45</td>\n",
       "      <td>0.422222</td>\n",
       "      <td>31.822222</td>\n",
       "      <td>4</td>\n",
       "      <td>3</td>\n",
       "      <td>4</td>\n",
       "      <td>11</td>\n",
       "    </tr>\n",
       "    <tr>\n",
       "      <th>3</th>\n",
       "      <td>CS1115</td>\n",
       "      <td>12</td>\n",
       "      <td>22</td>\n",
       "      <td>1659</td>\n",
       "      <td>44</td>\n",
       "      <td>0.500000</td>\n",
       "      <td>37.704545</td>\n",
       "      <td>5</td>\n",
       "      <td>4</td>\n",
       "      <td>5</td>\n",
       "      <td>14</td>\n",
       "    </tr>\n",
       "    <tr>\n",
       "      <th>4</th>\n",
       "      <td>CS1116</td>\n",
       "      <td>204</td>\n",
       "      <td>13</td>\n",
       "      <td>857</td>\n",
       "      <td>46</td>\n",
       "      <td>0.282609</td>\n",
       "      <td>18.630435</td>\n",
       "      <td>1</td>\n",
       "      <td>1</td>\n",
       "      <td>2</td>\n",
       "      <td>4</td>\n",
       "    </tr>\n",
       "  </tbody>\n",
       "</table>\n",
       "</div>"
      ],
      "text/plain": [
       "  customer_id  recency  total_frequency  total_monetary  customer_month  \\\n",
       "0      CS1112       62               15            1012              46   \n",
       "1      CS1113       36               19            1490              47   \n",
       "2      CS1114       33               19            1432              45   \n",
       "3      CS1115       12               22            1659              44   \n",
       "4      CS1116      204               13             857              46   \n",
       "\n",
       "   avg_frequency  avg_monetary  r  f  m  rfm_score  \n",
       "0       0.326087     22.000000  3  2  2          7  \n",
       "1       0.404255     31.702128  4  3  4         11  \n",
       "2       0.422222     31.822222  4  3  4         11  \n",
       "3       0.500000     37.704545  5  4  5         14  \n",
       "4       0.282609     18.630435  1  1  2          4  "
      ]
     },
     "execution_count": 22,
     "metadata": {},
     "output_type": "execute_result"
    }
   ],
   "source": [
    "# Building RFM Features\n",
    "customer_df['r'] = pd.qcut(customer_df['recency'], q=5, labels = range(5,0,-1)).astype(int)\n",
    "customer_df['f'] = pd.qcut(customer_df['avg_frequency'],q=5, labels = range(1, 6)).astype(int)\n",
    "customer_df['m'] = pd.qcut(customer_df['avg_monetary'],q=5,labels = range(1, 6)).astype(int)\n",
    "customer_df['rfm_score'] = customer_df[['r','f','m']].sum(axis=1)\n",
    "customer_df.head()"
   ]
  },
  {
   "cell_type": "markdown",
   "metadata": {},
   "source": [
    "## 6.2 merge 2 datasets (Customer's data and Campaign respose's data)"
   ]
  },
  {
   "cell_type": "code",
   "execution_count": 23,
   "metadata": {},
   "outputs": [
    {
     "name": "stdout",
     "output_type": "stream",
     "text": [
      "Null columns customer_id        0\n",
      "recency            0\n",
      "total_frequency    0\n",
      "total_monetary     0\n",
      "customer_month     0\n",
      "avg_frequency      0\n",
      "avg_monetary       0\n",
      "r                  0\n",
      "f                  0\n",
      "m                  0\n",
      "rfm_score          0\n",
      "response           5\n",
      "dtype: int64\n"
     ]
    },
    {
     "data": {
      "text/html": [
       "<div>\n",
       "<style scoped>\n",
       "    .dataframe tbody tr th:only-of-type {\n",
       "        vertical-align: middle;\n",
       "    }\n",
       "\n",
       "    .dataframe tbody tr th {\n",
       "        vertical-align: top;\n",
       "    }\n",
       "\n",
       "    .dataframe thead th {\n",
       "        text-align: right;\n",
       "    }\n",
       "</style>\n",
       "<table border=\"1\" class=\"dataframe\">\n",
       "  <thead>\n",
       "    <tr style=\"text-align: right;\">\n",
       "      <th></th>\n",
       "      <th>customer_id</th>\n",
       "      <th>recency</th>\n",
       "      <th>total_frequency</th>\n",
       "      <th>total_monetary</th>\n",
       "      <th>customer_month</th>\n",
       "      <th>avg_frequency</th>\n",
       "      <th>avg_monetary</th>\n",
       "      <th>r</th>\n",
       "      <th>f</th>\n",
       "      <th>m</th>\n",
       "      <th>rfm_score</th>\n",
       "      <th>response</th>\n",
       "    </tr>\n",
       "  </thead>\n",
       "  <tbody>\n",
       "    <tr>\n",
       "      <th>0</th>\n",
       "      <td>CS1112</td>\n",
       "      <td>62</td>\n",
       "      <td>15</td>\n",
       "      <td>1012</td>\n",
       "      <td>46</td>\n",
       "      <td>0.326087</td>\n",
       "      <td>22.000000</td>\n",
       "      <td>3</td>\n",
       "      <td>2</td>\n",
       "      <td>2</td>\n",
       "      <td>7</td>\n",
       "      <td>0.0</td>\n",
       "    </tr>\n",
       "    <tr>\n",
       "      <th>1</th>\n",
       "      <td>CS1113</td>\n",
       "      <td>36</td>\n",
       "      <td>19</td>\n",
       "      <td>1490</td>\n",
       "      <td>47</td>\n",
       "      <td>0.404255</td>\n",
       "      <td>31.702128</td>\n",
       "      <td>4</td>\n",
       "      <td>3</td>\n",
       "      <td>4</td>\n",
       "      <td>11</td>\n",
       "      <td>0.0</td>\n",
       "    </tr>\n",
       "    <tr>\n",
       "      <th>2</th>\n",
       "      <td>CS1114</td>\n",
       "      <td>33</td>\n",
       "      <td>19</td>\n",
       "      <td>1432</td>\n",
       "      <td>45</td>\n",
       "      <td>0.422222</td>\n",
       "      <td>31.822222</td>\n",
       "      <td>4</td>\n",
       "      <td>3</td>\n",
       "      <td>4</td>\n",
       "      <td>11</td>\n",
       "      <td>1.0</td>\n",
       "    </tr>\n",
       "    <tr>\n",
       "      <th>3</th>\n",
       "      <td>CS1115</td>\n",
       "      <td>12</td>\n",
       "      <td>22</td>\n",
       "      <td>1659</td>\n",
       "      <td>44</td>\n",
       "      <td>0.500000</td>\n",
       "      <td>37.704545</td>\n",
       "      <td>5</td>\n",
       "      <td>4</td>\n",
       "      <td>5</td>\n",
       "      <td>14</td>\n",
       "      <td>1.0</td>\n",
       "    </tr>\n",
       "    <tr>\n",
       "      <th>4</th>\n",
       "      <td>CS1116</td>\n",
       "      <td>204</td>\n",
       "      <td>13</td>\n",
       "      <td>857</td>\n",
       "      <td>46</td>\n",
       "      <td>0.282609</td>\n",
       "      <td>18.630435</td>\n",
       "      <td>1</td>\n",
       "      <td>1</td>\n",
       "      <td>2</td>\n",
       "      <td>4</td>\n",
       "      <td>1.0</td>\n",
       "    </tr>\n",
       "  </tbody>\n",
       "</table>\n",
       "</div>"
      ],
      "text/plain": [
       "  customer_id  recency  total_frequency  total_monetary  customer_month  \\\n",
       "0      CS1112       62               15            1012              46   \n",
       "1      CS1113       36               19            1490              47   \n",
       "2      CS1114       33               19            1432              45   \n",
       "3      CS1115       12               22            1659              44   \n",
       "4      CS1116      204               13             857              46   \n",
       "\n",
       "   avg_frequency  avg_monetary  r  f  m  rfm_score  response  \n",
       "0       0.326087     22.000000  3  2  2          7       0.0  \n",
       "1       0.404255     31.702128  4  3  4         11       0.0  \n",
       "2       0.422222     31.822222  4  3  4         11       1.0  \n",
       "3       0.500000     37.704545  5  4  5         14       1.0  \n",
       "4       0.282609     18.630435  1  1  2          4       1.0  "
      ]
     },
     "execution_count": 23,
     "metadata": {},
     "output_type": "execute_result"
    }
   ],
   "source": [
    "# filter ข้อมูลที่เป็น null\n",
    "predict_df = customer_df.merge(resp_df,on=['customer_id'],how='left')\n",
    "print(\"Null columns\",predict_df.isnull().sum())\n",
    "\n",
    "predict_df = predict_df[~predict_df.response.isnull()]\n",
    "predict_df.head()"
   ]
  },
  {
   "cell_type": "markdown",
   "metadata": {},
   "source": [
    "## 6.3 predict campaing response #3"
   ]
  },
  {
   "cell_type": "code",
   "execution_count": 24,
   "metadata": {},
   "outputs": [
    {
     "name": "stdout",
     "output_type": "stream",
     "text": [
      "X: ----------------\n",
      "   recency  avg_frequency  avg_monetary  r  f  m  rfm_score\n",
      "0       62       0.326087     22.000000  3  2  2          7\n",
      "1       36       0.404255     31.702128  4  3  4         11\n",
      "2       33       0.422222     31.822222  4  3  4         11\n",
      "3       12       0.500000     37.704545  5  4  5         14\n",
      "4      204       0.282609     18.630435  1  1  2          4\n",
      "\n",
      "y: ----------------\n",
      "0    0.0\n",
      "1    0.0\n",
      "2    1.0\n",
      "3    1.0\n",
      "4    1.0\n",
      "Name: response, dtype: float64\n",
      "\n",
      "Dimension of train and test data: -------------\n",
      "X_train dataset:  (4818, 7)\n",
      "y_train dataset:  (4818,)\n",
      "X_test dataset:  (2066, 7)\n",
      "y_test dataset:  (2066,)\n",
      "\n",
      "Dimension after fixing imbalance issue: -------------\n",
      "X_sm dataset:  (8776, 7)\n",
      "y_sm dataset:  (8776,)\n",
      "[0]\tvalidation_0-auc:0.69315\n",
      "[1]\tvalidation_0-auc:0.70282\n",
      "[2]\tvalidation_0-auc:0.70912\n",
      "[3]\tvalidation_0-auc:0.71245\n",
      "[4]\tvalidation_0-auc:0.71166\n",
      "[5]\tvalidation_0-auc:0.71513\n",
      "[6]\tvalidation_0-auc:0.71144\n",
      "[7]\tvalidation_0-auc:0.71293\n",
      "[8]\tvalidation_0-auc:0.70909\n",
      "[9]\tvalidation_0-auc:0.70979\n",
      "[10]\tvalidation_0-auc:0.70942\n",
      "\n",
      "Training Set's Results ------------------------------------\n",
      "\n",
      "              precision    recall  f1-score   support\n",
      "\n",
      "         0.0       0.87      0.71      0.78      4388\n",
      "         1.0       0.76      0.89      0.82      4388\n",
      "\n",
      "    accuracy                           0.80      8776\n",
      "   macro avg       0.81      0.80      0.80      8776\n",
      "weighted avg       0.81      0.80      0.80      8776\n",
      "\n",
      "\n",
      "Testing Set's Results ------------------------------------\n",
      "\n"
     ]
    },
    {
     "name": "stderr",
     "output_type": "stream",
     "text": [
      "/Users/nueng/opt/anaconda3/lib/python3.8/site-packages/xgboost/sklearn.py:888: UserWarning: The use of label encoder in XGBClassifier is deprecated and will be removed in a future release. To remove this warning, do the following: 1) Pass option use_label_encoder=False when constructing XGBClassifier object; and 2) Encode your labels (y) as integers starting with 0, i.e. 0, 1, 2, ..., [num_class - 1].\n",
      "  warnings.warn(label_encoder_deprecation_msg, UserWarning)\n"
     ]
    },
    {
     "name": "stdout",
     "output_type": "stream",
     "text": [
      "              precision    recall  f1-score   support\n",
      "\n",
      "         0.0       0.93      0.69      0.79      1849\n",
      "         1.0       0.18      0.57      0.27       217\n",
      "\n",
      "    accuracy                           0.68      2066\n",
      "   macro avg       0.56      0.63      0.53      2066\n",
      "weighted avg       0.85      0.68      0.74      2066\n",
      "\n"
     ]
    },
    {
     "data": {
      "image/png": "[encoded data removed]",
      "text/plain": [
       "<Figure size 720x432 with 1 Axes>"
      ]
     },
     "metadata": {
      "needs_background": "light"
     },
     "output_type": "display_data"
    }
   ],
   "source": [
    "X = predict_df[['recency','avg_frequency','avg_monetary','r','f','m','rfm_score']]\n",
    "y = predict_df['response']\n",
    "\n",
    "print(\"X: ----------------\")\n",
    "print(X.head())\n",
    "print(\"\\ny: ----------------\")\n",
    "print(y.head())\n",
    "\n",
    "campaign_prediction(X,y)"
   ]
  }
 ],
 "metadata": {
  "colab": {
   "authorship_tag": "ABX9TyPB/V7EnPAg5F7QOuHnmerW",
   "collapsed_sections": [
    "5ZKtUVUUXnTv",
    "uVsmfx7aYtmB",
    "F26FEqtAZ9hK",
    "pfCzlW-HbZNo",
    "MKLeuoi5c_t2",
    "QIxuTrNCita2",
    "BqiXugl6jIuz"
   ],
   "name": "Campaign Response Model.ipynb",
   "provenance": []
  },
  "kernelspec": {
   "display_name": "Python 3",
   "language": "python",
   "name": "python3"
  },
  "language_info": {
   "codemirror_mode": {
    "name": "ipython",
    "version": 3
   },
   "file_extension": ".py",
   "mimetype": "text/x-python",
   "name": "python",
   "nbconvert_exporter": "python",
   "pygments_lexer": "ipython3",
   "version": "3.8.5"
  }
 },
 "nbformat": 4,
 "nbformat_minor": 1
}
