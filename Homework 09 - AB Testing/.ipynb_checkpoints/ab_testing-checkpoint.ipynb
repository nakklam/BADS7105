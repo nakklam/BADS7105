{
 "cells": [
  {
   "cell_type": "markdown",
   "id": "359b9284",
   "metadata": {},
   "source": [
    "Name : ธีรพงค์ ศันสนียวรรธน์ <br>\n",
    "Date : 1 June 2564 <br>\n",
    "Description : <br>\n",
    "ทำ A/B Testing กับแบบสอบถามโดยใช้ Python <br> <br>\n",
    "\n",
    "เป็นส่วนหนึ่งของวิชา BADS 7105 Customer Analytics <br>\n",
    "อาจารย์ผู้สอน ดร. ธนชาตย์ ฤทธิ์บำรุง <br> <br>\n",
    "สาขาวิชาการวิเคราะธ์ธุรกิจและวิทยาการข้อมูล DS รุ่นที่ 5 <br>\n",
    "คณะสถิติประยุกต์ <br>\n",
    "สถาบันบัณฑิตพัฒนบริหารศาสตร์ (นิด้า) NIDA <br>"
   ]
  },
  {
   "cell_type": "code",
   "execution_count": 1,
   "id": "974617bf",
   "metadata": {},
   "outputs": [
    {
     "name": "stderr",
     "output_type": "stream",
     "text": [
      "/Users/nueng/opt/anaconda3/lib/python3.8/site-packages/statsmodels/tools/_testing.py:19: FutureWarning: pandas.util.testing is deprecated. Use the functions in the public API at pandas.testing instead.\n",
      "  import pandas.util.testing as tm\n"
     ]
    }
   ],
   "source": [
    "# Packages imports\n",
    "import numpy as np\n",
    "import pandas as pd\n",
    "import scipy.stats as stats\n",
    "import statsmodels.stats.api as sms\n",
    "import matplotlib as mpl\n",
    "import matplotlib.pyplot as plt\n",
    "import seaborn as sns\n",
    "from math import ceil\n",
    "\n",
    "import warnings\n",
    "warnings.simplefilter(action='ignore', category=FutureWarning)"
   ]
  },
  {
   "cell_type": "code",
   "execution_count": 2,
   "id": "11be62f4",
   "metadata": {},
   "outputs": [],
   "source": [
    "# Add Thai Font\n",
    "# ที่มา https://www.facebook.com/groups/colab.thailand/permalink/1421960354645985/\n",
    "import matplotlib as mpl\n",
    "plt.rcParams['font.family']='K2D'\n",
    "mpl.font_manager.fontManager.addfont('./fonts/K2D-Regular.ttf')\n",
    "mpl.rc('font', family='K2D', size=12, weight=200)"
   ]
  },
  {
   "cell_type": "markdown",
   "id": "34603d4a",
   "metadata": {},
   "source": [
    "# Load and View Dataset"
   ]
  },
  {
   "cell_type": "code",
   "execution_count": 3,
   "id": "885208fe",
   "metadata": {},
   "outputs": [
    {
     "data": {
      "text/html": [
       "<div>\n",
       "<style scoped>\n",
       "    .dataframe tbody tr th:only-of-type {\n",
       "        vertical-align: middle;\n",
       "    }\n",
       "\n",
       "    .dataframe tbody tr th {\n",
       "        vertical-align: top;\n",
       "    }\n",
       "\n",
       "    .dataframe thead th {\n",
       "        text-align: right;\n",
       "    }\n",
       "</style>\n",
       "<table border=\"1\" class=\"dataframe\">\n",
       "  <thead>\n",
       "    <tr style=\"text-align: right;\">\n",
       "      <th></th>\n",
       "      <th>User</th>\n",
       "      <th>Gender</th>\n",
       "      <th>หุ่นบาง</th>\n",
       "      <th>หุ่นมีกล้าม</th>\n",
       "    </tr>\n",
       "  </thead>\n",
       "  <tbody>\n",
       "    <tr>\n",
       "      <th>0</th>\n",
       "      <td>1</td>\n",
       "      <td>0</td>\n",
       "      <td>4</td>\n",
       "      <td>2</td>\n",
       "    </tr>\n",
       "    <tr>\n",
       "      <th>1</th>\n",
       "      <td>5</td>\n",
       "      <td>0</td>\n",
       "      <td>2</td>\n",
       "      <td>4</td>\n",
       "    </tr>\n",
       "    <tr>\n",
       "      <th>2</th>\n",
       "      <td>6</td>\n",
       "      <td>0</td>\n",
       "      <td>3</td>\n",
       "      <td>4</td>\n",
       "    </tr>\n",
       "    <tr>\n",
       "      <th>3</th>\n",
       "      <td>8</td>\n",
       "      <td>0</td>\n",
       "      <td>2</td>\n",
       "      <td>4</td>\n",
       "    </tr>\n",
       "    <tr>\n",
       "      <th>4</th>\n",
       "      <td>9</td>\n",
       "      <td>0</td>\n",
       "      <td>4</td>\n",
       "      <td>4</td>\n",
       "    </tr>\n",
       "  </tbody>\n",
       "</table>\n",
       "</div>"
      ],
      "text/plain": [
       "   User  Gender  หุ่นบาง  หุ่นมีกล้าม\n",
       "0     1       0        4            2\n",
       "1     5       0        2            4\n",
       "2     6       0        3            4\n",
       "3     8       0        2            4\n",
       "4     9       0        4            4"
      ]
     },
     "execution_count": 3,
     "metadata": {},
     "output_type": "execute_result"
    }
   ],
   "source": [
    "ab_test_df = pd.read_excel('./data/ab_test_data.xlsx')\n",
    "ab_test_df.head()"
   ]
  },
  {
   "cell_type": "code",
   "execution_count": 4,
   "id": "5e944d9a",
   "metadata": {},
   "outputs": [
    {
     "data": {
      "text/plain": [
       "0    15\n",
       "1    11\n",
       "Name: Gender, dtype: int64"
      ]
     },
     "execution_count": 4,
     "metadata": {},
     "output_type": "execute_result"
    }
   ],
   "source": [
    "ab_test_df['Gender'].value_counts()"
   ]
  },
  {
   "cell_type": "markdown",
   "id": "245a7e72",
   "metadata": {},
   "source": [
    "# 1. Normality Test\n",
    "ตรวจสอบว่าข้อมูลมีการกระจายตัวเป็น Gaussian Distribution หรือไม่"
   ]
  },
  {
   "cell_type": "code",
   "execution_count": 5,
   "id": "32bfa7b0",
   "metadata": {},
   "outputs": [
    {
     "name": "stdout",
     "output_type": "stream",
     "text": [
      "Testing Result of ab_test_df['หุ่นบาง']\n",
      "stat=0.853, p=0.002\n",
      "Probably do not have Gaussian distribution\n",
      "\n",
      "Testing Result of  ab_test_df['หุ่นมีกล้าม']\n",
      "stat=0.794, p=0.000\n",
      "Probably do not have Gaussian distribution\n"
     ]
    }
   ],
   "source": [
    "from scipy.stats import shapiro\n",
    "\n",
    "group1 = ab_test_df['หุ่นบาง'].tolist()\n",
    "group2 = ab_test_df['หุ่นมีกล้าม'].tolist()\n",
    "\n",
    "print(f'Testing Result of ab_test_df[\\'หุ่นบาง\\']')\n",
    "stat, p = shapiro(group1)\n",
    "print('stat=%.3f, p=%.3f' % (stat, p))\n",
    "if p > 0.05:\n",
    "    print('Probably has Gaussian distribution\\n')\n",
    "else:\n",
    "    print('Probably do not have Gaussian distribution\\n')\n",
    "    \n",
    "print(f'Testing Result of  ab_test_df[\\'หุ่นมีกล้าม\\']')\n",
    "stat, p = shapiro(group2)\n",
    "print('stat=%.3f, p=%.3f' % (stat, p))\n",
    "if p > 0.05:\n",
    "    print('Probably has Gaussian distribution')\n",
    "else:\n",
    "    print('Probably do not have Gaussian distribution')"
   ]
  },
  {
   "cell_type": "code",
   "execution_count": 6,
   "id": "0d9ede35",
   "metadata": {
    "scrolled": true
   },
   "outputs": [
    {
     "data": {
      "text/plain": [
       "<AxesSubplot:ylabel='Frequency'>"
      ]
     },
     "execution_count": 6,
     "metadata": {},
     "output_type": "execute_result"
    },
    {
     "data": {
      "image/png": "[encoded data removed]",
      "text/plain": [
       "<Figure size 432x288 with 1 Axes>"
      ]
     },
     "metadata": {
      "needs_background": "light"
     },
     "output_type": "display_data"
    }
   ],
   "source": [
    "ab_test_df['หุ่นบาง'].plot.hist(bins=5, alpha=0.5)"
   ]
  },
  {
   "cell_type": "code",
   "execution_count": 7,
   "id": "e7c21536",
   "metadata": {},
   "outputs": [
    {
     "data": {
      "text/plain": [
       "<AxesSubplot:ylabel='Frequency'>"
      ]
     },
     "execution_count": 7,
     "metadata": {},
     "output_type": "execute_result"
    },
    {
     "data": {
      "image/png": "[encoded data removed]",
      "text/plain": [
       "<Figure size 432x288 with 1 Axes>"
      ]
     },
     "metadata": {
      "needs_background": "light"
     },
     "output_type": "display_data"
    }
   ],
   "source": [
    "ab_test_df['หุ่นมีกล้าม'].plot.hist(bins=5, alpha=0.5)"
   ]
  },
  {
   "cell_type": "markdown",
   "id": "fbbf4993",
   "metadata": {},
   "source": [
    "# 2. Correlation Test\n",
    "ตรวจสอบว่าข้อมูล 2 กลุ่มเป็นอิสระกันหรือไม่ <br>\n",
    "### 2.1 Pearson's Correlation Coefficient\n",
    "H0: the two samples are independent<br>\n",
    "H1: there is a dependency between the samples<br>"
   ]
  },
  {
   "cell_type": "code",
   "execution_count": 8,
   "id": "e58308ee",
   "metadata": {},
   "outputs": [
    {
     "name": "stdout",
     "output_type": "stream",
     "text": [
      "stat=-0.387, p=0.051\n",
      "The two samples are independent.\n"
     ]
    }
   ],
   "source": [
    "from scipy.stats import pearsonr\n",
    "group1 = ab_test_df['หุ่นบาง'].tolist()\n",
    "group2 = ab_test_df['หุ่นมีกล้าม'].tolist()\n",
    "stat, p = pearsonr(group1, group2)\n",
    "\n",
    "print('stat=%.3f, p=%.3f' % (stat, p))\n",
    "if p > 0.05:\n",
    "    print('The two samples are independent.')\n",
    "else:\n",
    "    print('There is a dependency between the samples')"
   ]
  },
  {
   "cell_type": "markdown",
   "id": "3f4ac50d",
   "metadata": {},
   "source": [
    "### 2.2 Spearman's Rank Correlation Test\n",
    "H0: the two samples are independent <br>\n",
    "H1: there is a dependency between the samples  <br>"
   ]
  },
  {
   "cell_type": "code",
   "execution_count": 9,
   "id": "82fb8888",
   "metadata": {},
   "outputs": [
    {
     "name": "stdout",
     "output_type": "stream",
     "text": [
      "stat=-0.414, p=0.035\n",
      "Probably dependent: there is a dependency between the samples. \n"
     ]
    }
   ],
   "source": [
    "# Example of the Spearman's Rank Correlation Test\n",
    "from scipy.stats import spearmanr\n",
    "group1 = ab_test_df['หุ่นบาง'].tolist()\n",
    "group2 = ab_test_df['หุ่นมีกล้าม'].tolist()\n",
    "stat, p = spearmanr(group1, group2)\n",
    "print('stat=%.3f, p=%.3f' % (stat, p))\n",
    "if p > 0.05:\n",
    "    print('Probably independent: the two samples are independent.')\n",
    "else:\n",
    "    print('Probably dependent: there is a dependency between the samples. ')"
   ]
  },
  {
   "cell_type": "markdown",
   "id": "16d04db7",
   "metadata": {},
   "source": [
    "### The Paired t-test"
   ]
  },
  {
   "cell_type": "code",
   "execution_count": 10,
   "id": "78c404ba",
   "metadata": {},
   "outputs": [
    {
     "name": "stdout",
     "output_type": "stream",
     "text": [
      "stat=-0.219, p=0.828\n",
      "Probably has same distribution i.e H0: the means of the samples are equal.\n"
     ]
    }
   ],
   "source": [
    "# the Paired t-test for all dataset\n",
    "from scipy.stats import ttest_rel\n",
    "\n",
    "group1 = ab_test_df['หุ่นบาง'].tolist()\n",
    "group2 = ab_test_df['หุ่นมีกล้าม'].tolist()\n",
    "\n",
    "stat, p = ttest_rel(group1, group2)\n",
    "print('stat=%.3f, p=%.3f' % (stat, p))\n",
    "if p > 0.05:\n",
    "    print('Probably has same distribution i.e H0: the means of the samples are equal.')\n",
    "else:\n",
    "    print('Probably has different distributions i.e H1: the means of the samples are unequal.')"
   ]
  },
  {
   "cell_type": "code",
   "execution_count": 11,
   "id": "a42cde44",
   "metadata": {},
   "outputs": [
    {
     "name": "stdout",
     "output_type": "stream",
     "text": [
      "stat=-0.191, p=0.852\n",
      "Probably has same distribution i.e H0: the means of the samples are equal.\n"
     ]
    }
   ],
   "source": [
    "# the Paired t-test for male's dataset\n",
    "from scipy.stats import ttest_rel\n",
    "\n",
    "male_df = ab_test_df[ab_test_df['Gender']==1]\n",
    "\n",
    "group1 = male_df['หุ่นบาง'].tolist()\n",
    "group2 = male_df['หุ่นมีกล้าม'].tolist()\n",
    "\n",
    "stat, p = ttest_rel(group1, group2)\n",
    "print('stat=%.3f, p=%.3f' % (stat, p))\n",
    "if p > 0.05:\n",
    "    print('Probably has same distribution i.e H0: the means of the samples are equal.')\n",
    "else:\n",
    "    print('Probably has different distributions i.e H1: the means of the samples are unequal.')"
   ]
  },
  {
   "cell_type": "code",
   "execution_count": 12,
   "id": "12d89dd7",
   "metadata": {},
   "outputs": [
    {
     "name": "stdout",
     "output_type": "stream",
     "text": [
      "stat=-0.130, p=0.898\n",
      "Probably has same distribution i.e H0: the means of the samples are equal.\n"
     ]
    }
   ],
   "source": [
    "# the Paired t-test for female dataset\n",
    "from scipy.stats import ttest_rel\n",
    "\n",
    "female_df = ab_test_df[ab_test_df['Gender']==0]\n",
    "\n",
    "group1 = female_df['หุ่นบาง'].tolist()\n",
    "group2 = female_df['หุ่นมีกล้าม'].tolist()\n",
    "\n",
    "stat, p = ttest_rel(group1, group2)\n",
    "print('stat=%.3f, p=%.3f' % (stat, p))\n",
    "if p > 0.05:\n",
    "    print('Probably has same distribution i.e H0: the means of the samples are equal.')\n",
    "else:\n",
    "    print('Probably has different distributions i.e H1: the means of the samples are unequal.')"
   ]
  },
  {
   "cell_type": "markdown",
   "id": "6ed0b5cf",
   "metadata": {},
   "source": [
    "### ANOVA Test"
   ]
  },
  {
   "cell_type": "code",
   "execution_count": 13,
   "id": "147ac68f",
   "metadata": {},
   "outputs": [
    {
     "name": "stdout",
     "output_type": "stream",
     "text": [
      "stat=0.066, p=0.798\n",
      "Probably has same distribution i.e the means of the samples are equal.\n"
     ]
    }
   ],
   "source": [
    "# ANOVA Test for all dataset\n",
    "from scipy.stats import f_oneway\n",
    "\n",
    "group1 = ab_test_df['หุ่นบาง'].tolist()\n",
    "group2 = ab_test_df['หุ่นมีกล้าม'].tolist()\n",
    "\n",
    "stat, p = f_oneway(group1, group2)\n",
    "print('stat=%.3f, p=%.3f' % (stat, p))\n",
    "if p > 0.05:\n",
    "    print('Probably has same distribution i.e the means of the samples are equal.')\n",
    "else:\n",
    "    print('Probably has different distributions i.e one or more of the means of the samples are unequal.')"
   ]
  },
  {
   "cell_type": "code",
   "execution_count": 14,
   "id": "b54c4291",
   "metadata": {},
   "outputs": [
    {
     "name": "stdout",
     "output_type": "stream",
     "text": [
      "stat=0.043, p=0.837\n",
      "Probably has same distribution i.e the means of the samples are equal.\n"
     ]
    }
   ],
   "source": [
    "# ANOVA Test for male dataset\n",
    "from scipy.stats import f_oneway\n",
    "\n",
    "male_df = ab_test_df[ab_test_df['Gender']==1]\n",
    "\n",
    "group1 = male_df['หุ่นบาง'].tolist()\n",
    "group2 = male_df['หุ่นมีกล้าม'].tolist()\n",
    "\n",
    "stat, p = f_oneway(group1, group2)\n",
    "print('stat=%.3f, p=%.3f' % (stat, p))\n",
    "if p > 0.05:\n",
    "    print('Probably has same distribution i.e the means of the samples are equal.')\n",
    "else:\n",
    "    print('Probably has different distributions i.e one or more of the means of the samples are unequal.')"
   ]
  },
  {
   "cell_type": "code",
   "execution_count": 15,
   "id": "49c0527f",
   "metadata": {},
   "outputs": [
    {
     "name": "stdout",
     "output_type": "stream",
     "text": [
      "stat=0.025, p=0.875\n",
      "Probably has same distribution i.e the means of the samples are equal.\n"
     ]
    }
   ],
   "source": [
    "# ANOVA Test for female dataset\n",
    "from scipy.stats import f_oneway\n",
    "\n",
    "female_df = ab_test_df[ab_test_df['Gender']==0]\n",
    "\n",
    "group1 = female_df['หุ่นบาง'].tolist()\n",
    "group2 = female_df['หุ่นมีกล้าม'].tolist()\n",
    "\n",
    "stat, p = f_oneway(group1, group2)\n",
    "print('stat=%.3f, p=%.3f' % (stat, p))\n",
    "if p > 0.05:\n",
    "    print('Probably has same distribution i.e the means of the samples are equal.')\n",
    "else:\n",
    "    print('Probably has different distributions i.e one or more of the means of the samples are unequal.')"
   ]
  }
 ],
 "metadata": {
  "kernelspec": {
   "display_name": "Python 3",
   "language": "python",
   "name": "python3"
  },
  "language_info": {
   "codemirror_mode": {
    "name": "ipython",
    "version": 3
   },
   "file_extension": ".py",
   "mimetype": "text/x-python",
   "name": "python",
   "nbconvert_exporter": "python",
   "pygments_lexer": "ipython3",
   "version": "3.8.5"
  }
 },
 "nbformat": 4,
 "nbformat_minor": 5
}
